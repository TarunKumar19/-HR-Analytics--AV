{
 "cells": [
  {
   "cell_type": "code",
   "execution_count": 1,
   "id": "d0407749",
   "metadata": {},
   "outputs": [],
   "source": [
    "import numpy as np\n",
    "import pandas as pd\n",
    "import matplotlib.pyplot as plt\n",
    "import seaborn as sns\n",
    "%matplotlib inline\n",
    "sns.set()\n",
    "import warnings\n",
    "warnings.filterwarnings('ignore')\n",
    "import os\n",
    "from sklearn.metrics import confusion_matrix, classification_report, accuracy_score,f1_score"
   ]
  },
  {
   "cell_type": "code",
   "execution_count": 2,
   "id": "22f54d4f",
   "metadata": {},
   "outputs": [
    {
     "data": {
      "text/html": [
       "<div>\n",
       "<style scoped>\n",
       "    .dataframe tbody tr th:only-of-type {\n",
       "        vertical-align: middle;\n",
       "    }\n",
       "\n",
       "    .dataframe tbody tr th {\n",
       "        vertical-align: top;\n",
       "    }\n",
       "\n",
       "    .dataframe thead th {\n",
       "        text-align: right;\n",
       "    }\n",
       "</style>\n",
       "<table border=\"1\" class=\"dataframe\">\n",
       "  <thead>\n",
       "    <tr style=\"text-align: right;\">\n",
       "      <th></th>\n",
       "      <th>employee_id</th>\n",
       "      <th>department</th>\n",
       "      <th>region</th>\n",
       "      <th>education</th>\n",
       "      <th>gender</th>\n",
       "      <th>recruitment_channel</th>\n",
       "      <th>no_of_trainings</th>\n",
       "      <th>age</th>\n",
       "      <th>previous_year_rating</th>\n",
       "      <th>length_of_service</th>\n",
       "      <th>KPIs_met &gt;80%</th>\n",
       "      <th>awards_won?</th>\n",
       "      <th>avg_training_score</th>\n",
       "      <th>is_promoted</th>\n",
       "    </tr>\n",
       "  </thead>\n",
       "  <tbody>\n",
       "    <tr>\n",
       "      <th>0</th>\n",
       "      <td>65438</td>\n",
       "      <td>Sales &amp; Marketing</td>\n",
       "      <td>region_7</td>\n",
       "      <td>Master's &amp; above</td>\n",
       "      <td>f</td>\n",
       "      <td>sourcing</td>\n",
       "      <td>1</td>\n",
       "      <td>35</td>\n",
       "      <td>5.0</td>\n",
       "      <td>8</td>\n",
       "      <td>1</td>\n",
       "      <td>0</td>\n",
       "      <td>49</td>\n",
       "      <td>0</td>\n",
       "    </tr>\n",
       "    <tr>\n",
       "      <th>1</th>\n",
       "      <td>65141</td>\n",
       "      <td>Operations</td>\n",
       "      <td>region_22</td>\n",
       "      <td>Bachelor's</td>\n",
       "      <td>m</td>\n",
       "      <td>other</td>\n",
       "      <td>1</td>\n",
       "      <td>30</td>\n",
       "      <td>5.0</td>\n",
       "      <td>4</td>\n",
       "      <td>0</td>\n",
       "      <td>0</td>\n",
       "      <td>60</td>\n",
       "      <td>0</td>\n",
       "    </tr>\n",
       "    <tr>\n",
       "      <th>2</th>\n",
       "      <td>7513</td>\n",
       "      <td>Sales &amp; Marketing</td>\n",
       "      <td>region_19</td>\n",
       "      <td>Bachelor's</td>\n",
       "      <td>m</td>\n",
       "      <td>sourcing</td>\n",
       "      <td>1</td>\n",
       "      <td>34</td>\n",
       "      <td>3.0</td>\n",
       "      <td>7</td>\n",
       "      <td>0</td>\n",
       "      <td>0</td>\n",
       "      <td>50</td>\n",
       "      <td>0</td>\n",
       "    </tr>\n",
       "    <tr>\n",
       "      <th>3</th>\n",
       "      <td>2542</td>\n",
       "      <td>Sales &amp; Marketing</td>\n",
       "      <td>region_23</td>\n",
       "      <td>Bachelor's</td>\n",
       "      <td>m</td>\n",
       "      <td>other</td>\n",
       "      <td>2</td>\n",
       "      <td>39</td>\n",
       "      <td>1.0</td>\n",
       "      <td>10</td>\n",
       "      <td>0</td>\n",
       "      <td>0</td>\n",
       "      <td>50</td>\n",
       "      <td>0</td>\n",
       "    </tr>\n",
       "    <tr>\n",
       "      <th>4</th>\n",
       "      <td>48945</td>\n",
       "      <td>Technology</td>\n",
       "      <td>region_26</td>\n",
       "      <td>Bachelor's</td>\n",
       "      <td>m</td>\n",
       "      <td>other</td>\n",
       "      <td>1</td>\n",
       "      <td>45</td>\n",
       "      <td>3.0</td>\n",
       "      <td>2</td>\n",
       "      <td>0</td>\n",
       "      <td>0</td>\n",
       "      <td>73</td>\n",
       "      <td>0</td>\n",
       "    </tr>\n",
       "  </tbody>\n",
       "</table>\n",
       "</div>"
      ],
      "text/plain": [
       "   employee_id         department     region         education gender  \\\n",
       "0        65438  Sales & Marketing   region_7  Master's & above      f   \n",
       "1        65141         Operations  region_22        Bachelor's      m   \n",
       "2         7513  Sales & Marketing  region_19        Bachelor's      m   \n",
       "3         2542  Sales & Marketing  region_23        Bachelor's      m   \n",
       "4        48945         Technology  region_26        Bachelor's      m   \n",
       "\n",
       "  recruitment_channel  no_of_trainings  age  previous_year_rating  \\\n",
       "0            sourcing                1   35                   5.0   \n",
       "1               other                1   30                   5.0   \n",
       "2            sourcing                1   34                   3.0   \n",
       "3               other                2   39                   1.0   \n",
       "4               other                1   45                   3.0   \n",
       "\n",
       "   length_of_service  KPIs_met >80%  awards_won?  avg_training_score  \\\n",
       "0                  8              1            0                  49   \n",
       "1                  4              0            0                  60   \n",
       "2                  7              0            0                  50   \n",
       "3                 10              0            0                  50   \n",
       "4                  2              0            0                  73   \n",
       "\n",
       "   is_promoted  \n",
       "0            0  \n",
       "1            0  \n",
       "2            0  \n",
       "3            0  \n",
       "4            0  "
      ]
     },
     "execution_count": 2,
     "metadata": {},
     "output_type": "execute_result"
    }
   ],
   "source": [
    "train_df = pd.read_csv('train.csv')\n",
    "train_df.head()"
   ]
  },
  {
   "cell_type": "code",
   "execution_count": 3,
   "id": "72d450fd",
   "metadata": {},
   "outputs": [
    {
     "name": "stdout",
     "output_type": "stream",
     "text": [
      "<class 'pandas.core.frame.DataFrame'>\n",
      "RangeIndex: 54808 entries, 0 to 54807\n",
      "Data columns (total 14 columns):\n",
      " #   Column                Non-Null Count  Dtype  \n",
      "---  ------                --------------  -----  \n",
      " 0   employee_id           54808 non-null  int64  \n",
      " 1   department            54808 non-null  object \n",
      " 2   region                54808 non-null  object \n",
      " 3   education             52399 non-null  object \n",
      " 4   gender                54808 non-null  object \n",
      " 5   recruitment_channel   54808 non-null  object \n",
      " 6   no_of_trainings       54808 non-null  int64  \n",
      " 7   age                   54808 non-null  int64  \n",
      " 8   previous_year_rating  50684 non-null  float64\n",
      " 9   length_of_service     54808 non-null  int64  \n",
      " 10  KPIs_met >80%         54808 non-null  int64  \n",
      " 11  awards_won?           54808 non-null  int64  \n",
      " 12  avg_training_score    54808 non-null  int64  \n",
      " 13  is_promoted           54808 non-null  int64  \n",
      "dtypes: float64(1), int64(8), object(5)\n",
      "memory usage: 5.9+ MB\n"
     ]
    }
   ],
   "source": [
    "train_df.info()"
   ]
  },
  {
   "cell_type": "code",
   "execution_count": 4,
   "id": "58ef3593",
   "metadata": {},
   "outputs": [
    {
     "data": {
      "text/html": [
       "<div>\n",
       "<style scoped>\n",
       "    .dataframe tbody tr th:only-of-type {\n",
       "        vertical-align: middle;\n",
       "    }\n",
       "\n",
       "    .dataframe tbody tr th {\n",
       "        vertical-align: top;\n",
       "    }\n",
       "\n",
       "    .dataframe thead th {\n",
       "        text-align: right;\n",
       "    }\n",
       "</style>\n",
       "<table border=\"1\" class=\"dataframe\">\n",
       "  <thead>\n",
       "    <tr style=\"text-align: right;\">\n",
       "      <th></th>\n",
       "      <th>employee_id</th>\n",
       "      <th>department</th>\n",
       "      <th>region</th>\n",
       "      <th>education</th>\n",
       "      <th>gender</th>\n",
       "      <th>recruitment_channel</th>\n",
       "      <th>no_of_trainings</th>\n",
       "      <th>age</th>\n",
       "      <th>previous_year_rating</th>\n",
       "      <th>length_of_service</th>\n",
       "      <th>KPIs_met &gt;80%</th>\n",
       "      <th>awards_won?</th>\n",
       "      <th>avg_training_score</th>\n",
       "    </tr>\n",
       "  </thead>\n",
       "  <tbody>\n",
       "    <tr>\n",
       "      <th>0</th>\n",
       "      <td>8724</td>\n",
       "      <td>Technology</td>\n",
       "      <td>region_26</td>\n",
       "      <td>Bachelor's</td>\n",
       "      <td>m</td>\n",
       "      <td>sourcing</td>\n",
       "      <td>1</td>\n",
       "      <td>24</td>\n",
       "      <td>NaN</td>\n",
       "      <td>1</td>\n",
       "      <td>1</td>\n",
       "      <td>0</td>\n",
       "      <td>77</td>\n",
       "    </tr>\n",
       "    <tr>\n",
       "      <th>1</th>\n",
       "      <td>74430</td>\n",
       "      <td>HR</td>\n",
       "      <td>region_4</td>\n",
       "      <td>Bachelor's</td>\n",
       "      <td>f</td>\n",
       "      <td>other</td>\n",
       "      <td>1</td>\n",
       "      <td>31</td>\n",
       "      <td>3.0</td>\n",
       "      <td>5</td>\n",
       "      <td>0</td>\n",
       "      <td>0</td>\n",
       "      <td>51</td>\n",
       "    </tr>\n",
       "    <tr>\n",
       "      <th>2</th>\n",
       "      <td>72255</td>\n",
       "      <td>Sales &amp; Marketing</td>\n",
       "      <td>region_13</td>\n",
       "      <td>Bachelor's</td>\n",
       "      <td>m</td>\n",
       "      <td>other</td>\n",
       "      <td>1</td>\n",
       "      <td>31</td>\n",
       "      <td>1.0</td>\n",
       "      <td>4</td>\n",
       "      <td>0</td>\n",
       "      <td>0</td>\n",
       "      <td>47</td>\n",
       "    </tr>\n",
       "    <tr>\n",
       "      <th>3</th>\n",
       "      <td>38562</td>\n",
       "      <td>Procurement</td>\n",
       "      <td>region_2</td>\n",
       "      <td>Bachelor's</td>\n",
       "      <td>f</td>\n",
       "      <td>other</td>\n",
       "      <td>3</td>\n",
       "      <td>31</td>\n",
       "      <td>2.0</td>\n",
       "      <td>9</td>\n",
       "      <td>0</td>\n",
       "      <td>0</td>\n",
       "      <td>65</td>\n",
       "    </tr>\n",
       "    <tr>\n",
       "      <th>4</th>\n",
       "      <td>64486</td>\n",
       "      <td>Finance</td>\n",
       "      <td>region_29</td>\n",
       "      <td>Bachelor's</td>\n",
       "      <td>m</td>\n",
       "      <td>sourcing</td>\n",
       "      <td>1</td>\n",
       "      <td>30</td>\n",
       "      <td>4.0</td>\n",
       "      <td>7</td>\n",
       "      <td>0</td>\n",
       "      <td>0</td>\n",
       "      <td>61</td>\n",
       "    </tr>\n",
       "  </tbody>\n",
       "</table>\n",
       "</div>"
      ],
      "text/plain": [
       "   employee_id         department     region   education gender  \\\n",
       "0         8724         Technology  region_26  Bachelor's      m   \n",
       "1        74430                 HR   region_4  Bachelor's      f   \n",
       "2        72255  Sales & Marketing  region_13  Bachelor's      m   \n",
       "3        38562        Procurement   region_2  Bachelor's      f   \n",
       "4        64486            Finance  region_29  Bachelor's      m   \n",
       "\n",
       "  recruitment_channel  no_of_trainings  age  previous_year_rating  \\\n",
       "0            sourcing                1   24                   NaN   \n",
       "1               other                1   31                   3.0   \n",
       "2               other                1   31                   1.0   \n",
       "3               other                3   31                   2.0   \n",
       "4            sourcing                1   30                   4.0   \n",
       "\n",
       "   length_of_service  KPIs_met >80%  awards_won?  avg_training_score  \n",
       "0                  1              1            0                  77  \n",
       "1                  5              0            0                  51  \n",
       "2                  4              0            0                  47  \n",
       "3                  9              0            0                  65  \n",
       "4                  7              0            0                  61  "
      ]
     },
     "execution_count": 4,
     "metadata": {},
     "output_type": "execute_result"
    }
   ],
   "source": [
    "test_df = pd.read_csv('test.csv')\n",
    "test_df.head()"
   ]
  },
  {
   "cell_type": "code",
   "execution_count": 5,
   "id": "0a45283d",
   "metadata": {},
   "outputs": [
    {
     "data": {
      "text/plain": [
       "employee_id                0\n",
       "department                 0\n",
       "region                     0\n",
       "education               1034\n",
       "gender                     0\n",
       "recruitment_channel        0\n",
       "no_of_trainings            0\n",
       "age                        0\n",
       "previous_year_rating    1812\n",
       "length_of_service          0\n",
       "KPIs_met >80%              0\n",
       "awards_won?                0\n",
       "avg_training_score         0\n",
       "dtype: int64"
      ]
     },
     "execution_count": 5,
     "metadata": {},
     "output_type": "execute_result"
    }
   ],
   "source": [
    "test_df.isnull().sum()"
   ]
  },
  {
   "cell_type": "code",
   "execution_count": 6,
   "id": "e919750a",
   "metadata": {},
   "outputs": [
    {
     "data": {
      "text/html": [
       "<div>\n",
       "<style scoped>\n",
       "    .dataframe tbody tr th:only-of-type {\n",
       "        vertical-align: middle;\n",
       "    }\n",
       "\n",
       "    .dataframe tbody tr th {\n",
       "        vertical-align: top;\n",
       "    }\n",
       "\n",
       "    .dataframe thead th {\n",
       "        text-align: right;\n",
       "    }\n",
       "</style>\n",
       "<table border=\"1\" class=\"dataframe\">\n",
       "  <thead>\n",
       "    <tr style=\"text-align: right;\">\n",
       "      <th></th>\n",
       "      <th>employee_id</th>\n",
       "      <th>department</th>\n",
       "      <th>region</th>\n",
       "      <th>education</th>\n",
       "      <th>gender</th>\n",
       "      <th>recruitment_channel</th>\n",
       "      <th>no_of_trainings</th>\n",
       "      <th>age</th>\n",
       "      <th>previous_year_rating</th>\n",
       "      <th>length_of_service</th>\n",
       "      <th>KPIs_met &gt;80%</th>\n",
       "      <th>awards_won?</th>\n",
       "      <th>avg_training_score</th>\n",
       "      <th>is_promoted</th>\n",
       "    </tr>\n",
       "  </thead>\n",
       "  <tbody>\n",
       "    <tr>\n",
       "      <th>0</th>\n",
       "      <td>65438</td>\n",
       "      <td>Sales &amp; Marketing</td>\n",
       "      <td>region_7</td>\n",
       "      <td>Master's &amp; above</td>\n",
       "      <td>f</td>\n",
       "      <td>sourcing</td>\n",
       "      <td>1</td>\n",
       "      <td>35</td>\n",
       "      <td>5.0</td>\n",
       "      <td>8</td>\n",
       "      <td>1</td>\n",
       "      <td>0</td>\n",
       "      <td>49</td>\n",
       "      <td>0.0</td>\n",
       "    </tr>\n",
       "    <tr>\n",
       "      <th>1</th>\n",
       "      <td>65141</td>\n",
       "      <td>Operations</td>\n",
       "      <td>region_22</td>\n",
       "      <td>Bachelor's</td>\n",
       "      <td>m</td>\n",
       "      <td>other</td>\n",
       "      <td>1</td>\n",
       "      <td>30</td>\n",
       "      <td>5.0</td>\n",
       "      <td>4</td>\n",
       "      <td>0</td>\n",
       "      <td>0</td>\n",
       "      <td>60</td>\n",
       "      <td>0.0</td>\n",
       "    </tr>\n",
       "    <tr>\n",
       "      <th>2</th>\n",
       "      <td>7513</td>\n",
       "      <td>Sales &amp; Marketing</td>\n",
       "      <td>region_19</td>\n",
       "      <td>Bachelor's</td>\n",
       "      <td>m</td>\n",
       "      <td>sourcing</td>\n",
       "      <td>1</td>\n",
       "      <td>34</td>\n",
       "      <td>3.0</td>\n",
       "      <td>7</td>\n",
       "      <td>0</td>\n",
       "      <td>0</td>\n",
       "      <td>50</td>\n",
       "      <td>0.0</td>\n",
       "    </tr>\n",
       "    <tr>\n",
       "      <th>3</th>\n",
       "      <td>2542</td>\n",
       "      <td>Sales &amp; Marketing</td>\n",
       "      <td>region_23</td>\n",
       "      <td>Bachelor's</td>\n",
       "      <td>m</td>\n",
       "      <td>other</td>\n",
       "      <td>2</td>\n",
       "      <td>39</td>\n",
       "      <td>1.0</td>\n",
       "      <td>10</td>\n",
       "      <td>0</td>\n",
       "      <td>0</td>\n",
       "      <td>50</td>\n",
       "      <td>0.0</td>\n",
       "    </tr>\n",
       "    <tr>\n",
       "      <th>4</th>\n",
       "      <td>48945</td>\n",
       "      <td>Technology</td>\n",
       "      <td>region_26</td>\n",
       "      <td>Bachelor's</td>\n",
       "      <td>m</td>\n",
       "      <td>other</td>\n",
       "      <td>1</td>\n",
       "      <td>45</td>\n",
       "      <td>3.0</td>\n",
       "      <td>2</td>\n",
       "      <td>0</td>\n",
       "      <td>0</td>\n",
       "      <td>73</td>\n",
       "      <td>0.0</td>\n",
       "    </tr>\n",
       "  </tbody>\n",
       "</table>\n",
       "</div>"
      ],
      "text/plain": [
       "   employee_id         department     region         education gender  \\\n",
       "0        65438  Sales & Marketing   region_7  Master's & above      f   \n",
       "1        65141         Operations  region_22        Bachelor's      m   \n",
       "2         7513  Sales & Marketing  region_19        Bachelor's      m   \n",
       "3         2542  Sales & Marketing  region_23        Bachelor's      m   \n",
       "4        48945         Technology  region_26        Bachelor's      m   \n",
       "\n",
       "  recruitment_channel  no_of_trainings  age  previous_year_rating  \\\n",
       "0            sourcing                1   35                   5.0   \n",
       "1               other                1   30                   5.0   \n",
       "2            sourcing                1   34                   3.0   \n",
       "3               other                2   39                   1.0   \n",
       "4               other                1   45                   3.0   \n",
       "\n",
       "   length_of_service  KPIs_met >80%  awards_won?  avg_training_score  \\\n",
       "0                  8              1            0                  49   \n",
       "1                  4              0            0                  60   \n",
       "2                  7              0            0                  50   \n",
       "3                 10              0            0                  50   \n",
       "4                  2              0            0                  73   \n",
       "\n",
       "   is_promoted  \n",
       "0          0.0  \n",
       "1          0.0  \n",
       "2          0.0  \n",
       "3          0.0  \n",
       "4          0.0  "
      ]
     },
     "execution_count": 6,
     "metadata": {},
     "output_type": "execute_result"
    }
   ],
   "source": [
    "df=pd.concat([train_df,test_df])\n",
    "df.head()"
   ]
  },
  {
   "cell_type": "code",
   "execution_count": 7,
   "id": "9cdb7b60",
   "metadata": {},
   "outputs": [
    {
     "name": "stdout",
     "output_type": "stream",
     "text": [
      "<class 'pandas.core.frame.DataFrame'>\n",
      "Int64Index: 78298 entries, 0 to 23489\n",
      "Data columns (total 14 columns):\n",
      " #   Column                Non-Null Count  Dtype  \n",
      "---  ------                --------------  -----  \n",
      " 0   employee_id           78298 non-null  int64  \n",
      " 1   department            78298 non-null  object \n",
      " 2   region                78298 non-null  object \n",
      " 3   education             74855 non-null  object \n",
      " 4   gender                78298 non-null  object \n",
      " 5   recruitment_channel   78298 non-null  object \n",
      " 6   no_of_trainings       78298 non-null  int64  \n",
      " 7   age                   78298 non-null  int64  \n",
      " 8   previous_year_rating  72362 non-null  float64\n",
      " 9   length_of_service     78298 non-null  int64  \n",
      " 10  KPIs_met >80%         78298 non-null  int64  \n",
      " 11  awards_won?           78298 non-null  int64  \n",
      " 12  avg_training_score    78298 non-null  int64  \n",
      " 13  is_promoted           54808 non-null  float64\n",
      "dtypes: float64(2), int64(7), object(5)\n",
      "memory usage: 9.0+ MB\n"
     ]
    }
   ],
   "source": [
    "df.info()"
   ]
  },
  {
   "cell_type": "markdown",
   "id": "8069dcf5",
   "metadata": {},
   "source": [
    "## Filling null values"
   ]
  },
  {
   "cell_type": "code",
   "execution_count": 8,
   "id": "8a9bfb62",
   "metadata": {},
   "outputs": [
    {
     "data": {
      "text/plain": [
       "employee_id                 0\n",
       "department                  0\n",
       "region                      0\n",
       "education                3443\n",
       "gender                      0\n",
       "recruitment_channel         0\n",
       "no_of_trainings             0\n",
       "age                         0\n",
       "previous_year_rating     5936\n",
       "length_of_service           0\n",
       "KPIs_met >80%               0\n",
       "awards_won?                 0\n",
       "avg_training_score          0\n",
       "is_promoted             23490\n",
       "dtype: int64"
      ]
     },
     "execution_count": 8,
     "metadata": {},
     "output_type": "execute_result"
    }
   ],
   "source": [
    "df.isnull().sum()"
   ]
  },
  {
   "cell_type": "code",
   "execution_count": 9,
   "id": "e5cd7ee3",
   "metadata": {},
   "outputs": [
    {
     "data": {
      "text/plain": [
       "Bachelor's          52247\n",
       "Master's & above    21429\n",
       "Below Secondary      1179\n",
       "Name: education, dtype: int64"
      ]
     },
     "execution_count": 9,
     "metadata": {},
     "output_type": "execute_result"
    }
   ],
   "source": [
    "df['education'].value_counts()"
   ]
  },
  {
   "cell_type": "code",
   "execution_count": 10,
   "id": "220ad292",
   "metadata": {},
   "outputs": [],
   "source": [
    "df['education'].fillna(\"unknown\",inplace=True)"
   ]
  },
  {
   "cell_type": "code",
   "execution_count": 11,
   "id": "385f40a4",
   "metadata": {},
   "outputs": [
    {
     "data": {
      "text/plain": [
       "3.0    26539\n",
       "5.0    16838\n",
       "4.0    14126\n",
       "1.0     8903\n",
       "2.0     5956\n",
       "Name: previous_year_rating, dtype: int64"
      ]
     },
     "execution_count": 11,
     "metadata": {},
     "output_type": "execute_result"
    }
   ],
   "source": [
    "df['previous_year_rating'].value_counts()"
   ]
  },
  {
   "cell_type": "code",
   "execution_count": 12,
   "id": "b8b13b8a",
   "metadata": {},
   "outputs": [],
   "source": [
    "#The 'previous_year_rating' represent the score of employees based on the previous year \n",
    "#We have one more column in the data which represent the duration of employees ('length_of_service')"
   ]
  },
  {
   "cell_type": "code",
   "execution_count": 13,
   "id": "e1f716eb",
   "metadata": {},
   "outputs": [
    {
     "data": {
      "text/plain": [
       "count    5936.0\n",
       "mean        1.0\n",
       "std         0.0\n",
       "min         1.0\n",
       "25%         1.0\n",
       "50%         1.0\n",
       "75%         1.0\n",
       "max         1.0\n",
       "Name: length_of_service, dtype: float64"
      ]
     },
     "execution_count": 13,
     "metadata": {},
     "output_type": "execute_result"
    }
   ],
   "source": [
    "df[df.previous_year_rating.isnull()]['length_of_service'].describe()"
   ]
  },
  {
   "cell_type": "code",
   "execution_count": 14,
   "id": "96416be0",
   "metadata": {},
   "outputs": [],
   "source": [
    "#'length_of_service' is 1 for all Nan values in 'previous_year_rating', this is beacuse they are fresheres in the company"
   ]
  },
  {
   "cell_type": "code",
   "execution_count": 15,
   "id": "2a634f85",
   "metadata": {},
   "outputs": [],
   "source": [
    "df['previous_year_rating'].fillna(0,inplace=True)"
   ]
  },
  {
   "cell_type": "code",
   "execution_count": 16,
   "id": "c2fdaddc",
   "metadata": {},
   "outputs": [
    {
     "data": {
      "text/plain": [
       "employee_id                 0\n",
       "department                  0\n",
       "region                      0\n",
       "education                   0\n",
       "gender                      0\n",
       "recruitment_channel         0\n",
       "no_of_trainings             0\n",
       "age                         0\n",
       "previous_year_rating        0\n",
       "length_of_service           0\n",
       "KPIs_met >80%               0\n",
       "awards_won?                 0\n",
       "avg_training_score          0\n",
       "is_promoted             23490\n",
       "dtype: int64"
      ]
     },
     "execution_count": 16,
     "metadata": {},
     "output_type": "execute_result"
    }
   ],
   "source": [
    "df.isnull().sum()"
   ]
  },
  {
   "cell_type": "markdown",
   "id": "48160aac",
   "metadata": {},
   "source": [
    "## EDA & New features"
   ]
  },
  {
   "cell_type": "code",
   "execution_count": 17,
   "id": "ed1c621b",
   "metadata": {},
   "outputs": [
    {
     "data": {
      "text/plain": [
       "Index(['employee_id', 'department', 'region', 'education', 'gender',\n",
       "       'recruitment_channel', 'no_of_trainings', 'age', 'previous_year_rating',\n",
       "       'length_of_service', 'KPIs_met >80%', 'awards_won?',\n",
       "       'avg_training_score', 'is_promoted'],\n",
       "      dtype='object')"
      ]
     },
     "execution_count": 17,
     "metadata": {},
     "output_type": "execute_result"
    }
   ],
   "source": [
    "df.columns"
   ]
  },
  {
   "cell_type": "code",
   "execution_count": 18,
   "id": "b60e34b4",
   "metadata": {},
   "outputs": [
    {
     "data": {
      "image/png": "[encoded data removed]",
      "text/plain": [
       "<Figure size 1080x360 with 1 Axes>"
      ]
     },
     "metadata": {},
     "output_type": "display_data"
    }
   ],
   "source": [
    "plt.figure(figsize=(15,5))\n",
    "sns.countplot(x='education',hue='is_promoted',data=df)\n",
    "plt.show()"
   ]
  },
  {
   "cell_type": "code",
   "execution_count": 19,
   "id": "7c56b86a",
   "metadata": {},
   "outputs": [
    {
     "data": {
      "image/png": "[encoded data removed]",
      "text/plain": [
       "<Figure size 1080x360 with 1 Axes>"
      ]
     },
     "metadata": {},
     "output_type": "display_data"
    }
   ],
   "source": [
    "plt.figure(figsize=(15,5))\n",
    "sns.countplot(x='department',hue='is_promoted',data=df)\n",
    "plt.show()"
   ]
  },
  {
   "cell_type": "code",
   "execution_count": 20,
   "id": "3549b112",
   "metadata": {},
   "outputs": [
    {
     "data": {
      "image/png": "[encoded data removed]",
      "text/plain": [
       "<Figure size 1800x432 with 1 Axes>"
      ]
     },
     "metadata": {},
     "output_type": "display_data"
    }
   ],
   "source": [
    "plt.figure(figsize=(25,6))\n",
    "sns.countplot(x='region',hue='is_promoted',data=df)\n",
    "plt.show()"
   ]
  },
  {
   "cell_type": "code",
   "execution_count": 21,
   "id": "5b6fc7fb",
   "metadata": {},
   "outputs": [
    {
     "data": {
      "image/png": "[encoded data removed]",
      "text/plain": [
       "<Figure size 1800x360 with 1 Axes>"
      ]
     },
     "metadata": {},
     "output_type": "display_data"
    }
   ],
   "source": [
    "plt.figure(figsize=(25,5))\n",
    "sns.countplot(x='gender',hue='is_promoted',data=df)\n",
    "plt.show()"
   ]
  },
  {
   "cell_type": "code",
   "execution_count": 22,
   "id": "b9ec4002",
   "metadata": {},
   "outputs": [
    {
     "data": {
      "image/png": "[encoded data removed]",
      "text/plain": [
       "<Figure size 1800x360 with 1 Axes>"
      ]
     },
     "metadata": {},
     "output_type": "display_data"
    }
   ],
   "source": [
    "plt.figure(figsize=(25,5))\n",
    "sns.countplot(x='awards_won?',hue='is_promoted',data=df)\n",
    "plt.show()"
   ]
  },
  {
   "cell_type": "code",
   "execution_count": 23,
   "id": "395ab81e",
   "metadata": {},
   "outputs": [
    {
     "data": {
      "image/png": "[encoded data removed]",
      "text/plain": [
       "<Figure size 720x432 with 1 Axes>"
      ]
     },
     "metadata": {},
     "output_type": "display_data"
    }
   ],
   "source": [
    "#age\n",
    "plt.figure(figsize = (10,6))\n",
    "sns.distplot(df['age'])\n",
    "plt.show()"
   ]
  },
  {
   "cell_type": "code",
   "execution_count": 24,
   "id": "e722c3e7",
   "metadata": {},
   "outputs": [
    {
     "data": {
      "text/plain": [
       "30    40043\n",
       "20    20686\n",
       "40    12743\n",
       "60     4826\n",
       "Name: age, dtype: int64"
      ]
     },
     "execution_count": 24,
     "metadata": {},
     "output_type": "execute_result"
    }
   ],
   "source": [
    "#convert ages to groups of age ranges\n",
    "\n",
    "pd.cut( x=df['age'], bins=[19, 29, 39, 49,61], labels=['20', '30', '40','60'] ).value_counts()"
   ]
  },
  {
   "cell_type": "code",
   "execution_count": 25,
   "id": "3e53a247",
   "metadata": {},
   "outputs": [],
   "source": [
    "df['age'] = pd.cut( x=df['age'], bins=[19, 29, 39, 49,61], labels=['20', '30', '40','60'] )"
   ]
  },
  {
   "cell_type": "code",
   "execution_count": 26,
   "id": "cc89a9ef",
   "metadata": {},
   "outputs": [
    {
     "data": {
      "text/html": [
       "<div>\n",
       "<style scoped>\n",
       "    .dataframe tbody tr th:only-of-type {\n",
       "        vertical-align: middle;\n",
       "    }\n",
       "\n",
       "    .dataframe tbody tr th {\n",
       "        vertical-align: top;\n",
       "    }\n",
       "\n",
       "    .dataframe thead th {\n",
       "        text-align: right;\n",
       "    }\n",
       "</style>\n",
       "<table border=\"1\" class=\"dataframe\">\n",
       "  <thead>\n",
       "    <tr style=\"text-align: right;\">\n",
       "      <th></th>\n",
       "      <th>employee_id</th>\n",
       "      <th>department</th>\n",
       "      <th>region</th>\n",
       "      <th>education</th>\n",
       "      <th>gender</th>\n",
       "      <th>recruitment_channel</th>\n",
       "      <th>no_of_trainings</th>\n",
       "      <th>age</th>\n",
       "      <th>previous_year_rating</th>\n",
       "      <th>length_of_service</th>\n",
       "      <th>KPIs_met &gt;80%</th>\n",
       "      <th>awards_won?</th>\n",
       "      <th>avg_training_score</th>\n",
       "      <th>is_promoted</th>\n",
       "    </tr>\n",
       "  </thead>\n",
       "  <tbody>\n",
       "    <tr>\n",
       "      <th>0</th>\n",
       "      <td>65438</td>\n",
       "      <td>Sales &amp; Marketing</td>\n",
       "      <td>region_7</td>\n",
       "      <td>Master's &amp; above</td>\n",
       "      <td>f</td>\n",
       "      <td>sourcing</td>\n",
       "      <td>1</td>\n",
       "      <td>30</td>\n",
       "      <td>5.0</td>\n",
       "      <td>8</td>\n",
       "      <td>1</td>\n",
       "      <td>0</td>\n",
       "      <td>49</td>\n",
       "      <td>0.0</td>\n",
       "    </tr>\n",
       "    <tr>\n",
       "      <th>1</th>\n",
       "      <td>65141</td>\n",
       "      <td>Operations</td>\n",
       "      <td>region_22</td>\n",
       "      <td>Bachelor's</td>\n",
       "      <td>m</td>\n",
       "      <td>other</td>\n",
       "      <td>1</td>\n",
       "      <td>30</td>\n",
       "      <td>5.0</td>\n",
       "      <td>4</td>\n",
       "      <td>0</td>\n",
       "      <td>0</td>\n",
       "      <td>60</td>\n",
       "      <td>0.0</td>\n",
       "    </tr>\n",
       "    <tr>\n",
       "      <th>2</th>\n",
       "      <td>7513</td>\n",
       "      <td>Sales &amp; Marketing</td>\n",
       "      <td>region_19</td>\n",
       "      <td>Bachelor's</td>\n",
       "      <td>m</td>\n",
       "      <td>sourcing</td>\n",
       "      <td>1</td>\n",
       "      <td>30</td>\n",
       "      <td>3.0</td>\n",
       "      <td>7</td>\n",
       "      <td>0</td>\n",
       "      <td>0</td>\n",
       "      <td>50</td>\n",
       "      <td>0.0</td>\n",
       "    </tr>\n",
       "    <tr>\n",
       "      <th>3</th>\n",
       "      <td>2542</td>\n",
       "      <td>Sales &amp; Marketing</td>\n",
       "      <td>region_23</td>\n",
       "      <td>Bachelor's</td>\n",
       "      <td>m</td>\n",
       "      <td>other</td>\n",
       "      <td>2</td>\n",
       "      <td>30</td>\n",
       "      <td>1.0</td>\n",
       "      <td>10</td>\n",
       "      <td>0</td>\n",
       "      <td>0</td>\n",
       "      <td>50</td>\n",
       "      <td>0.0</td>\n",
       "    </tr>\n",
       "    <tr>\n",
       "      <th>4</th>\n",
       "      <td>48945</td>\n",
       "      <td>Technology</td>\n",
       "      <td>region_26</td>\n",
       "      <td>Bachelor's</td>\n",
       "      <td>m</td>\n",
       "      <td>other</td>\n",
       "      <td>1</td>\n",
       "      <td>40</td>\n",
       "      <td>3.0</td>\n",
       "      <td>2</td>\n",
       "      <td>0</td>\n",
       "      <td>0</td>\n",
       "      <td>73</td>\n",
       "      <td>0.0</td>\n",
       "    </tr>\n",
       "  </tbody>\n",
       "</table>\n",
       "</div>"
      ],
      "text/plain": [
       "   employee_id         department     region         education gender  \\\n",
       "0        65438  Sales & Marketing   region_7  Master's & above      f   \n",
       "1        65141         Operations  region_22        Bachelor's      m   \n",
       "2         7513  Sales & Marketing  region_19        Bachelor's      m   \n",
       "3         2542  Sales & Marketing  region_23        Bachelor's      m   \n",
       "4        48945         Technology  region_26        Bachelor's      m   \n",
       "\n",
       "  recruitment_channel  no_of_trainings age  previous_year_rating  \\\n",
       "0            sourcing                1  30                   5.0   \n",
       "1               other                1  30                   5.0   \n",
       "2            sourcing                1  30                   3.0   \n",
       "3               other                2  30                   1.0   \n",
       "4               other                1  40                   3.0   \n",
       "\n",
       "   length_of_service  KPIs_met >80%  awards_won?  avg_training_score  \\\n",
       "0                  8              1            0                  49   \n",
       "1                  4              0            0                  60   \n",
       "2                  7              0            0                  50   \n",
       "3                 10              0            0                  50   \n",
       "4                  2              0            0                  73   \n",
       "\n",
       "   is_promoted  \n",
       "0          0.0  \n",
       "1          0.0  \n",
       "2          0.0  \n",
       "3          0.0  \n",
       "4          0.0  "
      ]
     },
     "execution_count": 26,
     "metadata": {},
     "output_type": "execute_result"
    }
   ],
   "source": [
    "df.head()"
   ]
  },
  {
   "cell_type": "code",
   "execution_count": 27,
   "id": "8ba02742",
   "metadata": {},
   "outputs": [
    {
     "data": {
      "text/plain": [
       "30    40043\n",
       "20    20686\n",
       "40    12743\n",
       "60     4826\n",
       "Name: age, dtype: int64"
      ]
     },
     "execution_count": 27,
     "metadata": {},
     "output_type": "execute_result"
    }
   ],
   "source": [
    "df['age'].value_counts()"
   ]
  },
  {
   "cell_type": "code",
   "execution_count": 28,
   "id": "6f6b1fb2",
   "metadata": {},
   "outputs": [
    {
     "data": {
      "text/plain": [
       "<AxesSubplot:>"
      ]
     },
     "execution_count": 28,
     "metadata": {},
     "output_type": "execute_result"
    },
    {
     "data": {
      "image/png": "[encoded data removed]",
      "text/plain": [
       "<Figure size 720x360 with 2 Axes>"
      ]
     },
     "metadata": {},
     "output_type": "display_data"
    }
   ],
   "source": [
    "plt.figure(figsize=(10,5))\n",
    "sns.heatmap(df.corr(), annot = True,cmap='coolwarm')"
   ]
  },
  {
   "cell_type": "code",
   "execution_count": 29,
   "id": "f058e472",
   "metadata": {},
   "outputs": [
    {
     "data": {
      "text/plain": [
       "-0.024895917682412522"
      ]
     },
     "execution_count": 29,
     "metadata": {},
     "output_type": "execute_result"
    }
   ],
   "source": [
    "df.corr()['no_of_trainings']['is_promoted']"
   ]
  },
  {
   "cell_type": "code",
   "execution_count": 30,
   "id": "77891226",
   "metadata": {},
   "outputs": [
    {
     "data": {
      "text/html": [
       "<div>\n",
       "<style scoped>\n",
       "    .dataframe tbody tr th:only-of-type {\n",
       "        vertical-align: middle;\n",
       "    }\n",
       "\n",
       "    .dataframe tbody tr th {\n",
       "        vertical-align: top;\n",
       "    }\n",
       "\n",
       "    .dataframe thead th {\n",
       "        text-align: right;\n",
       "    }\n",
       "</style>\n",
       "<table border=\"1\" class=\"dataframe\">\n",
       "  <thead>\n",
       "    <tr style=\"text-align: right;\">\n",
       "      <th></th>\n",
       "      <th>no_of_trainings</th>\n",
       "      <th>avg_training_score</th>\n",
       "    </tr>\n",
       "  </thead>\n",
       "  <tbody>\n",
       "    <tr>\n",
       "      <th>count</th>\n",
       "      <td>78298.000000</td>\n",
       "      <td>78298.000000</td>\n",
       "    </tr>\n",
       "    <tr>\n",
       "      <th>mean</th>\n",
       "      <td>1.253378</td>\n",
       "      <td>63.349664</td>\n",
       "    </tr>\n",
       "    <tr>\n",
       "      <th>std</th>\n",
       "      <td>0.606766</td>\n",
       "      <td>13.383664</td>\n",
       "    </tr>\n",
       "    <tr>\n",
       "      <th>min</th>\n",
       "      <td>1.000000</td>\n",
       "      <td>39.000000</td>\n",
       "    </tr>\n",
       "    <tr>\n",
       "      <th>25%</th>\n",
       "      <td>1.000000</td>\n",
       "      <td>51.000000</td>\n",
       "    </tr>\n",
       "    <tr>\n",
       "      <th>50%</th>\n",
       "      <td>1.000000</td>\n",
       "      <td>60.000000</td>\n",
       "    </tr>\n",
       "    <tr>\n",
       "      <th>75%</th>\n",
       "      <td>1.000000</td>\n",
       "      <td>76.000000</td>\n",
       "    </tr>\n",
       "    <tr>\n",
       "      <th>max</th>\n",
       "      <td>10.000000</td>\n",
       "      <td>99.000000</td>\n",
       "    </tr>\n",
       "  </tbody>\n",
       "</table>\n",
       "</div>"
      ],
      "text/plain": [
       "       no_of_trainings  avg_training_score\n",
       "count     78298.000000        78298.000000\n",
       "mean          1.253378           63.349664\n",
       "std           0.606766           13.383664\n",
       "min           1.000000           39.000000\n",
       "25%           1.000000           51.000000\n",
       "50%           1.000000           60.000000\n",
       "75%           1.000000           76.000000\n",
       "max          10.000000           99.000000"
      ]
     },
     "execution_count": 30,
     "metadata": {},
     "output_type": "execute_result"
    }
   ],
   "source": [
    "#There is negative relation between 'no_of_training' and 'is_prmoted'\n",
    "df[['no_of_trainings','avg_training_score']].describe()"
   ]
  },
  {
   "cell_type": "code",
   "execution_count": 31,
   "id": "97b7b91d",
   "metadata": {},
   "outputs": [
    {
     "data": {
      "text/plain": [
       "1     63306\n",
       "2     11531\n",
       "3      2531\n",
       "4       658\n",
       "5       164\n",
       "6        68\n",
       "7        21\n",
       "8         7\n",
       "9         7\n",
       "10        5\n",
       "Name: no_of_trainings, dtype: int64"
      ]
     },
     "execution_count": 31,
     "metadata": {},
     "output_type": "execute_result"
    }
   ],
   "source": [
    "df['no_of_trainings'].value_counts()"
   ]
  },
  {
   "cell_type": "markdown",
   "id": "6453a8a5",
   "metadata": {},
   "source": [
    "#More no of training less chances of promototion \n",
    "#avg_training_score/no_of_trainings == (sum_of_training_score)/(no_of_training)**2  \n",
    "##Thus creating a polynomial feature"
   ]
  },
  {
   "cell_type": "code",
   "execution_count": 32,
   "id": "51b03d2b",
   "metadata": {},
   "outputs": [],
   "source": [
    "df['score'] = df['avg_training_score']/df['no_of_trainings']"
   ]
  },
  {
   "cell_type": "code",
   "execution_count": 33,
   "id": "db6a4b7b",
   "metadata": {},
   "outputs": [
    {
     "data": {
      "text/html": [
       "<div>\n",
       "<style scoped>\n",
       "    .dataframe tbody tr th:only-of-type {\n",
       "        vertical-align: middle;\n",
       "    }\n",
       "\n",
       "    .dataframe tbody tr th {\n",
       "        vertical-align: top;\n",
       "    }\n",
       "\n",
       "    .dataframe thead th {\n",
       "        text-align: right;\n",
       "    }\n",
       "</style>\n",
       "<table border=\"1\" class=\"dataframe\">\n",
       "  <thead>\n",
       "    <tr style=\"text-align: right;\">\n",
       "      <th></th>\n",
       "      <th>employee_id</th>\n",
       "      <th>department</th>\n",
       "      <th>region</th>\n",
       "      <th>education</th>\n",
       "      <th>gender</th>\n",
       "      <th>recruitment_channel</th>\n",
       "      <th>no_of_trainings</th>\n",
       "      <th>age</th>\n",
       "      <th>previous_year_rating</th>\n",
       "      <th>length_of_service</th>\n",
       "      <th>KPIs_met &gt;80%</th>\n",
       "      <th>awards_won?</th>\n",
       "      <th>avg_training_score</th>\n",
       "      <th>is_promoted</th>\n",
       "      <th>score</th>\n",
       "    </tr>\n",
       "  </thead>\n",
       "  <tbody>\n",
       "    <tr>\n",
       "      <th>0</th>\n",
       "      <td>65438</td>\n",
       "      <td>Sales &amp; Marketing</td>\n",
       "      <td>region_7</td>\n",
       "      <td>Master's &amp; above</td>\n",
       "      <td>f</td>\n",
       "      <td>sourcing</td>\n",
       "      <td>1</td>\n",
       "      <td>30</td>\n",
       "      <td>5.0</td>\n",
       "      <td>8</td>\n",
       "      <td>1</td>\n",
       "      <td>0</td>\n",
       "      <td>49</td>\n",
       "      <td>0.0</td>\n",
       "      <td>49.000000</td>\n",
       "    </tr>\n",
       "    <tr>\n",
       "      <th>1</th>\n",
       "      <td>65141</td>\n",
       "      <td>Operations</td>\n",
       "      <td>region_22</td>\n",
       "      <td>Bachelor's</td>\n",
       "      <td>m</td>\n",
       "      <td>other</td>\n",
       "      <td>1</td>\n",
       "      <td>30</td>\n",
       "      <td>5.0</td>\n",
       "      <td>4</td>\n",
       "      <td>0</td>\n",
       "      <td>0</td>\n",
       "      <td>60</td>\n",
       "      <td>0.0</td>\n",
       "      <td>60.000000</td>\n",
       "    </tr>\n",
       "    <tr>\n",
       "      <th>2</th>\n",
       "      <td>7513</td>\n",
       "      <td>Sales &amp; Marketing</td>\n",
       "      <td>region_19</td>\n",
       "      <td>Bachelor's</td>\n",
       "      <td>m</td>\n",
       "      <td>sourcing</td>\n",
       "      <td>1</td>\n",
       "      <td>30</td>\n",
       "      <td>3.0</td>\n",
       "      <td>7</td>\n",
       "      <td>0</td>\n",
       "      <td>0</td>\n",
       "      <td>50</td>\n",
       "      <td>0.0</td>\n",
       "      <td>50.000000</td>\n",
       "    </tr>\n",
       "    <tr>\n",
       "      <th>3</th>\n",
       "      <td>2542</td>\n",
       "      <td>Sales &amp; Marketing</td>\n",
       "      <td>region_23</td>\n",
       "      <td>Bachelor's</td>\n",
       "      <td>m</td>\n",
       "      <td>other</td>\n",
       "      <td>2</td>\n",
       "      <td>30</td>\n",
       "      <td>1.0</td>\n",
       "      <td>10</td>\n",
       "      <td>0</td>\n",
       "      <td>0</td>\n",
       "      <td>50</td>\n",
       "      <td>0.0</td>\n",
       "      <td>25.000000</td>\n",
       "    </tr>\n",
       "    <tr>\n",
       "      <th>4</th>\n",
       "      <td>48945</td>\n",
       "      <td>Technology</td>\n",
       "      <td>region_26</td>\n",
       "      <td>Bachelor's</td>\n",
       "      <td>m</td>\n",
       "      <td>other</td>\n",
       "      <td>1</td>\n",
       "      <td>40</td>\n",
       "      <td>3.0</td>\n",
       "      <td>2</td>\n",
       "      <td>0</td>\n",
       "      <td>0</td>\n",
       "      <td>73</td>\n",
       "      <td>0.0</td>\n",
       "      <td>73.000000</td>\n",
       "    </tr>\n",
       "    <tr>\n",
       "      <th>...</th>\n",
       "      <td>...</td>\n",
       "      <td>...</td>\n",
       "      <td>...</td>\n",
       "      <td>...</td>\n",
       "      <td>...</td>\n",
       "      <td>...</td>\n",
       "      <td>...</td>\n",
       "      <td>...</td>\n",
       "      <td>...</td>\n",
       "      <td>...</td>\n",
       "      <td>...</td>\n",
       "      <td>...</td>\n",
       "      <td>...</td>\n",
       "      <td>...</td>\n",
       "      <td>...</td>\n",
       "    </tr>\n",
       "    <tr>\n",
       "      <th>23485</th>\n",
       "      <td>53478</td>\n",
       "      <td>Legal</td>\n",
       "      <td>region_2</td>\n",
       "      <td>Below Secondary</td>\n",
       "      <td>m</td>\n",
       "      <td>sourcing</td>\n",
       "      <td>1</td>\n",
       "      <td>20</td>\n",
       "      <td>3.0</td>\n",
       "      <td>1</td>\n",
       "      <td>0</td>\n",
       "      <td>0</td>\n",
       "      <td>61</td>\n",
       "      <td>NaN</td>\n",
       "      <td>61.000000</td>\n",
       "    </tr>\n",
       "    <tr>\n",
       "      <th>23486</th>\n",
       "      <td>25600</td>\n",
       "      <td>Technology</td>\n",
       "      <td>region_25</td>\n",
       "      <td>Bachelor's</td>\n",
       "      <td>m</td>\n",
       "      <td>sourcing</td>\n",
       "      <td>1</td>\n",
       "      <td>30</td>\n",
       "      <td>3.0</td>\n",
       "      <td>7</td>\n",
       "      <td>0</td>\n",
       "      <td>0</td>\n",
       "      <td>74</td>\n",
       "      <td>NaN</td>\n",
       "      <td>74.000000</td>\n",
       "    </tr>\n",
       "    <tr>\n",
       "      <th>23487</th>\n",
       "      <td>45409</td>\n",
       "      <td>HR</td>\n",
       "      <td>region_16</td>\n",
       "      <td>Bachelor's</td>\n",
       "      <td>f</td>\n",
       "      <td>sourcing</td>\n",
       "      <td>1</td>\n",
       "      <td>20</td>\n",
       "      <td>4.0</td>\n",
       "      <td>4</td>\n",
       "      <td>0</td>\n",
       "      <td>0</td>\n",
       "      <td>50</td>\n",
       "      <td>NaN</td>\n",
       "      <td>50.000000</td>\n",
       "    </tr>\n",
       "    <tr>\n",
       "      <th>23488</th>\n",
       "      <td>1186</td>\n",
       "      <td>Procurement</td>\n",
       "      <td>region_31</td>\n",
       "      <td>Bachelor's</td>\n",
       "      <td>m</td>\n",
       "      <td>sourcing</td>\n",
       "      <td>3</td>\n",
       "      <td>20</td>\n",
       "      <td>0.0</td>\n",
       "      <td>1</td>\n",
       "      <td>0</td>\n",
       "      <td>0</td>\n",
       "      <td>70</td>\n",
       "      <td>NaN</td>\n",
       "      <td>23.333333</td>\n",
       "    </tr>\n",
       "    <tr>\n",
       "      <th>23489</th>\n",
       "      <td>5973</td>\n",
       "      <td>Technology</td>\n",
       "      <td>region_17</td>\n",
       "      <td>Master's &amp; above</td>\n",
       "      <td>m</td>\n",
       "      <td>other</td>\n",
       "      <td>3</td>\n",
       "      <td>40</td>\n",
       "      <td>5.0</td>\n",
       "      <td>5</td>\n",
       "      <td>1</td>\n",
       "      <td>0</td>\n",
       "      <td>89</td>\n",
       "      <td>NaN</td>\n",
       "      <td>29.666667</td>\n",
       "    </tr>\n",
       "  </tbody>\n",
       "</table>\n",
       "<p>78298 rows × 15 columns</p>\n",
       "</div>"
      ],
      "text/plain": [
       "       employee_id         department     region         education gender  \\\n",
       "0            65438  Sales & Marketing   region_7  Master's & above      f   \n",
       "1            65141         Operations  region_22        Bachelor's      m   \n",
       "2             7513  Sales & Marketing  region_19        Bachelor's      m   \n",
       "3             2542  Sales & Marketing  region_23        Bachelor's      m   \n",
       "4            48945         Technology  region_26        Bachelor's      m   \n",
       "...            ...                ...        ...               ...    ...   \n",
       "23485        53478              Legal   region_2   Below Secondary      m   \n",
       "23486        25600         Technology  region_25        Bachelor's      m   \n",
       "23487        45409                 HR  region_16        Bachelor's      f   \n",
       "23488         1186        Procurement  region_31        Bachelor's      m   \n",
       "23489         5973         Technology  region_17  Master's & above      m   \n",
       "\n",
       "      recruitment_channel  no_of_trainings age  previous_year_rating  \\\n",
       "0                sourcing                1  30                   5.0   \n",
       "1                   other                1  30                   5.0   \n",
       "2                sourcing                1  30                   3.0   \n",
       "3                   other                2  30                   1.0   \n",
       "4                   other                1  40                   3.0   \n",
       "...                   ...              ...  ..                   ...   \n",
       "23485            sourcing                1  20                   3.0   \n",
       "23486            sourcing                1  30                   3.0   \n",
       "23487            sourcing                1  20                   4.0   \n",
       "23488            sourcing                3  20                   0.0   \n",
       "23489               other                3  40                   5.0   \n",
       "\n",
       "       length_of_service  KPIs_met >80%  awards_won?  avg_training_score  \\\n",
       "0                      8              1            0                  49   \n",
       "1                      4              0            0                  60   \n",
       "2                      7              0            0                  50   \n",
       "3                     10              0            0                  50   \n",
       "4                      2              0            0                  73   \n",
       "...                  ...            ...          ...                 ...   \n",
       "23485                  1              0            0                  61   \n",
       "23486                  7              0            0                  74   \n",
       "23487                  4              0            0                  50   \n",
       "23488                  1              0            0                  70   \n",
       "23489                  5              1            0                  89   \n",
       "\n",
       "       is_promoted      score  \n",
       "0              0.0  49.000000  \n",
       "1              0.0  60.000000  \n",
       "2              0.0  50.000000  \n",
       "3              0.0  25.000000  \n",
       "4              0.0  73.000000  \n",
       "...            ...        ...  \n",
       "23485          NaN  61.000000  \n",
       "23486          NaN  74.000000  \n",
       "23487          NaN  50.000000  \n",
       "23488          NaN  23.333333  \n",
       "23489          NaN  29.666667  \n",
       "\n",
       "[78298 rows x 15 columns]"
      ]
     },
     "execution_count": 33,
     "metadata": {},
     "output_type": "execute_result"
    }
   ],
   "source": [
    "df"
   ]
  },
  {
   "cell_type": "code",
   "execution_count": null,
   "id": "4991192a",
   "metadata": {},
   "outputs": [],
   "source": []
  },
  {
   "cell_type": "markdown",
   "id": "0c8c6767",
   "metadata": {},
   "source": [
    "## Encoding"
   ]
  },
  {
   "cell_type": "code",
   "execution_count": 34,
   "id": "4908f184",
   "metadata": {},
   "outputs": [],
   "source": [
    "from scipy import stats as ss"
   ]
  },
  {
   "cell_type": "code",
   "execution_count": 35,
   "id": "14120a41",
   "metadata": {},
   "outputs": [],
   "source": [
    "def cramers_v(x, y):\n",
    "    confusion_matrix = pd.crosstab(x,y)\n",
    "    chi2 = ss.chi2_contingency(confusion_matrix)[0]\n",
    "    n = confusion_matrix.sum().sum()\n",
    "    phi2 = chi2/n\n",
    "    r,k = confusion_matrix.shape\n",
    "    phi2corr = max(0, phi2-((k-1)*(r-1))/(n-1))\n",
    "    rcorr = r-((r-1)**2)/(n-1)\n",
    "    kcorr = k-((k-1)**2)/(n-1)\n",
    "    return np.sqrt(phi2corr/min((kcorr-1),(rcorr-1)))"
   ]
  },
  {
   "cell_type": "code",
   "execution_count": 36,
   "id": "cfa2f36e",
   "metadata": {},
   "outputs": [
    {
     "data": {
      "text/plain": [
       "0.08986842586887933"
      ]
     },
     "execution_count": 36,
     "metadata": {},
     "output_type": "execute_result"
    }
   ],
   "source": [
    "cramers_v(df['region'],df['is_promoted'])"
   ]
  },
  {
   "cell_type": "code",
   "execution_count": 37,
   "id": "c7e2faf9",
   "metadata": {},
   "outputs": [
    {
     "data": {
      "text/plain": [
       "(475.6402377579206,\n",
       " 7.275378205784026e-80,\n",
       " 33,\n",
       " array([[5.58046271e+02, 5.19537294e+01],\n",
       "        [5.92809809e+02, 5.51901912e+01],\n",
       "        [1.20300139e+03, 1.11998613e+02],\n",
       "        [4.57414976e+02, 4.25850241e+01],\n",
       "        [2.42246971e+03, 2.25530288e+02],\n",
       "        [7.56564370e+02, 7.04356298e+01],\n",
       "        [2.56884250e+03, 2.39157495e+02],\n",
       "        [1.34022588e+03, 1.24774121e+02],\n",
       "        [7.28204642e+02, 6.77953583e+01],\n",
       "        [2.83597285e+01, 2.64027149e+00],\n",
       "        [7.99561378e+02, 7.44386221e+01],\n",
       "        [1.12917461e+04, 1.05125390e+03],\n",
       "        [7.77605459e+02, 7.23945409e+01],\n",
       "        [3.75995110e+02, 3.50048898e+01],\n",
       "        [5.88052693e+03, 5.47473070e+02],\n",
       "        [1.07492519e+03, 1.00074807e+02],\n",
       "        [4.64733616e+02, 4.32663845e+01],\n",
       "        [7.49245731e+02, 6.97542694e+01],\n",
       "        [2.06751569e+03, 1.92484309e+02],\n",
       "        [1.51770289e+03, 1.41297110e+02],\n",
       "        [1.20574588e+03, 1.12254123e+02],\n",
       "        [9.09340972e+02, 8.46590279e+01],\n",
       "        [3.16531163e+02, 2.94688367e+01],\n",
       "        [6.01043278e+02, 5.59567216e+01],\n",
       "        [1.77019596e+03, 1.64804043e+02],\n",
       "        [8.64514304e+02, 8.04856955e+01],\n",
       "        [2.46089257e+02, 2.29107430e+01],\n",
       "        [2.67130346e+02, 2.48696541e+01],\n",
       "        [1.55795541e+03, 1.45044592e+02],\n",
       "        [7.00759743e+02, 6.52402569e+01],\n",
       "        [6.31232667e+02, 5.87673332e+01],\n",
       "        [4.43052146e+03, 4.12478543e+02],\n",
       "        [5.99213618e+02, 5.57863816e+01],\n",
       "        [3.84228580e+02, 3.57714202e+01]]))"
      ]
     },
     "execution_count": 37,
     "metadata": {},
     "output_type": "execute_result"
    }
   ],
   "source": [
    "ss.chi2_contingency(pd.crosstab(df['region'],df['is_promoted']))"
   ]
  },
  {
   "cell_type": "code",
   "execution_count": 38,
   "id": "f49902de",
   "metadata": {},
   "outputs": [
    {
     "data": {
      "text/plain": [
       "'0.000000'"
      ]
     },
     "execution_count": 38,
     "metadata": {},
     "output_type": "execute_result"
    }
   ],
   "source": [
    "p_value = 7.275378205784026e-80\n",
    "'{:f}'.format(p_value)\n",
    "#Since the p_value is less than 0.05 so we failed to reject the null hypothesis that these variable are not associated"
   ]
  },
  {
   "cell_type": "code",
   "execution_count": 39,
   "id": "0f12813d",
   "metadata": {},
   "outputs": [
    {
     "name": "stdout",
     "output_type": "stream",
     "text": [
      "0.000000\n"
     ]
    }
   ],
   "source": [
    "\n",
    "#education\n",
    "print('{:f}'.format(ss.chi2_contingency(pd.crosstab(df['education'],df['is_promoted']))[1]))"
   ]
  },
  {
   "cell_type": "code",
   "execution_count": 40,
   "id": "96c85e0d",
   "metadata": {},
   "outputs": [
    {
     "name": "stdout",
     "output_type": "stream",
     "text": [
      "0.000000\n"
     ]
    }
   ],
   "source": [
    "#department\n",
    "print('{:f}'.format(ss.chi2_contingency(pd.crosstab(df['department'],df['is_promoted']))[1]))"
   ]
  },
  {
   "cell_type": "code",
   "execution_count": 41,
   "id": "fc642fb9",
   "metadata": {},
   "outputs": [],
   "source": [
    "df['gender']=df['gender'].apply(lambda x: 0 if x =='f' else 1)"
   ]
  },
  {
   "cell_type": "code",
   "execution_count": 42,
   "id": "81838b85",
   "metadata": {},
   "outputs": [],
   "source": [
    "df=pd.get_dummies(df,columns=[\"region\", \"age\",\"department\", \"education\", \"recruitment_channel\"],drop_first=True)\n"
   ]
  },
  {
   "cell_type": "code",
   "execution_count": 43,
   "id": "628b0b5f",
   "metadata": {},
   "outputs": [
    {
     "data": {
      "text/plain": [
       "employee_id                     float64\n",
       "gender                          float64\n",
       "no_of_trainings                 float64\n",
       "previous_year_rating            float64\n",
       "length_of_service               float64\n",
       "KPIs_met >80%                   float64\n",
       "awards_won?                     float64\n",
       "avg_training_score              float64\n",
       "is_promoted                     float64\n",
       "score                           float64\n",
       "region_region_10                float64\n",
       "region_region_11                float64\n",
       "region_region_12                float64\n",
       "region_region_13                float64\n",
       "region_region_14                float64\n",
       "region_region_15                float64\n",
       "region_region_16                float64\n",
       "region_region_17                float64\n",
       "region_region_18                float64\n",
       "region_region_19                float64\n",
       "region_region_2                 float64\n",
       "region_region_20                float64\n",
       "region_region_21                float64\n",
       "region_region_22                float64\n",
       "region_region_23                float64\n",
       "region_region_24                float64\n",
       "region_region_25                float64\n",
       "region_region_26                float64\n",
       "region_region_27                float64\n",
       "region_region_28                float64\n",
       "region_region_29                float64\n",
       "region_region_3                 float64\n",
       "region_region_30                float64\n",
       "region_region_31                float64\n",
       "region_region_32                float64\n",
       "region_region_33                float64\n",
       "region_region_34                float64\n",
       "region_region_4                 float64\n",
       "region_region_5                 float64\n",
       "region_region_6                 float64\n",
       "region_region_7                 float64\n",
       "region_region_8                 float64\n",
       "region_region_9                 float64\n",
       "age_30                          float64\n",
       "age_40                          float64\n",
       "age_60                          float64\n",
       "department_Finance              float64\n",
       "department_HR                   float64\n",
       "department_Legal                float64\n",
       "department_Operations           float64\n",
       "department_Procurement          float64\n",
       "department_R&D                  float64\n",
       "department_Sales & Marketing    float64\n",
       "department_Technology           float64\n",
       "education_Below Secondary       float64\n",
       "education_Master's & above      float64\n",
       "education_unknown               float64\n",
       "recruitment_channel_referred    float64\n",
       "recruitment_channel_sourcing    float64\n",
       "dtype: object"
      ]
     },
     "execution_count": 43,
     "metadata": {},
     "output_type": "execute_result"
    }
   ],
   "source": [
    "df.astype( 'float64').dtypes"
   ]
  },
  {
   "cell_type": "code",
   "execution_count": 44,
   "id": "37b4239c",
   "metadata": {},
   "outputs": [
    {
     "data": {
      "text/html": [
       "<div>\n",
       "<style scoped>\n",
       "    .dataframe tbody tr th:only-of-type {\n",
       "        vertical-align: middle;\n",
       "    }\n",
       "\n",
       "    .dataframe tbody tr th {\n",
       "        vertical-align: top;\n",
       "    }\n",
       "\n",
       "    .dataframe thead th {\n",
       "        text-align: right;\n",
       "    }\n",
       "</style>\n",
       "<table border=\"1\" class=\"dataframe\">\n",
       "  <thead>\n",
       "    <tr style=\"text-align: right;\">\n",
       "      <th></th>\n",
       "      <th>employee_id</th>\n",
       "      <th>gender</th>\n",
       "      <th>no_of_trainings</th>\n",
       "      <th>previous_year_rating</th>\n",
       "      <th>length_of_service</th>\n",
       "      <th>KPIs_met &gt;80%</th>\n",
       "      <th>awards_won?</th>\n",
       "      <th>avg_training_score</th>\n",
       "      <th>is_promoted</th>\n",
       "      <th>score</th>\n",
       "      <th>...</th>\n",
       "      <th>department_Operations</th>\n",
       "      <th>department_Procurement</th>\n",
       "      <th>department_R&amp;D</th>\n",
       "      <th>department_Sales &amp; Marketing</th>\n",
       "      <th>department_Technology</th>\n",
       "      <th>education_Below Secondary</th>\n",
       "      <th>education_Master's &amp; above</th>\n",
       "      <th>education_unknown</th>\n",
       "      <th>recruitment_channel_referred</th>\n",
       "      <th>recruitment_channel_sourcing</th>\n",
       "    </tr>\n",
       "  </thead>\n",
       "  <tbody>\n",
       "    <tr>\n",
       "      <th>0</th>\n",
       "      <td>65438</td>\n",
       "      <td>0</td>\n",
       "      <td>1</td>\n",
       "      <td>5.0</td>\n",
       "      <td>8</td>\n",
       "      <td>1</td>\n",
       "      <td>0</td>\n",
       "      <td>49</td>\n",
       "      <td>0.0</td>\n",
       "      <td>49.0</td>\n",
       "      <td>...</td>\n",
       "      <td>0</td>\n",
       "      <td>0</td>\n",
       "      <td>0</td>\n",
       "      <td>1</td>\n",
       "      <td>0</td>\n",
       "      <td>0</td>\n",
       "      <td>1</td>\n",
       "      <td>0</td>\n",
       "      <td>0</td>\n",
       "      <td>1</td>\n",
       "    </tr>\n",
       "    <tr>\n",
       "      <th>1</th>\n",
       "      <td>65141</td>\n",
       "      <td>1</td>\n",
       "      <td>1</td>\n",
       "      <td>5.0</td>\n",
       "      <td>4</td>\n",
       "      <td>0</td>\n",
       "      <td>0</td>\n",
       "      <td>60</td>\n",
       "      <td>0.0</td>\n",
       "      <td>60.0</td>\n",
       "      <td>...</td>\n",
       "      <td>1</td>\n",
       "      <td>0</td>\n",
       "      <td>0</td>\n",
       "      <td>0</td>\n",
       "      <td>0</td>\n",
       "      <td>0</td>\n",
       "      <td>0</td>\n",
       "      <td>0</td>\n",
       "      <td>0</td>\n",
       "      <td>0</td>\n",
       "    </tr>\n",
       "    <tr>\n",
       "      <th>2</th>\n",
       "      <td>7513</td>\n",
       "      <td>1</td>\n",
       "      <td>1</td>\n",
       "      <td>3.0</td>\n",
       "      <td>7</td>\n",
       "      <td>0</td>\n",
       "      <td>0</td>\n",
       "      <td>50</td>\n",
       "      <td>0.0</td>\n",
       "      <td>50.0</td>\n",
       "      <td>...</td>\n",
       "      <td>0</td>\n",
       "      <td>0</td>\n",
       "      <td>0</td>\n",
       "      <td>1</td>\n",
       "      <td>0</td>\n",
       "      <td>0</td>\n",
       "      <td>0</td>\n",
       "      <td>0</td>\n",
       "      <td>0</td>\n",
       "      <td>1</td>\n",
       "    </tr>\n",
       "    <tr>\n",
       "      <th>3</th>\n",
       "      <td>2542</td>\n",
       "      <td>1</td>\n",
       "      <td>2</td>\n",
       "      <td>1.0</td>\n",
       "      <td>10</td>\n",
       "      <td>0</td>\n",
       "      <td>0</td>\n",
       "      <td>50</td>\n",
       "      <td>0.0</td>\n",
       "      <td>25.0</td>\n",
       "      <td>...</td>\n",
       "      <td>0</td>\n",
       "      <td>0</td>\n",
       "      <td>0</td>\n",
       "      <td>1</td>\n",
       "      <td>0</td>\n",
       "      <td>0</td>\n",
       "      <td>0</td>\n",
       "      <td>0</td>\n",
       "      <td>0</td>\n",
       "      <td>0</td>\n",
       "    </tr>\n",
       "    <tr>\n",
       "      <th>4</th>\n",
       "      <td>48945</td>\n",
       "      <td>1</td>\n",
       "      <td>1</td>\n",
       "      <td>3.0</td>\n",
       "      <td>2</td>\n",
       "      <td>0</td>\n",
       "      <td>0</td>\n",
       "      <td>73</td>\n",
       "      <td>0.0</td>\n",
       "      <td>73.0</td>\n",
       "      <td>...</td>\n",
       "      <td>0</td>\n",
       "      <td>0</td>\n",
       "      <td>0</td>\n",
       "      <td>0</td>\n",
       "      <td>1</td>\n",
       "      <td>0</td>\n",
       "      <td>0</td>\n",
       "      <td>0</td>\n",
       "      <td>0</td>\n",
       "      <td>0</td>\n",
       "    </tr>\n",
       "  </tbody>\n",
       "</table>\n",
       "<p>5 rows × 59 columns</p>\n",
       "</div>"
      ],
      "text/plain": [
       "   employee_id  gender  no_of_trainings  previous_year_rating  \\\n",
       "0        65438       0                1                   5.0   \n",
       "1        65141       1                1                   5.0   \n",
       "2         7513       1                1                   3.0   \n",
       "3         2542       1                2                   1.0   \n",
       "4        48945       1                1                   3.0   \n",
       "\n",
       "   length_of_service  KPIs_met >80%  awards_won?  avg_training_score  \\\n",
       "0                  8              1            0                  49   \n",
       "1                  4              0            0                  60   \n",
       "2                  7              0            0                  50   \n",
       "3                 10              0            0                  50   \n",
       "4                  2              0            0                  73   \n",
       "\n",
       "   is_promoted  score  ...  department_Operations  department_Procurement  \\\n",
       "0          0.0   49.0  ...                      0                       0   \n",
       "1          0.0   60.0  ...                      1                       0   \n",
       "2          0.0   50.0  ...                      0                       0   \n",
       "3          0.0   25.0  ...                      0                       0   \n",
       "4          0.0   73.0  ...                      0                       0   \n",
       "\n",
       "   department_R&D  department_Sales & Marketing  department_Technology  \\\n",
       "0               0                             1                      0   \n",
       "1               0                             0                      0   \n",
       "2               0                             1                      0   \n",
       "3               0                             1                      0   \n",
       "4               0                             0                      1   \n",
       "\n",
       "   education_Below Secondary  education_Master's & above  education_unknown  \\\n",
       "0                          0                           1                  0   \n",
       "1                          0                           0                  0   \n",
       "2                          0                           0                  0   \n",
       "3                          0                           0                  0   \n",
       "4                          0                           0                  0   \n",
       "\n",
       "   recruitment_channel_referred  recruitment_channel_sourcing  \n",
       "0                             0                             1  \n",
       "1                             0                             0  \n",
       "2                             0                             1  \n",
       "3                             0                             0  \n",
       "4                             0                             0  \n",
       "\n",
       "[5 rows x 59 columns]"
      ]
     },
     "execution_count": 44,
     "metadata": {},
     "output_type": "execute_result"
    }
   ],
   "source": [
    "df.head(5)"
   ]
  },
  {
   "cell_type": "code",
   "execution_count": 45,
   "id": "aa96b9e4",
   "metadata": {},
   "outputs": [],
   "source": [
    "train_new=df[df['is_promoted'].notna()]\n",
    "test_new=df[df['is_promoted'].isna()]\n",
    "test_new=test_new.drop(['is_promoted','employee_id'],axis=1)"
   ]
  },
  {
   "cell_type": "code",
   "execution_count": 46,
   "id": "c84b90c6",
   "metadata": {},
   "outputs": [
    {
     "data": {
      "text/plain": [
       "0.0    50140\n",
       "1.0     4668\n",
       "Name: is_promoted, dtype: int64"
      ]
     },
     "execution_count": 46,
     "metadata": {},
     "output_type": "execute_result"
    }
   ],
   "source": [
    "train_new.is_promoted.value_counts()"
   ]
  },
  {
   "cell_type": "code",
   "execution_count": 47,
   "id": "70c8f4a6",
   "metadata": {},
   "outputs": [],
   "source": [
    "train_new['is_promoted']=train_new['is_promoted'].astype( 'int64')"
   ]
  },
  {
   "cell_type": "code",
   "execution_count": 48,
   "id": "51fa753b",
   "metadata": {},
   "outputs": [],
   "source": [
    "x = train_new.drop(['is_promoted','employee_id'],axis=1)\n",
    "y = train_new['is_promoted']"
   ]
  },
  {
   "cell_type": "code",
   "execution_count": 49,
   "id": "8cbb795e",
   "metadata": {},
   "outputs": [
    {
     "data": {
      "text/plain": [
       "0        0\n",
       "1        0\n",
       "2        0\n",
       "3        0\n",
       "4        0\n",
       "        ..\n",
       "54803    0\n",
       "54804    0\n",
       "54805    0\n",
       "54806    0\n",
       "54807    0\n",
       "Name: is_promoted, Length: 54808, dtype: int64"
      ]
     },
     "execution_count": 49,
     "metadata": {},
     "output_type": "execute_result"
    }
   ],
   "source": [
    "y"
   ]
  },
  {
   "cell_type": "code",
   "execution_count": 50,
   "id": "66db2697",
   "metadata": {},
   "outputs": [
    {
     "data": {
      "text/plain": [
       "0    50140\n",
       "1     4668\n",
       "Name: is_promoted, dtype: int64"
      ]
     },
     "execution_count": 50,
     "metadata": {},
     "output_type": "execute_result"
    }
   ],
   "source": [
    "train_new.is_promoted.value_counts()"
   ]
  },
  {
   "cell_type": "code",
   "execution_count": 51,
   "id": "52b546be",
   "metadata": {},
   "outputs": [],
   "source": [
    "from sklearn.preprocessing import RobustScaler\n",
    "scaler=RobustScaler()\n",
    "x_sc=pd.DataFrame(scaler.fit_transform(x))"
   ]
  },
  {
   "cell_type": "code",
   "execution_count": 52,
   "id": "39e7e8c9",
   "metadata": {},
   "outputs": [],
   "source": [
    "from sklearn.preprocessing import RobustScaler\n",
    "scaler=RobustScaler()\n",
    "test_scaler=pd.DataFrame(scaler.fit_transform(test_new))"
   ]
  },
  {
   "cell_type": "code",
   "execution_count": 53,
   "id": "3f59ad7c",
   "metadata": {},
   "outputs": [
    {
     "data": {
      "text/html": [
       "<div>\n",
       "<style scoped>\n",
       "    .dataframe tbody tr th:only-of-type {\n",
       "        vertical-align: middle;\n",
       "    }\n",
       "\n",
       "    .dataframe tbody tr th {\n",
       "        vertical-align: top;\n",
       "    }\n",
       "\n",
       "    .dataframe thead th {\n",
       "        text-align: right;\n",
       "    }\n",
       "</style>\n",
       "<table border=\"1\" class=\"dataframe\">\n",
       "  <thead>\n",
       "    <tr style=\"text-align: right;\">\n",
       "      <th></th>\n",
       "      <th>0</th>\n",
       "      <th>1</th>\n",
       "      <th>2</th>\n",
       "      <th>3</th>\n",
       "      <th>4</th>\n",
       "      <th>5</th>\n",
       "      <th>6</th>\n",
       "      <th>7</th>\n",
       "      <th>8</th>\n",
       "      <th>9</th>\n",
       "      <th>...</th>\n",
       "      <th>47</th>\n",
       "      <th>48</th>\n",
       "      <th>49</th>\n",
       "      <th>50</th>\n",
       "      <th>51</th>\n",
       "      <th>52</th>\n",
       "      <th>53</th>\n",
       "      <th>54</th>\n",
       "      <th>55</th>\n",
       "      <th>56</th>\n",
       "    </tr>\n",
       "  </thead>\n",
       "  <tbody>\n",
       "    <tr>\n",
       "      <th>0</th>\n",
       "      <td>-1.0</td>\n",
       "      <td>0.0</td>\n",
       "      <td>1.0</td>\n",
       "      <td>0.75</td>\n",
       "      <td>1.0</td>\n",
       "      <td>0.0</td>\n",
       "      <td>-0.44</td>\n",
       "      <td>-0.347826</td>\n",
       "      <td>0.0</td>\n",
       "      <td>0.0</td>\n",
       "      <td>...</td>\n",
       "      <td>0.0</td>\n",
       "      <td>0.0</td>\n",
       "      <td>0.0</td>\n",
       "      <td>1.0</td>\n",
       "      <td>0.0</td>\n",
       "      <td>0.0</td>\n",
       "      <td>1.0</td>\n",
       "      <td>0.0</td>\n",
       "      <td>0.0</td>\n",
       "      <td>1.0</td>\n",
       "    </tr>\n",
       "    <tr>\n",
       "      <th>1</th>\n",
       "      <td>0.0</td>\n",
       "      <td>0.0</td>\n",
       "      <td>1.0</td>\n",
       "      <td>-0.25</td>\n",
       "      <td>0.0</td>\n",
       "      <td>0.0</td>\n",
       "      <td>0.00</td>\n",
       "      <td>0.130435</td>\n",
       "      <td>0.0</td>\n",
       "      <td>0.0</td>\n",
       "      <td>...</td>\n",
       "      <td>1.0</td>\n",
       "      <td>0.0</td>\n",
       "      <td>0.0</td>\n",
       "      <td>0.0</td>\n",
       "      <td>0.0</td>\n",
       "      <td>0.0</td>\n",
       "      <td>0.0</td>\n",
       "      <td>0.0</td>\n",
       "      <td>0.0</td>\n",
       "      <td>0.0</td>\n",
       "    </tr>\n",
       "    <tr>\n",
       "      <th>2</th>\n",
       "      <td>0.0</td>\n",
       "      <td>0.0</td>\n",
       "      <td>0.0</td>\n",
       "      <td>0.50</td>\n",
       "      <td>0.0</td>\n",
       "      <td>0.0</td>\n",
       "      <td>-0.40</td>\n",
       "      <td>-0.304348</td>\n",
       "      <td>0.0</td>\n",
       "      <td>0.0</td>\n",
       "      <td>...</td>\n",
       "      <td>0.0</td>\n",
       "      <td>0.0</td>\n",
       "      <td>0.0</td>\n",
       "      <td>1.0</td>\n",
       "      <td>0.0</td>\n",
       "      <td>0.0</td>\n",
       "      <td>0.0</td>\n",
       "      <td>0.0</td>\n",
       "      <td>0.0</td>\n",
       "      <td>1.0</td>\n",
       "    </tr>\n",
       "    <tr>\n",
       "      <th>3</th>\n",
       "      <td>0.0</td>\n",
       "      <td>1.0</td>\n",
       "      <td>-1.0</td>\n",
       "      <td>1.25</td>\n",
       "      <td>0.0</td>\n",
       "      <td>0.0</td>\n",
       "      <td>-0.40</td>\n",
       "      <td>-1.391304</td>\n",
       "      <td>0.0</td>\n",
       "      <td>0.0</td>\n",
       "      <td>...</td>\n",
       "      <td>0.0</td>\n",
       "      <td>0.0</td>\n",
       "      <td>0.0</td>\n",
       "      <td>1.0</td>\n",
       "      <td>0.0</td>\n",
       "      <td>0.0</td>\n",
       "      <td>0.0</td>\n",
       "      <td>0.0</td>\n",
       "      <td>0.0</td>\n",
       "      <td>0.0</td>\n",
       "    </tr>\n",
       "    <tr>\n",
       "      <th>4</th>\n",
       "      <td>0.0</td>\n",
       "      <td>0.0</td>\n",
       "      <td>0.0</td>\n",
       "      <td>-0.75</td>\n",
       "      <td>0.0</td>\n",
       "      <td>0.0</td>\n",
       "      <td>0.52</td>\n",
       "      <td>0.695652</td>\n",
       "      <td>0.0</td>\n",
       "      <td>0.0</td>\n",
       "      <td>...</td>\n",
       "      <td>0.0</td>\n",
       "      <td>0.0</td>\n",
       "      <td>0.0</td>\n",
       "      <td>0.0</td>\n",
       "      <td>1.0</td>\n",
       "      <td>0.0</td>\n",
       "      <td>0.0</td>\n",
       "      <td>0.0</td>\n",
       "      <td>0.0</td>\n",
       "      <td>0.0</td>\n",
       "    </tr>\n",
       "    <tr>\n",
       "      <th>...</th>\n",
       "      <td>...</td>\n",
       "      <td>...</td>\n",
       "      <td>...</td>\n",
       "      <td>...</td>\n",
       "      <td>...</td>\n",
       "      <td>...</td>\n",
       "      <td>...</td>\n",
       "      <td>...</td>\n",
       "      <td>...</td>\n",
       "      <td>...</td>\n",
       "      <td>...</td>\n",
       "      <td>...</td>\n",
       "      <td>...</td>\n",
       "      <td>...</td>\n",
       "      <td>...</td>\n",
       "      <td>...</td>\n",
       "      <td>...</td>\n",
       "      <td>...</td>\n",
       "      <td>...</td>\n",
       "      <td>...</td>\n",
       "      <td>...</td>\n",
       "    </tr>\n",
       "    <tr>\n",
       "      <th>54803</th>\n",
       "      <td>0.0</td>\n",
       "      <td>0.0</td>\n",
       "      <td>0.0</td>\n",
       "      <td>3.00</td>\n",
       "      <td>0.0</td>\n",
       "      <td>0.0</td>\n",
       "      <td>0.72</td>\n",
       "      <td>0.913043</td>\n",
       "      <td>0.0</td>\n",
       "      <td>0.0</td>\n",
       "      <td>...</td>\n",
       "      <td>0.0</td>\n",
       "      <td>0.0</td>\n",
       "      <td>0.0</td>\n",
       "      <td>0.0</td>\n",
       "      <td>1.0</td>\n",
       "      <td>0.0</td>\n",
       "      <td>0.0</td>\n",
       "      <td>0.0</td>\n",
       "      <td>0.0</td>\n",
       "      <td>1.0</td>\n",
       "    </tr>\n",
       "    <tr>\n",
       "      <th>54804</th>\n",
       "      <td>-1.0</td>\n",
       "      <td>0.0</td>\n",
       "      <td>-0.5</td>\n",
       "      <td>0.25</td>\n",
       "      <td>0.0</td>\n",
       "      <td>0.0</td>\n",
       "      <td>-0.16</td>\n",
       "      <td>-0.043478</td>\n",
       "      <td>0.0</td>\n",
       "      <td>0.0</td>\n",
       "      <td>...</td>\n",
       "      <td>1.0</td>\n",
       "      <td>0.0</td>\n",
       "      <td>0.0</td>\n",
       "      <td>0.0</td>\n",
       "      <td>0.0</td>\n",
       "      <td>0.0</td>\n",
       "      <td>1.0</td>\n",
       "      <td>0.0</td>\n",
       "      <td>0.0</td>\n",
       "      <td>0.0</td>\n",
       "    </tr>\n",
       "    <tr>\n",
       "      <th>54805</th>\n",
       "      <td>0.0</td>\n",
       "      <td>0.0</td>\n",
       "      <td>1.0</td>\n",
       "      <td>-0.50</td>\n",
       "      <td>1.0</td>\n",
       "      <td>0.0</td>\n",
       "      <td>0.76</td>\n",
       "      <td>0.956522</td>\n",
       "      <td>0.0</td>\n",
       "      <td>0.0</td>\n",
       "      <td>...</td>\n",
       "      <td>0.0</td>\n",
       "      <td>0.0</td>\n",
       "      <td>0.0</td>\n",
       "      <td>0.0</td>\n",
       "      <td>0.0</td>\n",
       "      <td>0.0</td>\n",
       "      <td>0.0</td>\n",
       "      <td>0.0</td>\n",
       "      <td>0.0</td>\n",
       "      <td>0.0</td>\n",
       "    </tr>\n",
       "    <tr>\n",
       "      <th>54806</th>\n",
       "      <td>0.0</td>\n",
       "      <td>0.0</td>\n",
       "      <td>-1.0</td>\n",
       "      <td>-0.75</td>\n",
       "      <td>0.0</td>\n",
       "      <td>0.0</td>\n",
       "      <td>-0.60</td>\n",
       "      <td>-0.521739</td>\n",
       "      <td>0.0</td>\n",
       "      <td>0.0</td>\n",
       "      <td>...</td>\n",
       "      <td>0.0</td>\n",
       "      <td>0.0</td>\n",
       "      <td>0.0</td>\n",
       "      <td>1.0</td>\n",
       "      <td>0.0</td>\n",
       "      <td>0.0</td>\n",
       "      <td>0.0</td>\n",
       "      <td>1.0</td>\n",
       "      <td>0.0</td>\n",
       "      <td>1.0</td>\n",
       "    </tr>\n",
       "    <tr>\n",
       "      <th>54807</th>\n",
       "      <td>0.0</td>\n",
       "      <td>0.0</td>\n",
       "      <td>-1.0</td>\n",
       "      <td>0.00</td>\n",
       "      <td>0.0</td>\n",
       "      <td>0.0</td>\n",
       "      <td>-0.44</td>\n",
       "      <td>-0.347826</td>\n",
       "      <td>0.0</td>\n",
       "      <td>0.0</td>\n",
       "      <td>...</td>\n",
       "      <td>0.0</td>\n",
       "      <td>0.0</td>\n",
       "      <td>0.0</td>\n",
       "      <td>0.0</td>\n",
       "      <td>0.0</td>\n",
       "      <td>0.0</td>\n",
       "      <td>0.0</td>\n",
       "      <td>0.0</td>\n",
       "      <td>0.0</td>\n",
       "      <td>0.0</td>\n",
       "    </tr>\n",
       "  </tbody>\n",
       "</table>\n",
       "<p>54808 rows × 57 columns</p>\n",
       "</div>"
      ],
      "text/plain": [
       "        0    1    2     3    4    5     6         7    8    9   ...   47   48  \\\n",
       "0     -1.0  0.0  1.0  0.75  1.0  0.0 -0.44 -0.347826  0.0  0.0  ...  0.0  0.0   \n",
       "1      0.0  0.0  1.0 -0.25  0.0  0.0  0.00  0.130435  0.0  0.0  ...  1.0  0.0   \n",
       "2      0.0  0.0  0.0  0.50  0.0  0.0 -0.40 -0.304348  0.0  0.0  ...  0.0  0.0   \n",
       "3      0.0  1.0 -1.0  1.25  0.0  0.0 -0.40 -1.391304  0.0  0.0  ...  0.0  0.0   \n",
       "4      0.0  0.0  0.0 -0.75  0.0  0.0  0.52  0.695652  0.0  0.0  ...  0.0  0.0   \n",
       "...    ...  ...  ...   ...  ...  ...   ...       ...  ...  ...  ...  ...  ...   \n",
       "54803  0.0  0.0  0.0  3.00  0.0  0.0  0.72  0.913043  0.0  0.0  ...  0.0  0.0   \n",
       "54804 -1.0  0.0 -0.5  0.25  0.0  0.0 -0.16 -0.043478  0.0  0.0  ...  1.0  0.0   \n",
       "54805  0.0  0.0  1.0 -0.50  1.0  0.0  0.76  0.956522  0.0  0.0  ...  0.0  0.0   \n",
       "54806  0.0  0.0 -1.0 -0.75  0.0  0.0 -0.60 -0.521739  0.0  0.0  ...  0.0  0.0   \n",
       "54807  0.0  0.0 -1.0  0.00  0.0  0.0 -0.44 -0.347826  0.0  0.0  ...  0.0  0.0   \n",
       "\n",
       "        49   50   51   52   53   54   55   56  \n",
       "0      0.0  1.0  0.0  0.0  1.0  0.0  0.0  1.0  \n",
       "1      0.0  0.0  0.0  0.0  0.0  0.0  0.0  0.0  \n",
       "2      0.0  1.0  0.0  0.0  0.0  0.0  0.0  1.0  \n",
       "3      0.0  1.0  0.0  0.0  0.0  0.0  0.0  0.0  \n",
       "4      0.0  0.0  1.0  0.0  0.0  0.0  0.0  0.0  \n",
       "...    ...  ...  ...  ...  ...  ...  ...  ...  \n",
       "54803  0.0  0.0  1.0  0.0  0.0  0.0  0.0  1.0  \n",
       "54804  0.0  0.0  0.0  0.0  1.0  0.0  0.0  0.0  \n",
       "54805  0.0  0.0  0.0  0.0  0.0  0.0  0.0  0.0  \n",
       "54806  0.0  1.0  0.0  0.0  0.0  1.0  0.0  1.0  \n",
       "54807  0.0  0.0  0.0  0.0  0.0  0.0  0.0  0.0  \n",
       "\n",
       "[54808 rows x 57 columns]"
      ]
     },
     "execution_count": 53,
     "metadata": {},
     "output_type": "execute_result"
    }
   ],
   "source": [
    "x_sc"
   ]
  },
  {
   "cell_type": "code",
   "execution_count": 54,
   "id": "554fbd6d",
   "metadata": {},
   "outputs": [
    {
     "name": "stdout",
     "output_type": "stream",
     "text": [
      "(54808, 57)\n",
      "(54808, 31)\n",
      "(23490, 57)\n",
      "(23490, 32)\n"
     ]
    }
   ],
   "source": [
    "# Dimension Reduction - Pricipal component analysis\n",
    "from sklearn.decomposition import PCA\n",
    "pca = PCA(.95)\n",
    "x_pca = pca.fit_transform(x_sc)\n",
    "test_pca =pca.fit_transform(test_scaler)\n",
    "print(x.shape)\n",
    "print(x_pca.shape)\n",
    "print(test_new.shape)\n",
    "print(test_pca.shape)\n",
    "\n",
    "# we have 95% variance of the component parameter\n",
    "# 8 columns we need to have 95% varaince "
   ]
  },
  {
   "cell_type": "code",
   "execution_count": 55,
   "id": "1613b722",
   "metadata": {},
   "outputs": [
    {
     "data": {
      "text/plain": [
       "((43846, 57), (43846,), (10962, 57), (10962,))"
      ]
     },
     "execution_count": 55,
     "metadata": {},
     "output_type": "execute_result"
    }
   ],
   "source": [
    "from sklearn.model_selection import train_test_split\n",
    "x_train, x_test, y_train, y_test = train_test_split(x_sc, y, train_size=0.8, random_state=0)\n",
    "x_train.shape, y_train.shape, x_test.shape,y_test.shape"
   ]
  },
  {
   "cell_type": "markdown",
   "id": "33d60295",
   "metadata": {},
   "source": [
    "## 1.LogisticRegression"
   ]
  },
  {
   "cell_type": "code",
   "execution_count": 56,
   "id": "1b30bd54",
   "metadata": {},
   "outputs": [
    {
     "data": {
      "text/html": [
       "<style>#sk-container-id-1 {color: black;background-color: white;}#sk-container-id-1 pre{padding: 0;}#sk-container-id-1 div.sk-toggleable {background-color: white;}#sk-container-id-1 label.sk-toggleable__label {cursor: pointer;display: block;width: 100%;margin-bottom: 0;padding: 0.3em;box-sizing: border-box;text-align: center;}#sk-container-id-1 label.sk-toggleable__label-arrow:before {content: \"▸\";float: left;margin-right: 0.25em;color: #696969;}#sk-container-id-1 label.sk-toggleable__label-arrow:hover:before {color: black;}#sk-container-id-1 div.sk-estimator:hover label.sk-toggleable__label-arrow:before {color: black;}#sk-container-id-1 div.sk-toggleable__content {max-height: 0;max-width: 0;overflow: hidden;text-align: left;background-color: #f0f8ff;}#sk-container-id-1 div.sk-toggleable__content pre {margin: 0.2em;color: black;border-radius: 0.25em;background-color: #f0f8ff;}#sk-container-id-1 input.sk-toggleable__control:checked~div.sk-toggleable__content {max-height: 200px;max-width: 100%;overflow: auto;}#sk-container-id-1 input.sk-toggleable__control:checked~label.sk-toggleable__label-arrow:before {content: \"▾\";}#sk-container-id-1 div.sk-estimator input.sk-toggleable__control:checked~label.sk-toggleable__label {background-color: #d4ebff;}#sk-container-id-1 div.sk-label input.sk-toggleable__control:checked~label.sk-toggleable__label {background-color: #d4ebff;}#sk-container-id-1 input.sk-hidden--visually {border: 0;clip: rect(1px 1px 1px 1px);clip: rect(1px, 1px, 1px, 1px);height: 1px;margin: -1px;overflow: hidden;padding: 0;position: absolute;width: 1px;}#sk-container-id-1 div.sk-estimator {font-family: monospace;background-color: #f0f8ff;border: 1px dotted black;border-radius: 0.25em;box-sizing: border-box;margin-bottom: 0.5em;}#sk-container-id-1 div.sk-estimator:hover {background-color: #d4ebff;}#sk-container-id-1 div.sk-parallel-item::after {content: \"\";width: 100%;border-bottom: 1px solid gray;flex-grow: 1;}#sk-container-id-1 div.sk-label:hover label.sk-toggleable__label {background-color: #d4ebff;}#sk-container-id-1 div.sk-serial::before {content: \"\";position: absolute;border-left: 1px solid gray;box-sizing: border-box;top: 0;bottom: 0;left: 50%;z-index: 0;}#sk-container-id-1 div.sk-serial {display: flex;flex-direction: column;align-items: center;background-color: white;padding-right: 0.2em;padding-left: 0.2em;position: relative;}#sk-container-id-1 div.sk-item {position: relative;z-index: 1;}#sk-container-id-1 div.sk-parallel {display: flex;align-items: stretch;justify-content: center;background-color: white;position: relative;}#sk-container-id-1 div.sk-item::before, #sk-container-id-1 div.sk-parallel-item::before {content: \"\";position: absolute;border-left: 1px solid gray;box-sizing: border-box;top: 0;bottom: 0;left: 50%;z-index: -1;}#sk-container-id-1 div.sk-parallel-item {display: flex;flex-direction: column;z-index: 1;position: relative;background-color: white;}#sk-container-id-1 div.sk-parallel-item:first-child::after {align-self: flex-end;width: 50%;}#sk-container-id-1 div.sk-parallel-item:last-child::after {align-self: flex-start;width: 50%;}#sk-container-id-1 div.sk-parallel-item:only-child::after {width: 0;}#sk-container-id-1 div.sk-dashed-wrapped {border: 1px dashed gray;margin: 0 0.4em 0.5em 0.4em;box-sizing: border-box;padding-bottom: 0.4em;background-color: white;}#sk-container-id-1 div.sk-label label {font-family: monospace;font-weight: bold;display: inline-block;line-height: 1.2em;}#sk-container-id-1 div.sk-label-container {text-align: center;}#sk-container-id-1 div.sk-container {/* jupyter's `normalize.less` sets `[hidden] { display: none; }` but bootstrap.min.css set `[hidden] { display: none !important; }` so we also need the `!important` here to be able to override the default hidden behavior on the sphinx rendered scikit-learn.org. See: https://github.com/scikit-learn/scikit-learn/issues/21755 */display: inline-block !important;position: relative;}#sk-container-id-1 div.sk-text-repr-fallback {display: none;}</style><div id=\"sk-container-id-1\" class=\"sk-top-container\"><div class=\"sk-text-repr-fallback\"><pre>LogisticRegression()</pre><b>In a Jupyter environment, please rerun this cell to show the HTML representation or trust the notebook. <br />On GitHub, the HTML representation is unable to render, please try loading this page with nbviewer.org.</b></div><div class=\"sk-container\" hidden><div class=\"sk-item\"><div class=\"sk-estimator sk-toggleable\"><input class=\"sk-toggleable__control sk-hidden--visually\" id=\"sk-estimator-id-1\" type=\"checkbox\" checked><label for=\"sk-estimator-id-1\" class=\"sk-toggleable__label sk-toggleable__label-arrow\">LogisticRegression</label><div class=\"sk-toggleable__content\"><pre>LogisticRegression()</pre></div></div></div></div></div>"
      ],
      "text/plain": [
       "LogisticRegression()"
      ]
     },
     "execution_count": 56,
     "metadata": {},
     "output_type": "execute_result"
    }
   ],
   "source": [
    "from sklearn.linear_model import LogisticRegression \n",
    "logit_model = LogisticRegression()\n",
    "logit_model.fit(x_train,y_train)"
   ]
  },
  {
   "cell_type": "code",
   "execution_count": 57,
   "id": "7d25e12a",
   "metadata": {},
   "outputs": [],
   "source": [
    "y_pred_train = logit_model.predict(x_train)\n",
    "y_pred_test = logit_model.predict(x_test)"
   ]
  },
  {
   "cell_type": "code",
   "execution_count": 58,
   "id": "00fb78e1",
   "metadata": {},
   "outputs": [
    {
     "name": "stdout",
     "output_type": "stream",
     "text": [
      "train acc : 0.372 \n",
      "\n",
      "test acc : 0.370\n"
     ]
    }
   ],
   "source": [
    "print(\"train acc : %.3f\" %f1_score(y_train, logit_model.predict(x_train)),\"\\n\")\n",
    "print(\"test acc : %.3f\" %f1_score(y_test, logit_model.predict(x_test)))"
   ]
  },
  {
   "cell_type": "markdown",
   "id": "a129df64",
   "metadata": {},
   "source": [
    "## 2. Decision Tree Classifier"
   ]
  },
  {
   "cell_type": "code",
   "execution_count": 59,
   "id": "e13ef936",
   "metadata": {},
   "outputs": [
    {
     "data": {
      "text/html": [
       "<style>#sk-container-id-2 {color: black;background-color: white;}#sk-container-id-2 pre{padding: 0;}#sk-container-id-2 div.sk-toggleable {background-color: white;}#sk-container-id-2 label.sk-toggleable__label {cursor: pointer;display: block;width: 100%;margin-bottom: 0;padding: 0.3em;box-sizing: border-box;text-align: center;}#sk-container-id-2 label.sk-toggleable__label-arrow:before {content: \"▸\";float: left;margin-right: 0.25em;color: #696969;}#sk-container-id-2 label.sk-toggleable__label-arrow:hover:before {color: black;}#sk-container-id-2 div.sk-estimator:hover label.sk-toggleable__label-arrow:before {color: black;}#sk-container-id-2 div.sk-toggleable__content {max-height: 0;max-width: 0;overflow: hidden;text-align: left;background-color: #f0f8ff;}#sk-container-id-2 div.sk-toggleable__content pre {margin: 0.2em;color: black;border-radius: 0.25em;background-color: #f0f8ff;}#sk-container-id-2 input.sk-toggleable__control:checked~div.sk-toggleable__content {max-height: 200px;max-width: 100%;overflow: auto;}#sk-container-id-2 input.sk-toggleable__control:checked~label.sk-toggleable__label-arrow:before {content: \"▾\";}#sk-container-id-2 div.sk-estimator input.sk-toggleable__control:checked~label.sk-toggleable__label {background-color: #d4ebff;}#sk-container-id-2 div.sk-label input.sk-toggleable__control:checked~label.sk-toggleable__label {background-color: #d4ebff;}#sk-container-id-2 input.sk-hidden--visually {border: 0;clip: rect(1px 1px 1px 1px);clip: rect(1px, 1px, 1px, 1px);height: 1px;margin: -1px;overflow: hidden;padding: 0;position: absolute;width: 1px;}#sk-container-id-2 div.sk-estimator {font-family: monospace;background-color: #f0f8ff;border: 1px dotted black;border-radius: 0.25em;box-sizing: border-box;margin-bottom: 0.5em;}#sk-container-id-2 div.sk-estimator:hover {background-color: #d4ebff;}#sk-container-id-2 div.sk-parallel-item::after {content: \"\";width: 100%;border-bottom: 1px solid gray;flex-grow: 1;}#sk-container-id-2 div.sk-label:hover label.sk-toggleable__label {background-color: #d4ebff;}#sk-container-id-2 div.sk-serial::before {content: \"\";position: absolute;border-left: 1px solid gray;box-sizing: border-box;top: 0;bottom: 0;left: 50%;z-index: 0;}#sk-container-id-2 div.sk-serial {display: flex;flex-direction: column;align-items: center;background-color: white;padding-right: 0.2em;padding-left: 0.2em;position: relative;}#sk-container-id-2 div.sk-item {position: relative;z-index: 1;}#sk-container-id-2 div.sk-parallel {display: flex;align-items: stretch;justify-content: center;background-color: white;position: relative;}#sk-container-id-2 div.sk-item::before, #sk-container-id-2 div.sk-parallel-item::before {content: \"\";position: absolute;border-left: 1px solid gray;box-sizing: border-box;top: 0;bottom: 0;left: 50%;z-index: -1;}#sk-container-id-2 div.sk-parallel-item {display: flex;flex-direction: column;z-index: 1;position: relative;background-color: white;}#sk-container-id-2 div.sk-parallel-item:first-child::after {align-self: flex-end;width: 50%;}#sk-container-id-2 div.sk-parallel-item:last-child::after {align-self: flex-start;width: 50%;}#sk-container-id-2 div.sk-parallel-item:only-child::after {width: 0;}#sk-container-id-2 div.sk-dashed-wrapped {border: 1px dashed gray;margin: 0 0.4em 0.5em 0.4em;box-sizing: border-box;padding-bottom: 0.4em;background-color: white;}#sk-container-id-2 div.sk-label label {font-family: monospace;font-weight: bold;display: inline-block;line-height: 1.2em;}#sk-container-id-2 div.sk-label-container {text-align: center;}#sk-container-id-2 div.sk-container {/* jupyter's `normalize.less` sets `[hidden] { display: none; }` but bootstrap.min.css set `[hidden] { display: none !important; }` so we also need the `!important` here to be able to override the default hidden behavior on the sphinx rendered scikit-learn.org. See: https://github.com/scikit-learn/scikit-learn/issues/21755 */display: inline-block !important;position: relative;}#sk-container-id-2 div.sk-text-repr-fallback {display: none;}</style><div id=\"sk-container-id-2\" class=\"sk-top-container\"><div class=\"sk-text-repr-fallback\"><pre>DecisionTreeClassifier(max_depth=13)</pre><b>In a Jupyter environment, please rerun this cell to show the HTML representation or trust the notebook. <br />On GitHub, the HTML representation is unable to render, please try loading this page with nbviewer.org.</b></div><div class=\"sk-container\" hidden><div class=\"sk-item\"><div class=\"sk-estimator sk-toggleable\"><input class=\"sk-toggleable__control sk-hidden--visually\" id=\"sk-estimator-id-2\" type=\"checkbox\" checked><label for=\"sk-estimator-id-2\" class=\"sk-toggleable__label sk-toggleable__label-arrow\">DecisionTreeClassifier</label><div class=\"sk-toggleable__content\"><pre>DecisionTreeClassifier(max_depth=13)</pre></div></div></div></div></div>"
      ],
      "text/plain": [
       "DecisionTreeClassifier(max_depth=13)"
      ]
     },
     "execution_count": 59,
     "metadata": {},
     "output_type": "execute_result"
    }
   ],
   "source": [
    "from sklearn.tree import DecisionTreeClassifier \n",
    "classifier = DecisionTreeClassifier(max_depth=13)\n",
    "classifier.fit(x_train, y_train)"
   ]
  },
  {
   "cell_type": "code",
   "execution_count": 60,
   "id": "84270e44",
   "metadata": {},
   "outputs": [
    {
     "name": "stdout",
     "output_type": "stream",
     "text": [
      "train acc : 0.570 \n",
      "\n",
      "test acc : 0.505\n"
     ]
    }
   ],
   "source": [
    "print(\"train acc : %.3f\" %f1_score(y_train, classifier.predict(x_train)),\"\\n\")\n",
    "print(\"test acc : %.3f\" %f1_score(y_test, classifier.predict(x_test)))"
   ]
  },
  {
   "cell_type": "markdown",
   "id": "d9a944ab",
   "metadata": {},
   "source": [
    "# 3. Random Forest Classifier"
   ]
  },
  {
   "cell_type": "code",
   "execution_count": 61,
   "id": "6089c1b7",
   "metadata": {},
   "outputs": [
    {
     "data": {
      "text/html": [
       "<style>#sk-container-id-3 {color: black;background-color: white;}#sk-container-id-3 pre{padding: 0;}#sk-container-id-3 div.sk-toggleable {background-color: white;}#sk-container-id-3 label.sk-toggleable__label {cursor: pointer;display: block;width: 100%;margin-bottom: 0;padding: 0.3em;box-sizing: border-box;text-align: center;}#sk-container-id-3 label.sk-toggleable__label-arrow:before {content: \"▸\";float: left;margin-right: 0.25em;color: #696969;}#sk-container-id-3 label.sk-toggleable__label-arrow:hover:before {color: black;}#sk-container-id-3 div.sk-estimator:hover label.sk-toggleable__label-arrow:before {color: black;}#sk-container-id-3 div.sk-toggleable__content {max-height: 0;max-width: 0;overflow: hidden;text-align: left;background-color: #f0f8ff;}#sk-container-id-3 div.sk-toggleable__content pre {margin: 0.2em;color: black;border-radius: 0.25em;background-color: #f0f8ff;}#sk-container-id-3 input.sk-toggleable__control:checked~div.sk-toggleable__content {max-height: 200px;max-width: 100%;overflow: auto;}#sk-container-id-3 input.sk-toggleable__control:checked~label.sk-toggleable__label-arrow:before {content: \"▾\";}#sk-container-id-3 div.sk-estimator input.sk-toggleable__control:checked~label.sk-toggleable__label {background-color: #d4ebff;}#sk-container-id-3 div.sk-label input.sk-toggleable__control:checked~label.sk-toggleable__label {background-color: #d4ebff;}#sk-container-id-3 input.sk-hidden--visually {border: 0;clip: rect(1px 1px 1px 1px);clip: rect(1px, 1px, 1px, 1px);height: 1px;margin: -1px;overflow: hidden;padding: 0;position: absolute;width: 1px;}#sk-container-id-3 div.sk-estimator {font-family: monospace;background-color: #f0f8ff;border: 1px dotted black;border-radius: 0.25em;box-sizing: border-box;margin-bottom: 0.5em;}#sk-container-id-3 div.sk-estimator:hover {background-color: #d4ebff;}#sk-container-id-3 div.sk-parallel-item::after {content: \"\";width: 100%;border-bottom: 1px solid gray;flex-grow: 1;}#sk-container-id-3 div.sk-label:hover label.sk-toggleable__label {background-color: #d4ebff;}#sk-container-id-3 div.sk-serial::before {content: \"\";position: absolute;border-left: 1px solid gray;box-sizing: border-box;top: 0;bottom: 0;left: 50%;z-index: 0;}#sk-container-id-3 div.sk-serial {display: flex;flex-direction: column;align-items: center;background-color: white;padding-right: 0.2em;padding-left: 0.2em;position: relative;}#sk-container-id-3 div.sk-item {position: relative;z-index: 1;}#sk-container-id-3 div.sk-parallel {display: flex;align-items: stretch;justify-content: center;background-color: white;position: relative;}#sk-container-id-3 div.sk-item::before, #sk-container-id-3 div.sk-parallel-item::before {content: \"\";position: absolute;border-left: 1px solid gray;box-sizing: border-box;top: 0;bottom: 0;left: 50%;z-index: -1;}#sk-container-id-3 div.sk-parallel-item {display: flex;flex-direction: column;z-index: 1;position: relative;background-color: white;}#sk-container-id-3 div.sk-parallel-item:first-child::after {align-self: flex-end;width: 50%;}#sk-container-id-3 div.sk-parallel-item:last-child::after {align-self: flex-start;width: 50%;}#sk-container-id-3 div.sk-parallel-item:only-child::after {width: 0;}#sk-container-id-3 div.sk-dashed-wrapped {border: 1px dashed gray;margin: 0 0.4em 0.5em 0.4em;box-sizing: border-box;padding-bottom: 0.4em;background-color: white;}#sk-container-id-3 div.sk-label label {font-family: monospace;font-weight: bold;display: inline-block;line-height: 1.2em;}#sk-container-id-3 div.sk-label-container {text-align: center;}#sk-container-id-3 div.sk-container {/* jupyter's `normalize.less` sets `[hidden] { display: none; }` but bootstrap.min.css set `[hidden] { display: none !important; }` so we also need the `!important` here to be able to override the default hidden behavior on the sphinx rendered scikit-learn.org. See: https://github.com/scikit-learn/scikit-learn/issues/21755 */display: inline-block !important;position: relative;}#sk-container-id-3 div.sk-text-repr-fallback {display: none;}</style><div id=\"sk-container-id-3\" class=\"sk-top-container\"><div class=\"sk-text-repr-fallback\"><pre>RandomForestClassifier()</pre><b>In a Jupyter environment, please rerun this cell to show the HTML representation or trust the notebook. <br />On GitHub, the HTML representation is unable to render, please try loading this page with nbviewer.org.</b></div><div class=\"sk-container\" hidden><div class=\"sk-item\"><div class=\"sk-estimator sk-toggleable\"><input class=\"sk-toggleable__control sk-hidden--visually\" id=\"sk-estimator-id-3\" type=\"checkbox\" checked><label for=\"sk-estimator-id-3\" class=\"sk-toggleable__label sk-toggleable__label-arrow\">RandomForestClassifier</label><div class=\"sk-toggleable__content\"><pre>RandomForestClassifier()</pre></div></div></div></div></div>"
      ],
      "text/plain": [
       "RandomForestClassifier()"
      ]
     },
     "execution_count": 61,
     "metadata": {},
     "output_type": "execute_result"
    }
   ],
   "source": [
    "from sklearn.ensemble import RandomForestClassifier\n",
    "rf = RandomForestClassifier()\n",
    "rf.fit(x_train, y_train)"
   ]
  },
  {
   "cell_type": "code",
   "execution_count": 62,
   "id": "860dbddc",
   "metadata": {},
   "outputs": [
    {
     "name": "stdout",
     "output_type": "stream",
     "text": [
      "train acc : 0.990 \n",
      "\n",
      "test acc : 0.480\n"
     ]
    }
   ],
   "source": [
    "print(\"train acc : %.3f\" %f1_score(y_train, rf.predict(x_train)),\"\\n\")\n",
    "print(\"test acc : %.3f\" %f1_score(y_test, rf.predict(x_test)))"
   ]
  },
  {
   "cell_type": "markdown",
   "id": "0156317c",
   "metadata": {},
   "source": [
    "## 4. Light GBM"
   ]
  },
  {
   "cell_type": "code",
   "execution_count": 63,
   "id": "914f7a02",
   "metadata": {},
   "outputs": [],
   "source": [
    "from lightgbm import LGBMClassifier\n",
    "from sklearn.metrics import f1_score,confusion_matrix,accuracy_score,roc_auc_score"
   ]
  },
  {
   "cell_type": "code",
   "execution_count": 64,
   "id": "d5af9f8b",
   "metadata": {},
   "outputs": [
    {
     "data": {
      "text/html": [
       "<style>#sk-container-id-4 {color: black;background-color: white;}#sk-container-id-4 pre{padding: 0;}#sk-container-id-4 div.sk-toggleable {background-color: white;}#sk-container-id-4 label.sk-toggleable__label {cursor: pointer;display: block;width: 100%;margin-bottom: 0;padding: 0.3em;box-sizing: border-box;text-align: center;}#sk-container-id-4 label.sk-toggleable__label-arrow:before {content: \"▸\";float: left;margin-right: 0.25em;color: #696969;}#sk-container-id-4 label.sk-toggleable__label-arrow:hover:before {color: black;}#sk-container-id-4 div.sk-estimator:hover label.sk-toggleable__label-arrow:before {color: black;}#sk-container-id-4 div.sk-toggleable__content {max-height: 0;max-width: 0;overflow: hidden;text-align: left;background-color: #f0f8ff;}#sk-container-id-4 div.sk-toggleable__content pre {margin: 0.2em;color: black;border-radius: 0.25em;background-color: #f0f8ff;}#sk-container-id-4 input.sk-toggleable__control:checked~div.sk-toggleable__content {max-height: 200px;max-width: 100%;overflow: auto;}#sk-container-id-4 input.sk-toggleable__control:checked~label.sk-toggleable__label-arrow:before {content: \"▾\";}#sk-container-id-4 div.sk-estimator input.sk-toggleable__control:checked~label.sk-toggleable__label {background-color: #d4ebff;}#sk-container-id-4 div.sk-label input.sk-toggleable__control:checked~label.sk-toggleable__label {background-color: #d4ebff;}#sk-container-id-4 input.sk-hidden--visually {border: 0;clip: rect(1px 1px 1px 1px);clip: rect(1px, 1px, 1px, 1px);height: 1px;margin: -1px;overflow: hidden;padding: 0;position: absolute;width: 1px;}#sk-container-id-4 div.sk-estimator {font-family: monospace;background-color: #f0f8ff;border: 1px dotted black;border-radius: 0.25em;box-sizing: border-box;margin-bottom: 0.5em;}#sk-container-id-4 div.sk-estimator:hover {background-color: #d4ebff;}#sk-container-id-4 div.sk-parallel-item::after {content: \"\";width: 100%;border-bottom: 1px solid gray;flex-grow: 1;}#sk-container-id-4 div.sk-label:hover label.sk-toggleable__label {background-color: #d4ebff;}#sk-container-id-4 div.sk-serial::before {content: \"\";position: absolute;border-left: 1px solid gray;box-sizing: border-box;top: 0;bottom: 0;left: 50%;z-index: 0;}#sk-container-id-4 div.sk-serial {display: flex;flex-direction: column;align-items: center;background-color: white;padding-right: 0.2em;padding-left: 0.2em;position: relative;}#sk-container-id-4 div.sk-item {position: relative;z-index: 1;}#sk-container-id-4 div.sk-parallel {display: flex;align-items: stretch;justify-content: center;background-color: white;position: relative;}#sk-container-id-4 div.sk-item::before, #sk-container-id-4 div.sk-parallel-item::before {content: \"\";position: absolute;border-left: 1px solid gray;box-sizing: border-box;top: 0;bottom: 0;left: 50%;z-index: -1;}#sk-container-id-4 div.sk-parallel-item {display: flex;flex-direction: column;z-index: 1;position: relative;background-color: white;}#sk-container-id-4 div.sk-parallel-item:first-child::after {align-self: flex-end;width: 50%;}#sk-container-id-4 div.sk-parallel-item:last-child::after {align-self: flex-start;width: 50%;}#sk-container-id-4 div.sk-parallel-item:only-child::after {width: 0;}#sk-container-id-4 div.sk-dashed-wrapped {border: 1px dashed gray;margin: 0 0.4em 0.5em 0.4em;box-sizing: border-box;padding-bottom: 0.4em;background-color: white;}#sk-container-id-4 div.sk-label label {font-family: monospace;font-weight: bold;display: inline-block;line-height: 1.2em;}#sk-container-id-4 div.sk-label-container {text-align: center;}#sk-container-id-4 div.sk-container {/* jupyter's `normalize.less` sets `[hidden] { display: none; }` but bootstrap.min.css set `[hidden] { display: none !important; }` so we also need the `!important` here to be able to override the default hidden behavior on the sphinx rendered scikit-learn.org. See: https://github.com/scikit-learn/scikit-learn/issues/21755 */display: inline-block !important;position: relative;}#sk-container-id-4 div.sk-text-repr-fallback {display: none;}</style><div id=\"sk-container-id-4\" class=\"sk-top-container\"><div class=\"sk-text-repr-fallback\"><pre>LGBMClassifier(boosting_type=&#x27;dart&#x27;, importance_type=&#x27;gain&#x27;, learning_rate=0.19,\n",
       "               max_bin=60, max_depth=4, n_estimators=256, num_leaves=400,\n",
       "               objective=&#x27;binary&#x27;, scale_pos_weight=2.3, subsample_freq=2,\n",
       "               verbosity=-1)</pre><b>In a Jupyter environment, please rerun this cell to show the HTML representation or trust the notebook. <br />On GitHub, the HTML representation is unable to render, please try loading this page with nbviewer.org.</b></div><div class=\"sk-container\" hidden><div class=\"sk-item\"><div class=\"sk-estimator sk-toggleable\"><input class=\"sk-toggleable__control sk-hidden--visually\" id=\"sk-estimator-id-4\" type=\"checkbox\" checked><label for=\"sk-estimator-id-4\" class=\"sk-toggleable__label sk-toggleable__label-arrow\">LGBMClassifier</label><div class=\"sk-toggleable__content\"><pre>LGBMClassifier(boosting_type=&#x27;dart&#x27;, importance_type=&#x27;gain&#x27;, learning_rate=0.19,\n",
       "               max_bin=60, max_depth=4, n_estimators=256, num_leaves=400,\n",
       "               objective=&#x27;binary&#x27;, scale_pos_weight=2.3, subsample_freq=2,\n",
       "               verbosity=-1)</pre></div></div></div></div></div>"
      ],
      "text/plain": [
       "LGBMClassifier(boosting_type='dart', importance_type='gain', learning_rate=0.19,\n",
       "               max_bin=60, max_depth=4, n_estimators=256, num_leaves=400,\n",
       "               objective='binary', scale_pos_weight=2.3, subsample_freq=2,\n",
       "               verbosity=-1)"
      ]
     },
     "execution_count": 64,
     "metadata": {},
     "output_type": "execute_result"
    }
   ],
   "source": [
    "classifier = LGBMClassifier(subsample_freq = 2, \n",
    "                                             objective =\"binary\",\n",
    "                                             importance_type = \"gain\",\n",
    "                                             verbosity = -1, \n",
    "                                             max_bin = 60,\n",
    "                                             num_leaves = 400,\n",
    "                                             boosting_type = 'dart',\n",
    "                                             learning_rate=0.19, \n",
    "                                             n_estimators=256,\n",
    "                                             max_depth=4,\n",
    "                                             scale_pos_weight=2.3)\n",
    "classifier.fit(x_train,y_train)"
   ]
  },
  {
   "cell_type": "code",
   "execution_count": 65,
   "id": "1ceb0dfd",
   "metadata": {},
   "outputs": [
    {
     "name": "stdout",
     "output_type": "stream",
     "text": [
      "train f1_score : 0.5367 \n",
      "\n",
      "test f1_score : 0.5329\n"
     ]
    }
   ],
   "source": [
    "print(\"train f1_score : %.4f\" %f1_score(y_train, classifier.predict(x_train)),\"\\n\")\n",
    "print(\"test f1_score : %.4f\" %f1_score(y_test, classifier.predict(x_test)))\n",
    "# 0.49405772 ,0.4922547332185,0.49466192170818507."
   ]
  },
  {
   "cell_type": "markdown",
   "id": "3053fdd9",
   "metadata": {},
   "source": [
    "# 5. XGBoost Classifier"
   ]
  },
  {
   "cell_type": "code",
   "execution_count": 66,
   "id": "bae47730",
   "metadata": {},
   "outputs": [
    {
     "data": {
      "text/html": [
       "<style>#sk-container-id-5 {color: black;background-color: white;}#sk-container-id-5 pre{padding: 0;}#sk-container-id-5 div.sk-toggleable {background-color: white;}#sk-container-id-5 label.sk-toggleable__label {cursor: pointer;display: block;width: 100%;margin-bottom: 0;padding: 0.3em;box-sizing: border-box;text-align: center;}#sk-container-id-5 label.sk-toggleable__label-arrow:before {content: \"▸\";float: left;margin-right: 0.25em;color: #696969;}#sk-container-id-5 label.sk-toggleable__label-arrow:hover:before {color: black;}#sk-container-id-5 div.sk-estimator:hover label.sk-toggleable__label-arrow:before {color: black;}#sk-container-id-5 div.sk-toggleable__content {max-height: 0;max-width: 0;overflow: hidden;text-align: left;background-color: #f0f8ff;}#sk-container-id-5 div.sk-toggleable__content pre {margin: 0.2em;color: black;border-radius: 0.25em;background-color: #f0f8ff;}#sk-container-id-5 input.sk-toggleable__control:checked~div.sk-toggleable__content {max-height: 200px;max-width: 100%;overflow: auto;}#sk-container-id-5 input.sk-toggleable__control:checked~label.sk-toggleable__label-arrow:before {content: \"▾\";}#sk-container-id-5 div.sk-estimator input.sk-toggleable__control:checked~label.sk-toggleable__label {background-color: #d4ebff;}#sk-container-id-5 div.sk-label input.sk-toggleable__control:checked~label.sk-toggleable__label {background-color: #d4ebff;}#sk-container-id-5 input.sk-hidden--visually {border: 0;clip: rect(1px 1px 1px 1px);clip: rect(1px, 1px, 1px, 1px);height: 1px;margin: -1px;overflow: hidden;padding: 0;position: absolute;width: 1px;}#sk-container-id-5 div.sk-estimator {font-family: monospace;background-color: #f0f8ff;border: 1px dotted black;border-radius: 0.25em;box-sizing: border-box;margin-bottom: 0.5em;}#sk-container-id-5 div.sk-estimator:hover {background-color: #d4ebff;}#sk-container-id-5 div.sk-parallel-item::after {content: \"\";width: 100%;border-bottom: 1px solid gray;flex-grow: 1;}#sk-container-id-5 div.sk-label:hover label.sk-toggleable__label {background-color: #d4ebff;}#sk-container-id-5 div.sk-serial::before {content: \"\";position: absolute;border-left: 1px solid gray;box-sizing: border-box;top: 0;bottom: 0;left: 50%;z-index: 0;}#sk-container-id-5 div.sk-serial {display: flex;flex-direction: column;align-items: center;background-color: white;padding-right: 0.2em;padding-left: 0.2em;position: relative;}#sk-container-id-5 div.sk-item {position: relative;z-index: 1;}#sk-container-id-5 div.sk-parallel {display: flex;align-items: stretch;justify-content: center;background-color: white;position: relative;}#sk-container-id-5 div.sk-item::before, #sk-container-id-5 div.sk-parallel-item::before {content: \"\";position: absolute;border-left: 1px solid gray;box-sizing: border-box;top: 0;bottom: 0;left: 50%;z-index: -1;}#sk-container-id-5 div.sk-parallel-item {display: flex;flex-direction: column;z-index: 1;position: relative;background-color: white;}#sk-container-id-5 div.sk-parallel-item:first-child::after {align-self: flex-end;width: 50%;}#sk-container-id-5 div.sk-parallel-item:last-child::after {align-self: flex-start;width: 50%;}#sk-container-id-5 div.sk-parallel-item:only-child::after {width: 0;}#sk-container-id-5 div.sk-dashed-wrapped {border: 1px dashed gray;margin: 0 0.4em 0.5em 0.4em;box-sizing: border-box;padding-bottom: 0.4em;background-color: white;}#sk-container-id-5 div.sk-label label {font-family: monospace;font-weight: bold;display: inline-block;line-height: 1.2em;}#sk-container-id-5 div.sk-label-container {text-align: center;}#sk-container-id-5 div.sk-container {/* jupyter's `normalize.less` sets `[hidden] { display: none; }` but bootstrap.min.css set `[hidden] { display: none !important; }` so we also need the `!important` here to be able to override the default hidden behavior on the sphinx rendered scikit-learn.org. See: https://github.com/scikit-learn/scikit-learn/issues/21755 */display: inline-block !important;position: relative;}#sk-container-id-5 div.sk-text-repr-fallback {display: none;}</style><div id=\"sk-container-id-5\" class=\"sk-top-container\"><div class=\"sk-text-repr-fallback\"><pre>XGBClassifier(base_score=0.5, booster=&#x27;gbtree&#x27;, callbacks=None,\n",
       "              colsample_bylevel=1, colsample_bynode=1, colsample_bytree=1,\n",
       "              early_stopping_rounds=None, enable_categorical=False,\n",
       "              eval_metric=None, gamma=0, gpu_id=-1, grow_policy=&#x27;depthwise&#x27;,\n",
       "              importance_type=None, interaction_constraints=&#x27;&#x27;,\n",
       "              learning_rate=0.300000012, max_bin=256, max_cat_to_onehot=4,\n",
       "              max_delta_step=0, max_depth=6, max_leaves=0, min_child_weight=1,\n",
       "              missing=nan, monotone_constraints=&#x27;()&#x27;, n_estimators=100,\n",
       "              n_jobs=0, num_parallel_tree=1, predictor=&#x27;auto&#x27;, random_state=0,\n",
       "              reg_alpha=0, reg_lambda=1, ...)</pre><b>In a Jupyter environment, please rerun this cell to show the HTML representation or trust the notebook. <br />On GitHub, the HTML representation is unable to render, please try loading this page with nbviewer.org.</b></div><div class=\"sk-container\" hidden><div class=\"sk-item\"><div class=\"sk-estimator sk-toggleable\"><input class=\"sk-toggleable__control sk-hidden--visually\" id=\"sk-estimator-id-5\" type=\"checkbox\" checked><label for=\"sk-estimator-id-5\" class=\"sk-toggleable__label sk-toggleable__label-arrow\">XGBClassifier</label><div class=\"sk-toggleable__content\"><pre>XGBClassifier(base_score=0.5, booster=&#x27;gbtree&#x27;, callbacks=None,\n",
       "              colsample_bylevel=1, colsample_bynode=1, colsample_bytree=1,\n",
       "              early_stopping_rounds=None, enable_categorical=False,\n",
       "              eval_metric=None, gamma=0, gpu_id=-1, grow_policy=&#x27;depthwise&#x27;,\n",
       "              importance_type=None, interaction_constraints=&#x27;&#x27;,\n",
       "              learning_rate=0.300000012, max_bin=256, max_cat_to_onehot=4,\n",
       "              max_delta_step=0, max_depth=6, max_leaves=0, min_child_weight=1,\n",
       "              missing=nan, monotone_constraints=&#x27;()&#x27;, n_estimators=100,\n",
       "              n_jobs=0, num_parallel_tree=1, predictor=&#x27;auto&#x27;, random_state=0,\n",
       "              reg_alpha=0, reg_lambda=1, ...)</pre></div></div></div></div></div>"
      ],
      "text/plain": [
       "XGBClassifier(base_score=0.5, booster='gbtree', callbacks=None,\n",
       "              colsample_bylevel=1, colsample_bynode=1, colsample_bytree=1,\n",
       "              early_stopping_rounds=None, enable_categorical=False,\n",
       "              eval_metric=None, gamma=0, gpu_id=-1, grow_policy='depthwise',\n",
       "              importance_type=None, interaction_constraints='',\n",
       "              learning_rate=0.300000012, max_bin=256, max_cat_to_onehot=4,\n",
       "              max_delta_step=0, max_depth=6, max_leaves=0, min_child_weight=1,\n",
       "              missing=nan, monotone_constraints='()', n_estimators=100,\n",
       "              n_jobs=0, num_parallel_tree=1, predictor='auto', random_state=0,\n",
       "              reg_alpha=0, reg_lambda=1, ...)"
      ]
     },
     "execution_count": 66,
     "metadata": {},
     "output_type": "execute_result"
    }
   ],
   "source": [
    "from xgboost import XGBClassifier\n",
    "classifier = XGBClassifier()\n",
    "classifier.fit(x_train, y_train)"
   ]
  },
  {
   "cell_type": "code",
   "execution_count": 67,
   "id": "3e538075",
   "metadata": {},
   "outputs": [
    {
     "name": "stdout",
     "output_type": "stream",
     "text": [
      "train f1_score : 0.5715 \n",
      "\n",
      "test f1_score : 0.5258\n"
     ]
    }
   ],
   "source": [
    "print(\"train f1_score : %.4f\" %f1_score(y_train, classifier.predict(x_train)),\"\\n\")\n",
    "print(\"test f1_score : %.4f\" %f1_score(y_test, classifier.predict(x_test)))\n",
    "# 0.49405772 ,0.4922547332185,0.49466192170818507."
   ]
  },
  {
   "cell_type": "markdown",
   "id": "78b9492e",
   "metadata": {},
   "source": [
    "## 6 hypertunning---Random Forest Classifier"
   ]
  },
  {
   "cell_type": "code",
   "execution_count": 68,
   "id": "231d26b2",
   "metadata": {},
   "outputs": [
    {
     "name": "stdout",
     "output_type": "stream",
     "text": [
      "Parameters currently in use:\n",
      "\n",
      "{'bootstrap': True, 'ccp_alpha': 0.0, 'class_weight': None, 'criterion': 'gini', 'max_depth': None, 'max_features': 'sqrt', 'max_leaf_nodes': None, 'max_samples': None, 'min_impurity_decrease': 0.0, 'min_samples_leaf': 1, 'min_samples_split': 2, 'min_weight_fraction_leaf': 0.0, 'n_estimators': 100, 'n_jobs': None, 'oob_score': False, 'random_state': 42, 'verbose': 0, 'warm_start': False}\n"
     ]
    }
   ],
   "source": [
    "rf = RandomForestClassifier(random_state = 42)\n",
    "# Look at parameters used by our current forest\n",
    "print('Parameters currently in use:\\n')\n",
    "print(rf.get_params())"
   ]
  },
  {
   "cell_type": "code",
   "execution_count": 69,
   "id": "67158cc0",
   "metadata": {},
   "outputs": [
    {
     "name": "stdout",
     "output_type": "stream",
     "text": [
      "{'n_estimators': [200, 400, 600, 800, 1000, 1200, 1400, 1600, 1800, 2000], 'max_features': ['auto', 'sqrt'], 'max_depth': [10, 20, 30, 40, 50, 60, 70, 80, 90, 100, 110, None], 'min_samples_split': [2, 5, 10, 15], 'min_samples_leaf': [1, 2, 4, 6], 'bootstrap': [True, False]}\n"
     ]
    }
   ],
   "source": [
    "n_estimators = [int(x) for x in np.linspace(start = 200, stop = 2000, num = 10)]\n",
    "# Number of features to consider at every split\n",
    "max_features = ['auto', 'sqrt']\n",
    "# Maximum number of levels in tree\n",
    "max_depth = [int(x) for x in np.linspace(10, 110, num = 11)]\n",
    "max_depth.append(None)\n",
    "# Minimum number of samples required to split a node\n",
    "min_samples_split = [2, 5, 10, 15]\n",
    "# Minimum number of samples required at each leaf node\n",
    "min_samples_leaf = [1, 2, 4, 6]\n",
    "# Method of selecting samples for training each tree\n",
    "bootstrap = [True, False]\n",
    "# Create the random grid\n",
    "random_grid = {'n_estimators': n_estimators,\n",
    "               'max_features': max_features,\n",
    "               'max_depth': max_depth,\n",
    "               'min_samples_split': min_samples_split,\n",
    "               'min_samples_leaf': min_samples_leaf,\n",
    "               'bootstrap': bootstrap}\n",
    "print(random_grid)"
   ]
  },
  {
   "cell_type": "code",
   "execution_count": 70,
   "id": "f1f6b57d",
   "metadata": {},
   "outputs": [
    {
     "name": "stdout",
     "output_type": "stream",
     "text": [
      "Fitting 3 folds for each of 20 candidates, totalling 60 fits\n"
     ]
    },
    {
     "data": {
      "text/html": [
       "<style>#sk-container-id-6 {color: black;background-color: white;}#sk-container-id-6 pre{padding: 0;}#sk-container-id-6 div.sk-toggleable {background-color: white;}#sk-container-id-6 label.sk-toggleable__label {cursor: pointer;display: block;width: 100%;margin-bottom: 0;padding: 0.3em;box-sizing: border-box;text-align: center;}#sk-container-id-6 label.sk-toggleable__label-arrow:before {content: \"▸\";float: left;margin-right: 0.25em;color: #696969;}#sk-container-id-6 label.sk-toggleable__label-arrow:hover:before {color: black;}#sk-container-id-6 div.sk-estimator:hover label.sk-toggleable__label-arrow:before {color: black;}#sk-container-id-6 div.sk-toggleable__content {max-height: 0;max-width: 0;overflow: hidden;text-align: left;background-color: #f0f8ff;}#sk-container-id-6 div.sk-toggleable__content pre {margin: 0.2em;color: black;border-radius: 0.25em;background-color: #f0f8ff;}#sk-container-id-6 input.sk-toggleable__control:checked~div.sk-toggleable__content {max-height: 200px;max-width: 100%;overflow: auto;}#sk-container-id-6 input.sk-toggleable__control:checked~label.sk-toggleable__label-arrow:before {content: \"▾\";}#sk-container-id-6 div.sk-estimator input.sk-toggleable__control:checked~label.sk-toggleable__label {background-color: #d4ebff;}#sk-container-id-6 div.sk-label input.sk-toggleable__control:checked~label.sk-toggleable__label {background-color: #d4ebff;}#sk-container-id-6 input.sk-hidden--visually {border: 0;clip: rect(1px 1px 1px 1px);clip: rect(1px, 1px, 1px, 1px);height: 1px;margin: -1px;overflow: hidden;padding: 0;position: absolute;width: 1px;}#sk-container-id-6 div.sk-estimator {font-family: monospace;background-color: #f0f8ff;border: 1px dotted black;border-radius: 0.25em;box-sizing: border-box;margin-bottom: 0.5em;}#sk-container-id-6 div.sk-estimator:hover {background-color: #d4ebff;}#sk-container-id-6 div.sk-parallel-item::after {content: \"\";width: 100%;border-bottom: 1px solid gray;flex-grow: 1;}#sk-container-id-6 div.sk-label:hover label.sk-toggleable__label {background-color: #d4ebff;}#sk-container-id-6 div.sk-serial::before {content: \"\";position: absolute;border-left: 1px solid gray;box-sizing: border-box;top: 0;bottom: 0;left: 50%;z-index: 0;}#sk-container-id-6 div.sk-serial {display: flex;flex-direction: column;align-items: center;background-color: white;padding-right: 0.2em;padding-left: 0.2em;position: relative;}#sk-container-id-6 div.sk-item {position: relative;z-index: 1;}#sk-container-id-6 div.sk-parallel {display: flex;align-items: stretch;justify-content: center;background-color: white;position: relative;}#sk-container-id-6 div.sk-item::before, #sk-container-id-6 div.sk-parallel-item::before {content: \"\";position: absolute;border-left: 1px solid gray;box-sizing: border-box;top: 0;bottom: 0;left: 50%;z-index: -1;}#sk-container-id-6 div.sk-parallel-item {display: flex;flex-direction: column;z-index: 1;position: relative;background-color: white;}#sk-container-id-6 div.sk-parallel-item:first-child::after {align-self: flex-end;width: 50%;}#sk-container-id-6 div.sk-parallel-item:last-child::after {align-self: flex-start;width: 50%;}#sk-container-id-6 div.sk-parallel-item:only-child::after {width: 0;}#sk-container-id-6 div.sk-dashed-wrapped {border: 1px dashed gray;margin: 0 0.4em 0.5em 0.4em;box-sizing: border-box;padding-bottom: 0.4em;background-color: white;}#sk-container-id-6 div.sk-label label {font-family: monospace;font-weight: bold;display: inline-block;line-height: 1.2em;}#sk-container-id-6 div.sk-label-container {text-align: center;}#sk-container-id-6 div.sk-container {/* jupyter's `normalize.less` sets `[hidden] { display: none; }` but bootstrap.min.css set `[hidden] { display: none !important; }` so we also need the `!important` here to be able to override the default hidden behavior on the sphinx rendered scikit-learn.org. See: https://github.com/scikit-learn/scikit-learn/issues/21755 */display: inline-block !important;position: relative;}#sk-container-id-6 div.sk-text-repr-fallback {display: none;}</style><div id=\"sk-container-id-6\" class=\"sk-top-container\"><div class=\"sk-text-repr-fallback\"><pre>RandomizedSearchCV(cv=3, estimator=RandomForestClassifier(random_state=1),\n",
       "                   n_iter=20, n_jobs=-1,\n",
       "                   param_distributions={&#x27;bootstrap&#x27;: [True, False],\n",
       "                                        &#x27;max_depth&#x27;: [10, 20, 30, 40, 50, 60,\n",
       "                                                      70, 80, 90, 100, 110,\n",
       "                                                      None],\n",
       "                                        &#x27;max_features&#x27;: [&#x27;auto&#x27;, &#x27;sqrt&#x27;],\n",
       "                                        &#x27;min_samples_leaf&#x27;: [1, 2, 4, 6],\n",
       "                                        &#x27;min_samples_split&#x27;: [2, 5, 10, 15],\n",
       "                                        &#x27;n_estimators&#x27;: [200, 400, 600, 800,\n",
       "                                                         1000, 1200, 1400, 1600,\n",
       "                                                         1800, 2000]},\n",
       "                   random_state=42, scoring=&#x27;f1&#x27;, verbose=3)</pre><b>In a Jupyter environment, please rerun this cell to show the HTML representation or trust the notebook. <br />On GitHub, the HTML representation is unable to render, please try loading this page with nbviewer.org.</b></div><div class=\"sk-container\" hidden><div class=\"sk-item sk-dashed-wrapped\"><div class=\"sk-label-container\"><div class=\"sk-label sk-toggleable\"><input class=\"sk-toggleable__control sk-hidden--visually\" id=\"sk-estimator-id-6\" type=\"checkbox\" ><label for=\"sk-estimator-id-6\" class=\"sk-toggleable__label sk-toggleable__label-arrow\">RandomizedSearchCV</label><div class=\"sk-toggleable__content\"><pre>RandomizedSearchCV(cv=3, estimator=RandomForestClassifier(random_state=1),\n",
       "                   n_iter=20, n_jobs=-1,\n",
       "                   param_distributions={&#x27;bootstrap&#x27;: [True, False],\n",
       "                                        &#x27;max_depth&#x27;: [10, 20, 30, 40, 50, 60,\n",
       "                                                      70, 80, 90, 100, 110,\n",
       "                                                      None],\n",
       "                                        &#x27;max_features&#x27;: [&#x27;auto&#x27;, &#x27;sqrt&#x27;],\n",
       "                                        &#x27;min_samples_leaf&#x27;: [1, 2, 4, 6],\n",
       "                                        &#x27;min_samples_split&#x27;: [2, 5, 10, 15],\n",
       "                                        &#x27;n_estimators&#x27;: [200, 400, 600, 800,\n",
       "                                                         1000, 1200, 1400, 1600,\n",
       "                                                         1800, 2000]},\n",
       "                   random_state=42, scoring=&#x27;f1&#x27;, verbose=3)</pre></div></div></div><div class=\"sk-parallel\"><div class=\"sk-parallel-item\"><div class=\"sk-item\"><div class=\"sk-label-container\"><div class=\"sk-label sk-toggleable\"><input class=\"sk-toggleable__control sk-hidden--visually\" id=\"sk-estimator-id-7\" type=\"checkbox\" ><label for=\"sk-estimator-id-7\" class=\"sk-toggleable__label sk-toggleable__label-arrow\">estimator: RandomForestClassifier</label><div class=\"sk-toggleable__content\"><pre>RandomForestClassifier(random_state=1)</pre></div></div></div><div class=\"sk-serial\"><div class=\"sk-item\"><div class=\"sk-estimator sk-toggleable\"><input class=\"sk-toggleable__control sk-hidden--visually\" id=\"sk-estimator-id-8\" type=\"checkbox\" ><label for=\"sk-estimator-id-8\" class=\"sk-toggleable__label sk-toggleable__label-arrow\">RandomForestClassifier</label><div class=\"sk-toggleable__content\"><pre>RandomForestClassifier(random_state=1)</pre></div></div></div></div></div></div></div></div></div></div>"
      ],
      "text/plain": [
       "RandomizedSearchCV(cv=3, estimator=RandomForestClassifier(random_state=1),\n",
       "                   n_iter=20, n_jobs=-1,\n",
       "                   param_distributions={'bootstrap': [True, False],\n",
       "                                        'max_depth': [10, 20, 30, 40, 50, 60,\n",
       "                                                      70, 80, 90, 100, 110,\n",
       "                                                      None],\n",
       "                                        'max_features': ['auto', 'sqrt'],\n",
       "                                        'min_samples_leaf': [1, 2, 4, 6],\n",
       "                                        'min_samples_split': [2, 5, 10, 15],\n",
       "                                        'n_estimators': [200, 400, 600, 800,\n",
       "                                                         1000, 1200, 1400, 1600,\n",
       "                                                         1800, 2000]},\n",
       "                   random_state=42, scoring='f1', verbose=3)"
      ]
     },
     "execution_count": 70,
     "metadata": {},
     "output_type": "execute_result"
    }
   ],
   "source": [
    "from sklearn.model_selection import RandomizedSearchCV\n",
    "rf = RandomForestClassifier(random_state = 1)\n",
    "rf_random = RandomizedSearchCV(estimator = rf, param_distributions = random_grid, n_iter = 20, cv = 3,scoring='f1',verbose=3, random_state=42, n_jobs = -1)\n",
    "# Fit the random search model\n",
    "rf_random.fit(x_train, y_train)"
   ]
  },
  {
   "cell_type": "code",
   "execution_count": 78,
   "id": "4074639a",
   "metadata": {},
   "outputs": [
    {
     "name": "stdout",
     "output_type": "stream",
     "text": [
      "train f1_score : 0.7409 \n",
      "\n",
      "test f1_score : 0.4948\n"
     ]
    }
   ],
   "source": [
    "print(\"train f1_score : %.4f\" %f1_score(y_train, rf_random.predict(x_train)),\"\\n\")\n",
    "print(\"test f1_score : %.4f\" %f1_score(y_test, rf_random.predict(x_test)))\n",
    "# 0.49405772 ,0.4922547332185,0.49466192170818507."
   ]
  },
  {
   "cell_type": "code",
   "execution_count": 79,
   "id": "40618a8e",
   "metadata": {},
   "outputs": [
    {
     "data": {
      "text/plain": [
       "{'cv': 3,\n",
       " 'error_score': nan,\n",
       " 'estimator__bootstrap': True,\n",
       " 'estimator__ccp_alpha': 0.0,\n",
       " 'estimator__class_weight': None,\n",
       " 'estimator__criterion': 'gini',\n",
       " 'estimator__max_depth': None,\n",
       " 'estimator__max_features': 'sqrt',\n",
       " 'estimator__max_leaf_nodes': None,\n",
       " 'estimator__max_samples': None,\n",
       " 'estimator__min_impurity_decrease': 0.0,\n",
       " 'estimator__min_samples_leaf': 1,\n",
       " 'estimator__min_samples_split': 2,\n",
       " 'estimator__min_weight_fraction_leaf': 0.0,\n",
       " 'estimator__n_estimators': 100,\n",
       " 'estimator__n_jobs': None,\n",
       " 'estimator__oob_score': False,\n",
       " 'estimator__random_state': 1,\n",
       " 'estimator__verbose': 0,\n",
       " 'estimator__warm_start': False,\n",
       " 'estimator': RandomForestClassifier(random_state=1),\n",
       " 'n_iter': 20,\n",
       " 'n_jobs': -1,\n",
       " 'param_distributions': {'n_estimators': [200,\n",
       "   400,\n",
       "   600,\n",
       "   800,\n",
       "   1000,\n",
       "   1200,\n",
       "   1400,\n",
       "   1600,\n",
       "   1800,\n",
       "   2000],\n",
       "  'max_features': ['auto', 'sqrt'],\n",
       "  'max_depth': [10, 20, 30, 40, 50, 60, 70, 80, 90, 100, 110, None],\n",
       "  'min_samples_split': [2, 5, 10, 15],\n",
       "  'min_samples_leaf': [1, 2, 4, 6],\n",
       "  'bootstrap': [True, False]},\n",
       " 'pre_dispatch': '2*n_jobs',\n",
       " 'random_state': 42,\n",
       " 'refit': True,\n",
       " 'return_train_score': False,\n",
       " 'scoring': 'f1',\n",
       " 'verbose': 3}"
      ]
     },
     "execution_count": 79,
     "metadata": {},
     "output_type": "execute_result"
    }
   ],
   "source": [
    "rf_random.get_params()"
   ]
  },
  {
   "cell_type": "markdown",
   "id": "b451f177",
   "metadata": {},
   "source": [
    "## VotingClassifier"
   ]
  },
  {
   "cell_type": "code",
   "execution_count": 71,
   "id": "91bdfa4e",
   "metadata": {},
   "outputs": [],
   "source": [
    "from sklearn.ensemble import VotingClassifier\n",
    "from catboost import CatBoostClassifier"
   ]
  },
  {
   "cell_type": "code",
   "execution_count": 72,
   "id": "2ce339de",
   "metadata": {},
   "outputs": [],
   "source": [
    "# Create a Dictionary (Key->Value Pairs) Model-> Model Functions with Hyper-Parameters :\n",
    "\n",
    "Classifiers = {'0.XGBoost' : XGBClassifier(learning_rate =0.1, \n",
    "                                           n_estimators=494, \n",
    "                                           max_depth=5, \n",
    "                                           subsample = 0.70, \n",
    "                                           verbosity = 0,\n",
    "                                           scale_pos_weight = 2.5,\n",
    "                                           updater =\"grow_histmaker\",\n",
    "                                           base_score  = 0.2),\n",
    "                            \n",
    "               '1.CatBoost' : CatBoostClassifier(learning_rate=0.15, \n",
    "                                                 n_estimators=494, \n",
    "                                                 subsample=0.085, \n",
    "                                                 max_depth=5, \n",
    "                                                 scale_pos_weight=2.5),\n",
    "               \n",
    "               '2.LightGBM' : LGBMClassifier(subsample_freq = 2, \n",
    "                                             objective =\"binary\",\n",
    "                                             importance_type = \"gain\",\n",
    "                                             verbosity = -1, \n",
    "                                             max_bin = 60,\n",
    "                                             num_leaves = 300,\n",
    "                                             boosting_type = 'dart',\n",
    "                                             learning_rate=0.18, \n",
    "                                             n_estimators=494,\n",
    "                                             max_depth=5, \n",
    "                                             scale_pos_weight=2.5)\n",
    " }"
   ]
  },
  {
   "cell_type": "code",
   "execution_count": 73,
   "id": "01d97a05",
   "metadata": {},
   "outputs": [],
   "source": [
    "voting_model = VotingClassifier(estimators=[\n",
    "                                              ('XGBoost_Best', list(Classifiers.values())[0]), \n",
    "                                              ('CatBoost_Best', list(Classifiers.values())[1]),\n",
    "                                              ('LightGBM_Best', list(Classifiers.values())[2]),\n",
    "                                             ], \n",
    "                                              voting='soft',weights=[5,5,52])\n",
    "\n",
    "#voting_model.fit(x_train,y_train) "
   ]
  },
  {
   "cell_type": "code",
   "execution_count": 74,
   "id": "893784d1",
   "metadata": {
    "scrolled": true
   },
   "outputs": [
    {
     "name": "stdout",
     "output_type": "stream",
     "text": [
      "0:\tlearn: 0.5752478\ttotal: 210ms\tremaining: 1m 43s\n",
      "1:\tlearn: 0.4977890\ttotal: 280ms\tremaining: 1m 8s\n",
      "2:\tlearn: 0.4398298\ttotal: 345ms\tremaining: 56.5s\n",
      "3:\tlearn: 0.4172843\ttotal: 410ms\tremaining: 50.3s\n",
      "4:\tlearn: 0.3912753\ttotal: 495ms\tremaining: 48.4s\n",
      "5:\tlearn: 0.3812612\ttotal: 575ms\tremaining: 46.7s\n",
      "6:\tlearn: 0.3737956\ttotal: 644ms\tremaining: 44.8s\n",
      "7:\tlearn: 0.3620727\ttotal: 726ms\tremaining: 44.1s\n",
      "8:\tlearn: 0.3401037\ttotal: 812ms\tremaining: 43.8s\n",
      "9:\tlearn: 0.3346060\ttotal: 886ms\tremaining: 42.9s\n",
      "10:\tlearn: 0.3312350\ttotal: 958ms\tremaining: 42.1s\n",
      "11:\tlearn: 0.3243485\ttotal: 1.02s\tremaining: 41.1s\n",
      "12:\tlearn: 0.3185283\ttotal: 1.07s\tremaining: 39.7s\n",
      "13:\tlearn: 0.3127595\ttotal: 1.13s\tremaining: 38.7s\n",
      "14:\tlearn: 0.3050052\ttotal: 1.19s\tremaining: 37.9s\n",
      "15:\tlearn: 0.3041834\ttotal: 1.24s\tremaining: 37.1s\n",
      "16:\tlearn: 0.3010300\ttotal: 1.29s\tremaining: 36.3s\n",
      "17:\tlearn: 0.2998016\ttotal: 1.35s\tremaining: 35.7s\n",
      "18:\tlearn: 0.2985781\ttotal: 1.42s\tremaining: 35.6s\n",
      "19:\tlearn: 0.2941204\ttotal: 1.48s\tremaining: 35s\n",
      "20:\tlearn: 0.2932065\ttotal: 1.53s\tremaining: 34.5s\n",
      "21:\tlearn: 0.2910254\ttotal: 1.59s\tremaining: 34.1s\n",
      "22:\tlearn: 0.2902620\ttotal: 1.64s\tremaining: 33.6s\n",
      "23:\tlearn: 0.2853693\ttotal: 1.7s\tremaining: 33.2s\n",
      "24:\tlearn: 0.2850016\ttotal: 1.75s\tremaining: 32.9s\n",
      "25:\tlearn: 0.2820938\ttotal: 1.8s\tremaining: 32.5s\n",
      "26:\tlearn: 0.2818312\ttotal: 1.86s\tremaining: 32.1s\n",
      "27:\tlearn: 0.2809982\ttotal: 1.94s\tremaining: 32.2s\n",
      "28:\tlearn: 0.2805201\ttotal: 2.02s\tremaining: 32.4s\n",
      "29:\tlearn: 0.2803868\ttotal: 2.09s\tremaining: 32.3s\n",
      "30:\tlearn: 0.2799872\ttotal: 2.15s\tremaining: 32.1s\n",
      "31:\tlearn: 0.2796775\ttotal: 2.21s\tremaining: 31.9s\n",
      "32:\tlearn: 0.2786629\ttotal: 2.27s\tremaining: 31.7s\n",
      "33:\tlearn: 0.2783841\ttotal: 2.33s\tremaining: 31.6s\n",
      "34:\tlearn: 0.2779748\ttotal: 2.39s\tremaining: 31.4s\n",
      "35:\tlearn: 0.2777030\ttotal: 2.47s\tremaining: 31.4s\n",
      "36:\tlearn: 0.2775885\ttotal: 2.55s\tremaining: 31.5s\n",
      "37:\tlearn: 0.2767497\ttotal: 2.61s\tremaining: 31.3s\n",
      "38:\tlearn: 0.2762187\ttotal: 2.69s\tremaining: 31.4s\n",
      "39:\tlearn: 0.2758363\ttotal: 2.75s\tremaining: 31.2s\n",
      "40:\tlearn: 0.2756056\ttotal: 2.82s\tremaining: 31.2s\n",
      "41:\tlearn: 0.2749837\ttotal: 2.88s\tremaining: 31s\n",
      "42:\tlearn: 0.2747910\ttotal: 2.94s\tremaining: 30.8s\n",
      "43:\tlearn: 0.2733633\ttotal: 3.01s\tremaining: 30.8s\n",
      "44:\tlearn: 0.2724346\ttotal: 3.08s\tremaining: 30.8s\n",
      "45:\tlearn: 0.2715814\ttotal: 3.15s\tremaining: 30.7s\n",
      "46:\tlearn: 0.2704291\ttotal: 3.28s\tremaining: 31.2s\n",
      "47:\tlearn: 0.2703120\ttotal: 3.48s\tremaining: 32.4s\n",
      "48:\tlearn: 0.2701643\ttotal: 3.6s\tremaining: 32.7s\n",
      "49:\tlearn: 0.2698579\ttotal: 3.67s\tremaining: 32.6s\n",
      "50:\tlearn: 0.2688662\ttotal: 3.71s\tremaining: 32.2s\n",
      "51:\tlearn: 0.2686739\ttotal: 3.74s\tremaining: 31.8s\n",
      "52:\tlearn: 0.2684057\ttotal: 3.78s\tremaining: 31.4s\n",
      "53:\tlearn: 0.2678760\ttotal: 3.81s\tremaining: 31.1s\n",
      "54:\tlearn: 0.2675979\ttotal: 3.84s\tremaining: 30.7s\n",
      "55:\tlearn: 0.2673552\ttotal: 3.88s\tremaining: 30.3s\n",
      "56:\tlearn: 0.2666686\ttotal: 3.92s\tremaining: 30s\n",
      "57:\tlearn: 0.2664152\ttotal: 3.95s\tremaining: 29.7s\n",
      "58:\tlearn: 0.2661702\ttotal: 3.99s\tremaining: 29.4s\n",
      "59:\tlearn: 0.2653321\ttotal: 4.03s\tremaining: 29.1s\n",
      "60:\tlearn: 0.2650790\ttotal: 4.06s\tremaining: 28.8s\n",
      "61:\tlearn: 0.2647834\ttotal: 4.1s\tremaining: 28.6s\n",
      "62:\tlearn: 0.2638647\ttotal: 4.13s\tremaining: 28.3s\n",
      "63:\tlearn: 0.2636683\ttotal: 4.18s\tremaining: 28.1s\n",
      "64:\tlearn: 0.2635269\ttotal: 4.22s\tremaining: 27.8s\n",
      "65:\tlearn: 0.2634549\ttotal: 4.25s\tremaining: 27.6s\n",
      "66:\tlearn: 0.2631941\ttotal: 4.3s\tremaining: 27.4s\n",
      "67:\tlearn: 0.2629916\ttotal: 4.33s\tremaining: 27.2s\n",
      "68:\tlearn: 0.2624688\ttotal: 4.37s\tremaining: 26.9s\n",
      "69:\tlearn: 0.2621333\ttotal: 4.41s\tremaining: 26.7s\n",
      "70:\tlearn: 0.2619642\ttotal: 4.44s\tremaining: 26.4s\n",
      "71:\tlearn: 0.2618544\ttotal: 4.47s\tremaining: 26.2s\n",
      "72:\tlearn: 0.2617296\ttotal: 4.51s\tremaining: 26s\n",
      "73:\tlearn: 0.2612418\ttotal: 4.54s\tremaining: 25.8s\n",
      "74:\tlearn: 0.2609648\ttotal: 4.57s\tremaining: 25.5s\n",
      "75:\tlearn: 0.2607146\ttotal: 4.6s\tremaining: 25.3s\n",
      "76:\tlearn: 0.2606369\ttotal: 4.64s\tremaining: 25.1s\n",
      "77:\tlearn: 0.2605600\ttotal: 4.67s\tremaining: 24.9s\n",
      "78:\tlearn: 0.2604858\ttotal: 4.71s\tremaining: 24.7s\n",
      "79:\tlearn: 0.2598926\ttotal: 4.75s\tremaining: 24.6s\n",
      "80:\tlearn: 0.2596986\ttotal: 4.78s\tremaining: 24.4s\n",
      "81:\tlearn: 0.2594344\ttotal: 4.81s\tremaining: 24.2s\n",
      "82:\tlearn: 0.2592614\ttotal: 4.85s\tremaining: 24s\n",
      "83:\tlearn: 0.2588823\ttotal: 4.88s\tremaining: 23.8s\n",
      "84:\tlearn: 0.2588121\ttotal: 4.92s\tremaining: 23.7s\n",
      "85:\tlearn: 0.2586372\ttotal: 4.95s\tremaining: 23.5s\n",
      "86:\tlearn: 0.2584864\ttotal: 4.99s\tremaining: 23.4s\n",
      "87:\tlearn: 0.2582845\ttotal: 5.02s\tremaining: 23.2s\n",
      "88:\tlearn: 0.2580979\ttotal: 5.07s\tremaining: 23.1s\n",
      "89:\tlearn: 0.2579271\ttotal: 5.12s\tremaining: 23s\n",
      "90:\tlearn: 0.2577667\ttotal: 5.16s\tremaining: 22.8s\n",
      "91:\tlearn: 0.2575406\ttotal: 5.19s\tremaining: 22.7s\n",
      "92:\tlearn: 0.2572898\ttotal: 5.23s\tremaining: 22.5s\n",
      "93:\tlearn: 0.2565325\ttotal: 5.26s\tremaining: 22.4s\n",
      "94:\tlearn: 0.2564986\ttotal: 5.3s\tremaining: 22.3s\n",
      "95:\tlearn: 0.2558812\ttotal: 5.34s\tremaining: 22.1s\n",
      "96:\tlearn: 0.2556957\ttotal: 5.37s\tremaining: 22s\n",
      "97:\tlearn: 0.2555563\ttotal: 5.42s\tremaining: 21.9s\n",
      "98:\tlearn: 0.2553625\ttotal: 5.45s\tremaining: 21.8s\n",
      "99:\tlearn: 0.2548391\ttotal: 5.49s\tremaining: 21.6s\n",
      "100:\tlearn: 0.2546432\ttotal: 5.52s\tremaining: 21.5s\n",
      "101:\tlearn: 0.2545790\ttotal: 5.55s\tremaining: 21.3s\n",
      "102:\tlearn: 0.2544313\ttotal: 5.59s\tremaining: 21.2s\n",
      "103:\tlearn: 0.2542855\ttotal: 5.62s\tremaining: 21.1s\n",
      "104:\tlearn: 0.2539897\ttotal: 5.66s\tremaining: 21s\n",
      "105:\tlearn: 0.2539115\ttotal: 5.7s\tremaining: 20.9s\n",
      "106:\tlearn: 0.2538352\ttotal: 5.74s\tremaining: 20.7s\n",
      "107:\tlearn: 0.2537310\ttotal: 5.77s\tremaining: 20.6s\n",
      "108:\tlearn: 0.2537055\ttotal: 5.81s\tremaining: 20.5s\n",
      "109:\tlearn: 0.2536542\ttotal: 5.84s\tremaining: 20.4s\n",
      "110:\tlearn: 0.2535365\ttotal: 5.88s\tremaining: 20.3s\n",
      "111:\tlearn: 0.2534478\ttotal: 5.91s\tremaining: 20.2s\n",
      "112:\tlearn: 0.2533876\ttotal: 5.95s\tremaining: 20s\n",
      "113:\tlearn: 0.2532613\ttotal: 5.98s\tremaining: 19.9s\n",
      "114:\tlearn: 0.2531347\ttotal: 6.02s\tremaining: 19.8s\n",
      "115:\tlearn: 0.2530088\ttotal: 6.05s\tremaining: 19.7s\n",
      "116:\tlearn: 0.2529102\ttotal: 6.09s\tremaining: 19.6s\n",
      "117:\tlearn: 0.2528044\ttotal: 6.13s\tremaining: 19.5s\n",
      "118:\tlearn: 0.2527207\ttotal: 6.18s\tremaining: 19.5s\n",
      "119:\tlearn: 0.2525572\ttotal: 6.21s\tremaining: 19.4s\n",
      "120:\tlearn: 0.2524707\ttotal: 6.25s\tremaining: 19.3s\n",
      "121:\tlearn: 0.2524071\ttotal: 6.28s\tremaining: 19.2s\n",
      "122:\tlearn: 0.2522002\ttotal: 6.32s\tremaining: 19.1s\n",
      "123:\tlearn: 0.2520695\ttotal: 6.35s\tremaining: 19s\n",
      "124:\tlearn: 0.2519665\ttotal: 6.39s\tremaining: 18.9s\n",
      "125:\tlearn: 0.2519231\ttotal: 6.42s\tremaining: 18.8s\n",
      "126:\tlearn: 0.2518527\ttotal: 6.46s\tremaining: 18.7s\n",
      "127:\tlearn: 0.2517610\ttotal: 6.49s\tremaining: 18.6s\n",
      "128:\tlearn: 0.2514981\ttotal: 6.52s\tremaining: 18.5s\n",
      "129:\tlearn: 0.2510852\ttotal: 6.56s\tremaining: 18.4s\n",
      "130:\tlearn: 0.2510010\ttotal: 6.59s\tremaining: 18.3s\n",
      "131:\tlearn: 0.2509227\ttotal: 6.62s\tremaining: 18.2s\n",
      "132:\tlearn: 0.2508207\ttotal: 6.66s\tremaining: 18.1s\n",
      "133:\tlearn: 0.2506837\ttotal: 6.7s\tremaining: 18s\n",
      "134:\tlearn: 0.2505362\ttotal: 6.75s\tremaining: 17.9s\n",
      "135:\tlearn: 0.2503975\ttotal: 6.78s\tremaining: 17.9s\n",
      "136:\tlearn: 0.2502514\ttotal: 6.82s\tremaining: 17.8s\n",
      "137:\tlearn: 0.2501082\ttotal: 6.86s\tremaining: 17.7s\n",
      "138:\tlearn: 0.2499907\ttotal: 6.89s\tremaining: 17.6s\n",
      "139:\tlearn: 0.2498400\ttotal: 6.93s\tremaining: 17.5s\n",
      "140:\tlearn: 0.2497294\ttotal: 6.97s\tremaining: 17.4s\n",
      "141:\tlearn: 0.2496752\ttotal: 7.01s\tremaining: 17.4s\n",
      "142:\tlearn: 0.2496297\ttotal: 7.05s\tremaining: 17.3s\n",
      "143:\tlearn: 0.2495586\ttotal: 7.09s\tremaining: 17.2s\n",
      "144:\tlearn: 0.2494779\ttotal: 7.12s\tremaining: 17.1s\n",
      "145:\tlearn: 0.2493669\ttotal: 7.16s\tremaining: 17.1s\n",
      "146:\tlearn: 0.2492722\ttotal: 7.2s\tremaining: 17s\n",
      "147:\tlearn: 0.2492171\ttotal: 7.24s\tremaining: 16.9s\n",
      "148:\tlearn: 0.2491161\ttotal: 7.28s\tremaining: 16.9s\n",
      "149:\tlearn: 0.2490194\ttotal: 7.32s\tremaining: 16.8s\n",
      "150:\tlearn: 0.2489304\ttotal: 7.35s\tremaining: 16.7s\n",
      "151:\tlearn: 0.2488184\ttotal: 7.39s\tremaining: 16.6s\n",
      "152:\tlearn: 0.2487826\ttotal: 7.43s\tremaining: 16.6s\n",
      "153:\tlearn: 0.2486710\ttotal: 7.47s\tremaining: 16.5s\n",
      "154:\tlearn: 0.2485565\ttotal: 7.52s\tremaining: 16.4s\n",
      "155:\tlearn: 0.2484517\ttotal: 7.56s\tremaining: 16.4s\n",
      "156:\tlearn: 0.2483892\ttotal: 7.6s\tremaining: 16.3s\n",
      "157:\tlearn: 0.2483100\ttotal: 7.63s\tremaining: 16.2s\n",
      "158:\tlearn: 0.2480961\ttotal: 7.67s\tremaining: 16.2s\n",
      "159:\tlearn: 0.2477407\ttotal: 7.71s\tremaining: 16.1s\n",
      "160:\tlearn: 0.2476468\ttotal: 7.74s\tremaining: 16s\n",
      "161:\tlearn: 0.2475538\ttotal: 7.78s\tremaining: 15.9s\n",
      "162:\tlearn: 0.2473267\ttotal: 7.81s\tremaining: 15.9s\n",
      "163:\tlearn: 0.2465247\ttotal: 7.85s\tremaining: 15.8s\n",
      "164:\tlearn: 0.2464293\ttotal: 7.89s\tremaining: 15.7s\n",
      "165:\tlearn: 0.2463564\ttotal: 7.93s\tremaining: 15.7s\n"
     ]
    },
    {
     "name": "stdout",
     "output_type": "stream",
     "text": [
      "166:\tlearn: 0.2463048\ttotal: 7.96s\tremaining: 15.6s\n",
      "167:\tlearn: 0.2462741\ttotal: 8s\tremaining: 15.5s\n",
      "168:\tlearn: 0.2461958\ttotal: 8.04s\tremaining: 15.5s\n",
      "169:\tlearn: 0.2460882\ttotal: 8.07s\tremaining: 15.4s\n",
      "170:\tlearn: 0.2460703\ttotal: 8.11s\tremaining: 15.3s\n",
      "171:\tlearn: 0.2459293\ttotal: 8.14s\tremaining: 15.2s\n",
      "172:\tlearn: 0.2458722\ttotal: 8.18s\tremaining: 15.2s\n",
      "173:\tlearn: 0.2457967\ttotal: 8.22s\tremaining: 15.1s\n",
      "174:\tlearn: 0.2457082\ttotal: 8.25s\tremaining: 15s\n",
      "175:\tlearn: 0.2456256\ttotal: 8.28s\tremaining: 15s\n",
      "176:\tlearn: 0.2455308\ttotal: 8.32s\tremaining: 14.9s\n",
      "177:\tlearn: 0.2453412\ttotal: 8.35s\tremaining: 14.8s\n",
      "178:\tlearn: 0.2453010\ttotal: 8.38s\tremaining: 14.7s\n",
      "179:\tlearn: 0.2452402\ttotal: 8.41s\tremaining: 14.7s\n",
      "180:\tlearn: 0.2451429\ttotal: 8.45s\tremaining: 14.6s\n",
      "181:\tlearn: 0.2450521\ttotal: 8.48s\tremaining: 14.5s\n",
      "182:\tlearn: 0.2450045\ttotal: 8.51s\tremaining: 14.5s\n",
      "183:\tlearn: 0.2449115\ttotal: 8.55s\tremaining: 14.4s\n",
      "184:\tlearn: 0.2448714\ttotal: 8.58s\tremaining: 14.3s\n",
      "185:\tlearn: 0.2448032\ttotal: 8.62s\tremaining: 14.3s\n",
      "186:\tlearn: 0.2446448\ttotal: 8.65s\tremaining: 14.2s\n",
      "187:\tlearn: 0.2445704\ttotal: 8.7s\tremaining: 14.2s\n",
      "188:\tlearn: 0.2444393\ttotal: 8.75s\tremaining: 14.1s\n",
      "189:\tlearn: 0.2443744\ttotal: 8.81s\tremaining: 14.1s\n",
      "190:\tlearn: 0.2443476\ttotal: 8.87s\tremaining: 14.1s\n",
      "191:\tlearn: 0.2442857\ttotal: 8.95s\tremaining: 14.1s\n",
      "192:\tlearn: 0.2441923\ttotal: 9.01s\tremaining: 14.1s\n",
      "193:\tlearn: 0.2441157\ttotal: 9.07s\tremaining: 14s\n",
      "194:\tlearn: 0.2440292\ttotal: 9.13s\tremaining: 14s\n",
      "195:\tlearn: 0.2439510\ttotal: 9.2s\tremaining: 14s\n",
      "196:\tlearn: 0.2439328\ttotal: 9.25s\tremaining: 13.9s\n",
      "197:\tlearn: 0.2438914\ttotal: 9.31s\tremaining: 13.9s\n",
      "198:\tlearn: 0.2438019\ttotal: 9.36s\tremaining: 13.9s\n",
      "199:\tlearn: 0.2436337\ttotal: 9.43s\tremaining: 13.9s\n",
      "200:\tlearn: 0.2435070\ttotal: 9.48s\tremaining: 13.8s\n",
      "201:\tlearn: 0.2432867\ttotal: 9.56s\tremaining: 13.8s\n",
      "202:\tlearn: 0.2431865\ttotal: 9.63s\tremaining: 13.8s\n",
      "203:\tlearn: 0.2431078\ttotal: 9.69s\tremaining: 13.8s\n",
      "204:\tlearn: 0.2429484\ttotal: 9.75s\tremaining: 13.7s\n",
      "205:\tlearn: 0.2428219\ttotal: 9.81s\tremaining: 13.7s\n",
      "206:\tlearn: 0.2426597\ttotal: 9.87s\tremaining: 13.7s\n",
      "207:\tlearn: 0.2425848\ttotal: 9.94s\tremaining: 13.7s\n",
      "208:\tlearn: 0.2425288\ttotal: 9.99s\tremaining: 13.6s\n",
      "209:\tlearn: 0.2424089\ttotal: 10s\tremaining: 13.6s\n",
      "210:\tlearn: 0.2423400\ttotal: 10.1s\tremaining: 13.6s\n",
      "211:\tlearn: 0.2422773\ttotal: 10.2s\tremaining: 13.5s\n",
      "212:\tlearn: 0.2422265\ttotal: 10.2s\tremaining: 13.5s\n",
      "213:\tlearn: 0.2421921\ttotal: 10.3s\tremaining: 13.5s\n",
      "214:\tlearn: 0.2421287\ttotal: 10.4s\tremaining: 13.4s\n",
      "215:\tlearn: 0.2420420\ttotal: 10.4s\tremaining: 13.4s\n",
      "216:\tlearn: 0.2420126\ttotal: 10.5s\tremaining: 13.4s\n",
      "217:\tlearn: 0.2419622\ttotal: 10.5s\tremaining: 13.3s\n",
      "218:\tlearn: 0.2418966\ttotal: 10.6s\tremaining: 13.3s\n",
      "219:\tlearn: 0.2418545\ttotal: 10.6s\tremaining: 13.3s\n",
      "220:\tlearn: 0.2417835\ttotal: 10.7s\tremaining: 13.2s\n",
      "221:\tlearn: 0.2417577\ttotal: 10.8s\tremaining: 13.2s\n",
      "222:\tlearn: 0.2416368\ttotal: 10.8s\tremaining: 13.2s\n",
      "223:\tlearn: 0.2415923\ttotal: 10.9s\tremaining: 13.1s\n",
      "224:\tlearn: 0.2415002\ttotal: 11s\tremaining: 13.1s\n",
      "225:\tlearn: 0.2414326\ttotal: 11s\tremaining: 13.1s\n",
      "226:\tlearn: 0.2413518\ttotal: 11.1s\tremaining: 13s\n",
      "227:\tlearn: 0.2412821\ttotal: 11.1s\tremaining: 13s\n",
      "228:\tlearn: 0.2412411\ttotal: 11.2s\tremaining: 13s\n",
      "229:\tlearn: 0.2410329\ttotal: 11.3s\tremaining: 12.9s\n",
      "230:\tlearn: 0.2409972\ttotal: 11.3s\tremaining: 12.9s\n",
      "231:\tlearn: 0.2409716\ttotal: 11.4s\tremaining: 12.9s\n",
      "232:\tlearn: 0.2408863\ttotal: 11.5s\tremaining: 12.8s\n",
      "233:\tlearn: 0.2408253\ttotal: 11.5s\tremaining: 12.8s\n",
      "234:\tlearn: 0.2407766\ttotal: 11.6s\tremaining: 12.8s\n",
      "235:\tlearn: 0.2407181\ttotal: 11.6s\tremaining: 12.7s\n",
      "236:\tlearn: 0.2406273\ttotal: 11.7s\tremaining: 12.7s\n",
      "237:\tlearn: 0.2405405\ttotal: 11.8s\tremaining: 12.7s\n",
      "238:\tlearn: 0.2404202\ttotal: 11.9s\tremaining: 12.6s\n",
      "239:\tlearn: 0.2403590\ttotal: 11.9s\tremaining: 12.6s\n",
      "240:\tlearn: 0.2403108\ttotal: 12s\tremaining: 12.6s\n",
      "241:\tlearn: 0.2402569\ttotal: 12s\tremaining: 12.5s\n",
      "242:\tlearn: 0.2401701\ttotal: 12.1s\tremaining: 12.5s\n",
      "243:\tlearn: 0.2401067\ttotal: 12.2s\tremaining: 12.5s\n",
      "244:\tlearn: 0.2400232\ttotal: 12.2s\tremaining: 12.4s\n",
      "245:\tlearn: 0.2399060\ttotal: 12.3s\tremaining: 12.4s\n",
      "246:\tlearn: 0.2398597\ttotal: 12.4s\tremaining: 12.4s\n",
      "247:\tlearn: 0.2397607\ttotal: 12.4s\tremaining: 12.3s\n",
      "248:\tlearn: 0.2396441\ttotal: 12.5s\tremaining: 12.3s\n",
      "249:\tlearn: 0.2395335\ttotal: 12.5s\tremaining: 12.2s\n",
      "250:\tlearn: 0.2394363\ttotal: 12.6s\tremaining: 12.2s\n",
      "251:\tlearn: 0.2393742\ttotal: 12.7s\tremaining: 12.2s\n",
      "252:\tlearn: 0.2393429\ttotal: 12.7s\tremaining: 12.1s\n",
      "253:\tlearn: 0.2392954\ttotal: 12.8s\tremaining: 12.1s\n",
      "254:\tlearn: 0.2392036\ttotal: 12.9s\tremaining: 12.1s\n",
      "255:\tlearn: 0.2391551\ttotal: 12.9s\tremaining: 12s\n",
      "256:\tlearn: 0.2390737\ttotal: 13s\tremaining: 12s\n",
      "257:\tlearn: 0.2389977\ttotal: 13s\tremaining: 11.9s\n",
      "258:\tlearn: 0.2389512\ttotal: 13.1s\tremaining: 11.9s\n",
      "259:\tlearn: 0.2388609\ttotal: 13.2s\tremaining: 11.8s\n",
      "260:\tlearn: 0.2387793\ttotal: 13.2s\tremaining: 11.8s\n",
      "261:\tlearn: 0.2387283\ttotal: 13.3s\tremaining: 11.7s\n",
      "262:\tlearn: 0.2386942\ttotal: 13.3s\tremaining: 11.7s\n",
      "263:\tlearn: 0.2385959\ttotal: 13.4s\tremaining: 11.7s\n",
      "264:\tlearn: 0.2385615\ttotal: 13.5s\tremaining: 11.6s\n",
      "265:\tlearn: 0.2384515\ttotal: 13.5s\tremaining: 11.6s\n",
      "266:\tlearn: 0.2384177\ttotal: 13.6s\tremaining: 11.5s\n",
      "267:\tlearn: 0.2383473\ttotal: 13.6s\tremaining: 11.5s\n",
      "268:\tlearn: 0.2382948\ttotal: 13.7s\tremaining: 11.4s\n",
      "269:\tlearn: 0.2382678\ttotal: 13.7s\tremaining: 11.4s\n",
      "270:\tlearn: 0.2382236\ttotal: 13.7s\tremaining: 11.3s\n",
      "271:\tlearn: 0.2381970\ttotal: 13.8s\tremaining: 11.2s\n",
      "272:\tlearn: 0.2381431\ttotal: 13.8s\tremaining: 11.2s\n",
      "273:\tlearn: 0.2380892\ttotal: 13.8s\tremaining: 11.1s\n",
      "274:\tlearn: 0.2380072\ttotal: 13.9s\tremaining: 11s\n",
      "275:\tlearn: 0.2379461\ttotal: 13.9s\tremaining: 11s\n",
      "276:\tlearn: 0.2378849\ttotal: 13.9s\tremaining: 10.9s\n",
      "277:\tlearn: 0.2378522\ttotal: 14s\tremaining: 10.9s\n",
      "278:\tlearn: 0.2378377\ttotal: 14s\tremaining: 10.8s\n",
      "279:\tlearn: 0.2377643\ttotal: 14s\tremaining: 10.7s\n",
      "280:\tlearn: 0.2373077\ttotal: 14.1s\tremaining: 10.7s\n",
      "281:\tlearn: 0.2372300\ttotal: 14.1s\tremaining: 10.6s\n",
      "282:\tlearn: 0.2371299\ttotal: 14.2s\tremaining: 10.6s\n",
      "283:\tlearn: 0.2370396\ttotal: 14.2s\tremaining: 10.5s\n",
      "284:\tlearn: 0.2369930\ttotal: 14.2s\tremaining: 10.4s\n",
      "285:\tlearn: 0.2368898\ttotal: 14.3s\tremaining: 10.4s\n",
      "286:\tlearn: 0.2368801\ttotal: 14.3s\tremaining: 10.3s\n",
      "287:\tlearn: 0.2367795\ttotal: 14.4s\tremaining: 10.3s\n",
      "288:\tlearn: 0.2367510\ttotal: 14.4s\tremaining: 10.2s\n",
      "289:\tlearn: 0.2366525\ttotal: 14.5s\tremaining: 10.2s\n",
      "290:\tlearn: 0.2365683\ttotal: 14.5s\tremaining: 10.1s\n",
      "291:\tlearn: 0.2364776\ttotal: 14.6s\tremaining: 10.1s\n",
      "292:\tlearn: 0.2364198\ttotal: 14.6s\tremaining: 10s\n",
      "293:\tlearn: 0.2363767\ttotal: 14.6s\tremaining: 9.94s\n",
      "294:\tlearn: 0.2363558\ttotal: 14.7s\tremaining: 9.88s\n",
      "295:\tlearn: 0.2363113\ttotal: 14.7s\tremaining: 9.82s\n",
      "296:\tlearn: 0.2362768\ttotal: 14.7s\tremaining: 9.77s\n",
      "297:\tlearn: 0.2362068\ttotal: 14.8s\tremaining: 9.72s\n",
      "298:\tlearn: 0.2361392\ttotal: 14.8s\tremaining: 9.67s\n",
      "299:\tlearn: 0.2361326\ttotal: 14.9s\tremaining: 9.61s\n",
      "300:\tlearn: 0.2361130\ttotal: 14.9s\tremaining: 9.55s\n",
      "301:\tlearn: 0.2360612\ttotal: 14.9s\tremaining: 9.5s\n",
      "302:\tlearn: 0.2360252\ttotal: 15s\tremaining: 9.44s\n",
      "303:\tlearn: 0.2359818\ttotal: 15s\tremaining: 9.38s\n",
      "304:\tlearn: 0.2359333\ttotal: 15s\tremaining: 9.32s\n",
      "305:\tlearn: 0.2358749\ttotal: 15.1s\tremaining: 9.26s\n",
      "306:\tlearn: 0.2357584\ttotal: 15.1s\tremaining: 9.21s\n",
      "307:\tlearn: 0.2357115\ttotal: 15.1s\tremaining: 9.15s\n",
      "308:\tlearn: 0.2356916\ttotal: 15.2s\tremaining: 9.09s\n",
      "309:\tlearn: 0.2356530\ttotal: 15.2s\tremaining: 9.03s\n",
      "310:\tlearn: 0.2355882\ttotal: 15.3s\tremaining: 8.98s\n",
      "311:\tlearn: 0.2354864\ttotal: 15.3s\tremaining: 8.92s\n",
      "312:\tlearn: 0.2354439\ttotal: 15.3s\tremaining: 8.87s\n",
      "313:\tlearn: 0.2353734\ttotal: 15.4s\tremaining: 8.81s\n",
      "314:\tlearn: 0.2353147\ttotal: 15.4s\tremaining: 8.75s\n",
      "315:\tlearn: 0.2352772\ttotal: 15.4s\tremaining: 8.69s\n",
      "316:\tlearn: 0.2351826\ttotal: 15.5s\tremaining: 8.64s\n",
      "317:\tlearn: 0.2351130\ttotal: 15.5s\tremaining: 8.58s\n",
      "318:\tlearn: 0.2350509\ttotal: 15.5s\tremaining: 8.52s\n",
      "319:\tlearn: 0.2350383\ttotal: 15.6s\tremaining: 8.47s\n",
      "320:\tlearn: 0.2349546\ttotal: 15.6s\tremaining: 8.41s\n",
      "321:\tlearn: 0.2349159\ttotal: 15.6s\tremaining: 8.36s\n",
      "322:\tlearn: 0.2348526\ttotal: 15.7s\tremaining: 8.3s\n",
      "323:\tlearn: 0.2347350\ttotal: 15.7s\tremaining: 8.25s\n",
      "324:\tlearn: 0.2346600\ttotal: 15.8s\tremaining: 8.19s\n",
      "325:\tlearn: 0.2345992\ttotal: 15.8s\tremaining: 8.14s\n",
      "326:\tlearn: 0.2345344\ttotal: 15.8s\tremaining: 8.08s\n",
      "327:\tlearn: 0.2343620\ttotal: 15.9s\tremaining: 8.03s\n",
      "328:\tlearn: 0.2343321\ttotal: 15.9s\tremaining: 7.98s\n"
     ]
    },
    {
     "name": "stdout",
     "output_type": "stream",
     "text": [
      "329:\tlearn: 0.2342907\ttotal: 16s\tremaining: 7.93s\n",
      "330:\tlearn: 0.2342586\ttotal: 16s\tremaining: 7.88s\n",
      "331:\tlearn: 0.2341958\ttotal: 16s\tremaining: 7.83s\n",
      "332:\tlearn: 0.2341898\ttotal: 16.1s\tremaining: 7.77s\n",
      "333:\tlearn: 0.2341191\ttotal: 16.1s\tremaining: 7.72s\n",
      "334:\tlearn: 0.2340765\ttotal: 16.2s\tremaining: 7.67s\n",
      "335:\tlearn: 0.2340582\ttotal: 16.2s\tremaining: 7.61s\n",
      "336:\tlearn: 0.2339901\ttotal: 16.2s\tremaining: 7.56s\n",
      "337:\tlearn: 0.2338964\ttotal: 16.3s\tremaining: 7.5s\n",
      "338:\tlearn: 0.2338637\ttotal: 16.3s\tremaining: 7.45s\n",
      "339:\tlearn: 0.2338028\ttotal: 16.3s\tremaining: 7.39s\n",
      "340:\tlearn: 0.2337542\ttotal: 16.4s\tremaining: 7.34s\n",
      "341:\tlearn: 0.2336475\ttotal: 16.4s\tremaining: 7.29s\n",
      "342:\tlearn: 0.2336191\ttotal: 16.4s\tremaining: 7.23s\n",
      "343:\tlearn: 0.2335761\ttotal: 16.5s\tremaining: 7.18s\n",
      "344:\tlearn: 0.2334996\ttotal: 16.5s\tremaining: 7.12s\n",
      "345:\tlearn: 0.2334753\ttotal: 16.5s\tremaining: 7.07s\n",
      "346:\tlearn: 0.2334223\ttotal: 16.6s\tremaining: 7.01s\n",
      "347:\tlearn: 0.2333699\ttotal: 16.6s\tremaining: 6.96s\n",
      "348:\tlearn: 0.2332898\ttotal: 16.6s\tremaining: 6.91s\n",
      "349:\tlearn: 0.2332737\ttotal: 16.7s\tremaining: 6.86s\n",
      "350:\tlearn: 0.2332584\ttotal: 16.7s\tremaining: 6.8s\n",
      "351:\tlearn: 0.2332078\ttotal: 16.7s\tremaining: 6.75s\n",
      "352:\tlearn: 0.2331799\ttotal: 16.8s\tremaining: 6.7s\n",
      "353:\tlearn: 0.2329420\ttotal: 16.8s\tremaining: 6.65s\n",
      "354:\tlearn: 0.2328947\ttotal: 16.9s\tremaining: 6.6s\n",
      "355:\tlearn: 0.2328427\ttotal: 16.9s\tremaining: 6.55s\n",
      "356:\tlearn: 0.2328243\ttotal: 16.9s\tremaining: 6.49s\n",
      "357:\tlearn: 0.2327861\ttotal: 17s\tremaining: 6.44s\n",
      "358:\tlearn: 0.2327750\ttotal: 17s\tremaining: 6.39s\n",
      "359:\tlearn: 0.2327283\ttotal: 17s\tremaining: 6.34s\n",
      "360:\tlearn: 0.2326231\ttotal: 17.1s\tremaining: 6.29s\n",
      "361:\tlearn: 0.2325675\ttotal: 17.1s\tremaining: 6.24s\n",
      "362:\tlearn: 0.2325287\ttotal: 17.1s\tremaining: 6.18s\n",
      "363:\tlearn: 0.2324785\ttotal: 17.2s\tremaining: 6.13s\n",
      "364:\tlearn: 0.2324478\ttotal: 17.2s\tremaining: 6.08s\n",
      "365:\tlearn: 0.2324296\ttotal: 17.3s\tremaining: 6.04s\n",
      "366:\tlearn: 0.2323889\ttotal: 17.3s\tremaining: 5.99s\n",
      "367:\tlearn: 0.2323078\ttotal: 17.3s\tremaining: 5.94s\n",
      "368:\tlearn: 0.2322943\ttotal: 17.4s\tremaining: 5.89s\n",
      "369:\tlearn: 0.2322264\ttotal: 17.4s\tremaining: 5.84s\n",
      "370:\tlearn: 0.2321064\ttotal: 17.4s\tremaining: 5.78s\n",
      "371:\tlearn: 0.2319951\ttotal: 17.5s\tremaining: 5.73s\n",
      "372:\tlearn: 0.2319226\ttotal: 17.5s\tremaining: 5.68s\n",
      "373:\tlearn: 0.2318637\ttotal: 17.6s\tremaining: 5.64s\n",
      "374:\tlearn: 0.2318264\ttotal: 17.6s\tremaining: 5.58s\n",
      "375:\tlearn: 0.2317562\ttotal: 17.6s\tremaining: 5.53s\n",
      "376:\tlearn: 0.2314567\ttotal: 17.7s\tremaining: 5.48s\n",
      "377:\tlearn: 0.2313926\ttotal: 17.7s\tremaining: 5.43s\n",
      "378:\tlearn: 0.2312761\ttotal: 17.7s\tremaining: 5.38s\n",
      "379:\tlearn: 0.2311995\ttotal: 17.8s\tremaining: 5.33s\n",
      "380:\tlearn: 0.2310376\ttotal: 17.8s\tremaining: 5.28s\n",
      "381:\tlearn: 0.2309996\ttotal: 17.8s\tremaining: 5.23s\n",
      "382:\tlearn: 0.2309181\ttotal: 17.9s\tremaining: 5.18s\n",
      "383:\tlearn: 0.2308713\ttotal: 17.9s\tremaining: 5.13s\n",
      "384:\tlearn: 0.2308354\ttotal: 17.9s\tremaining: 5.08s\n",
      "385:\tlearn: 0.2308077\ttotal: 18s\tremaining: 5.03s\n",
      "386:\tlearn: 0.2306038\ttotal: 18s\tremaining: 4.98s\n",
      "387:\tlearn: 0.2305885\ttotal: 18s\tremaining: 4.93s\n",
      "388:\tlearn: 0.2304813\ttotal: 18.1s\tremaining: 4.88s\n",
      "389:\tlearn: 0.2304605\ttotal: 18.1s\tremaining: 4.83s\n",
      "390:\tlearn: 0.2304283\ttotal: 18.2s\tremaining: 4.78s\n",
      "391:\tlearn: 0.2303015\ttotal: 18.2s\tremaining: 4.73s\n",
      "392:\tlearn: 0.2302463\ttotal: 18.2s\tremaining: 4.68s\n",
      "393:\tlearn: 0.2302189\ttotal: 18.3s\tremaining: 4.63s\n",
      "394:\tlearn: 0.2301289\ttotal: 18.3s\tremaining: 4.58s\n",
      "395:\tlearn: 0.2300863\ttotal: 18.3s\tremaining: 4.54s\n",
      "396:\tlearn: 0.2299735\ttotal: 18.4s\tremaining: 4.49s\n",
      "397:\tlearn: 0.2299389\ttotal: 18.4s\tremaining: 4.44s\n",
      "398:\tlearn: 0.2298933\ttotal: 18.4s\tremaining: 4.39s\n",
      "399:\tlearn: 0.2298480\ttotal: 18.5s\tremaining: 4.34s\n",
      "400:\tlearn: 0.2298421\ttotal: 18.5s\tremaining: 4.29s\n",
      "401:\tlearn: 0.2298149\ttotal: 18.6s\tremaining: 4.25s\n",
      "402:\tlearn: 0.2298074\ttotal: 18.6s\tremaining: 4.2s\n",
      "403:\tlearn: 0.2297350\ttotal: 18.7s\tremaining: 4.16s\n",
      "404:\tlearn: 0.2297057\ttotal: 18.7s\tremaining: 4.11s\n",
      "405:\tlearn: 0.2296309\ttotal: 18.8s\tremaining: 4.07s\n",
      "406:\tlearn: 0.2295708\ttotal: 18.8s\tremaining: 4.02s\n",
      "407:\tlearn: 0.2295039\ttotal: 18.9s\tremaining: 3.98s\n",
      "408:\tlearn: 0.2293855\ttotal: 18.9s\tremaining: 3.93s\n",
      "409:\tlearn: 0.2292920\ttotal: 19s\tremaining: 3.88s\n",
      "410:\tlearn: 0.2292235\ttotal: 19s\tremaining: 3.84s\n",
      "411:\tlearn: 0.2291827\ttotal: 19.1s\tremaining: 3.79s\n",
      "412:\tlearn: 0.2291326\ttotal: 19.1s\tremaining: 3.75s\n",
      "413:\tlearn: 0.2290265\ttotal: 19.2s\tremaining: 3.7s\n",
      "414:\tlearn: 0.2289988\ttotal: 19.2s\tremaining: 3.65s\n",
      "415:\tlearn: 0.2289397\ttotal: 19.3s\tremaining: 3.61s\n",
      "416:\tlearn: 0.2289189\ttotal: 19.3s\tremaining: 3.56s\n",
      "417:\tlearn: 0.2288936\ttotal: 19.4s\tremaining: 3.52s\n",
      "418:\tlearn: 0.2288602\ttotal: 19.4s\tremaining: 3.48s\n",
      "419:\tlearn: 0.2288131\ttotal: 19.5s\tremaining: 3.43s\n",
      "420:\tlearn: 0.2287553\ttotal: 19.5s\tremaining: 3.38s\n",
      "421:\tlearn: 0.2287187\ttotal: 19.6s\tremaining: 3.34s\n",
      "422:\tlearn: 0.2287129\ttotal: 19.6s\tremaining: 3.29s\n",
      "423:\tlearn: 0.2286856\ttotal: 19.7s\tremaining: 3.25s\n",
      "424:\tlearn: 0.2286270\ttotal: 19.8s\tremaining: 3.21s\n",
      "425:\tlearn: 0.2286103\ttotal: 19.9s\tremaining: 3.17s\n",
      "426:\tlearn: 0.2285786\ttotal: 19.9s\tremaining: 3.13s\n",
      "427:\tlearn: 0.2284986\ttotal: 20s\tremaining: 3.08s\n",
      "428:\tlearn: 0.2284855\ttotal: 20s\tremaining: 3.04s\n",
      "429:\tlearn: 0.2284800\ttotal: 20.1s\tremaining: 2.99s\n",
      "430:\tlearn: 0.2283521\ttotal: 20.2s\tremaining: 2.95s\n",
      "431:\tlearn: 0.2283136\ttotal: 20.2s\tremaining: 2.9s\n",
      "432:\tlearn: 0.2282771\ttotal: 20.3s\tremaining: 2.85s\n",
      "433:\tlearn: 0.2282579\ttotal: 20.3s\tremaining: 2.81s\n",
      "434:\tlearn: 0.2281774\ttotal: 20.4s\tremaining: 2.76s\n",
      "435:\tlearn: 0.2281384\ttotal: 20.4s\tremaining: 2.72s\n",
      "436:\tlearn: 0.2280621\ttotal: 20.5s\tremaining: 2.67s\n",
      "437:\tlearn: 0.2278481\ttotal: 20.5s\tremaining: 2.62s\n",
      "438:\tlearn: 0.2278356\ttotal: 20.6s\tremaining: 2.58s\n",
      "439:\tlearn: 0.2277674\ttotal: 20.7s\tremaining: 2.54s\n",
      "440:\tlearn: 0.2276977\ttotal: 20.7s\tremaining: 2.49s\n",
      "441:\tlearn: 0.2276784\ttotal: 20.8s\tremaining: 2.44s\n",
      "442:\tlearn: 0.2276329\ttotal: 20.8s\tremaining: 2.4s\n",
      "443:\tlearn: 0.2276098\ttotal: 20.9s\tremaining: 2.35s\n",
      "444:\tlearn: 0.2273984\ttotal: 21s\tremaining: 2.31s\n",
      "445:\tlearn: 0.2273270\ttotal: 21s\tremaining: 2.26s\n",
      "446:\tlearn: 0.2272730\ttotal: 21.1s\tremaining: 2.22s\n",
      "447:\tlearn: 0.2272160\ttotal: 21.2s\tremaining: 2.17s\n",
      "448:\tlearn: 0.2271430\ttotal: 21.2s\tremaining: 2.13s\n",
      "449:\tlearn: 0.2270874\ttotal: 21.3s\tremaining: 2.08s\n",
      "450:\tlearn: 0.2270523\ttotal: 21.4s\tremaining: 2.04s\n",
      "451:\tlearn: 0.2269892\ttotal: 21.4s\tremaining: 1.99s\n",
      "452:\tlearn: 0.2269337\ttotal: 21.5s\tremaining: 1.94s\n",
      "453:\tlearn: 0.2268959\ttotal: 21.5s\tremaining: 1.9s\n",
      "454:\tlearn: 0.2268610\ttotal: 21.6s\tremaining: 1.85s\n",
      "455:\tlearn: 0.2267609\ttotal: 21.7s\tremaining: 1.8s\n",
      "456:\tlearn: 0.2267313\ttotal: 21.7s\tremaining: 1.76s\n",
      "457:\tlearn: 0.2266810\ttotal: 21.8s\tremaining: 1.71s\n",
      "458:\tlearn: 0.2266203\ttotal: 21.8s\tremaining: 1.66s\n",
      "459:\tlearn: 0.2265483\ttotal: 21.9s\tremaining: 1.61s\n",
      "460:\tlearn: 0.2264903\ttotal: 21.9s\tremaining: 1.57s\n",
      "461:\tlearn: 0.2264307\ttotal: 22s\tremaining: 1.52s\n",
      "462:\tlearn: 0.2263601\ttotal: 22s\tremaining: 1.47s\n",
      "463:\tlearn: 0.2263310\ttotal: 22.1s\tremaining: 1.43s\n",
      "464:\tlearn: 0.2262582\ttotal: 22.1s\tremaining: 1.38s\n",
      "465:\tlearn: 0.2262217\ttotal: 22.2s\tremaining: 1.33s\n",
      "466:\tlearn: 0.2261937\ttotal: 22.3s\tremaining: 1.29s\n",
      "467:\tlearn: 0.2260936\ttotal: 22.3s\tremaining: 1.24s\n",
      "468:\tlearn: 0.2260637\ttotal: 22.4s\tremaining: 1.19s\n",
      "469:\tlearn: 0.2260179\ttotal: 22.4s\tremaining: 1.15s\n",
      "470:\tlearn: 0.2259539\ttotal: 22.5s\tremaining: 1.1s\n",
      "471:\tlearn: 0.2258909\ttotal: 22.6s\tremaining: 1.05s\n",
      "472:\tlearn: 0.2258230\ttotal: 22.6s\tremaining: 1s\n",
      "473:\tlearn: 0.2257826\ttotal: 22.7s\tremaining: 956ms\n",
      "474:\tlearn: 0.2257294\ttotal: 22.7s\tremaining: 908ms\n",
      "475:\tlearn: 0.2256751\ttotal: 22.8s\tremaining: 861ms\n",
      "476:\tlearn: 0.2256010\ttotal: 22.8s\tremaining: 813ms\n",
      "477:\tlearn: 0.2255791\ttotal: 22.9s\tremaining: 765ms\n",
      "478:\tlearn: 0.2255574\ttotal: 22.9s\tremaining: 718ms\n",
      "479:\tlearn: 0.2255360\ttotal: 23s\tremaining: 670ms\n",
      "480:\tlearn: 0.2255287\ttotal: 23s\tremaining: 623ms\n",
      "481:\tlearn: 0.2255062\ttotal: 23.1s\tremaining: 575ms\n",
      "482:\tlearn: 0.2254530\ttotal: 23.2s\tremaining: 527ms\n",
      "483:\tlearn: 0.2254055\ttotal: 23.2s\tremaining: 480ms\n",
      "484:\tlearn: 0.2253440\ttotal: 23.3s\tremaining: 432ms\n",
      "485:\tlearn: 0.2253047\ttotal: 23.3s\tremaining: 384ms\n",
      "486:\tlearn: 0.2251772\ttotal: 23.4s\tremaining: 336ms\n",
      "487:\tlearn: 0.2250836\ttotal: 23.4s\tremaining: 288ms\n",
      "488:\tlearn: 0.2250279\ttotal: 23.5s\tremaining: 240ms\n",
      "489:\tlearn: 0.2249740\ttotal: 23.5s\tremaining: 192ms\n",
      "490:\tlearn: 0.2249020\ttotal: 23.6s\tremaining: 144ms\n"
     ]
    },
    {
     "name": "stdout",
     "output_type": "stream",
     "text": [
      "491:\tlearn: 0.2248902\ttotal: 23.6s\tremaining: 96ms\n",
      "492:\tlearn: 0.2248340\ttotal: 23.7s\tremaining: 48ms\n",
      "493:\tlearn: 0.2247867\ttotal: 23.7s\tremaining: 0us\n"
     ]
    },
    {
     "data": {
      "text/html": [
       "<style>#sk-container-id-7 {color: black;background-color: white;}#sk-container-id-7 pre{padding: 0;}#sk-container-id-7 div.sk-toggleable {background-color: white;}#sk-container-id-7 label.sk-toggleable__label {cursor: pointer;display: block;width: 100%;margin-bottom: 0;padding: 0.3em;box-sizing: border-box;text-align: center;}#sk-container-id-7 label.sk-toggleable__label-arrow:before {content: \"▸\";float: left;margin-right: 0.25em;color: #696969;}#sk-container-id-7 label.sk-toggleable__label-arrow:hover:before {color: black;}#sk-container-id-7 div.sk-estimator:hover label.sk-toggleable__label-arrow:before {color: black;}#sk-container-id-7 div.sk-toggleable__content {max-height: 0;max-width: 0;overflow: hidden;text-align: left;background-color: #f0f8ff;}#sk-container-id-7 div.sk-toggleable__content pre {margin: 0.2em;color: black;border-radius: 0.25em;background-color: #f0f8ff;}#sk-container-id-7 input.sk-toggleable__control:checked~div.sk-toggleable__content {max-height: 200px;max-width: 100%;overflow: auto;}#sk-container-id-7 input.sk-toggleable__control:checked~label.sk-toggleable__label-arrow:before {content: \"▾\";}#sk-container-id-7 div.sk-estimator input.sk-toggleable__control:checked~label.sk-toggleable__label {background-color: #d4ebff;}#sk-container-id-7 div.sk-label input.sk-toggleable__control:checked~label.sk-toggleable__label {background-color: #d4ebff;}#sk-container-id-7 input.sk-hidden--visually {border: 0;clip: rect(1px 1px 1px 1px);clip: rect(1px, 1px, 1px, 1px);height: 1px;margin: -1px;overflow: hidden;padding: 0;position: absolute;width: 1px;}#sk-container-id-7 div.sk-estimator {font-family: monospace;background-color: #f0f8ff;border: 1px dotted black;border-radius: 0.25em;box-sizing: border-box;margin-bottom: 0.5em;}#sk-container-id-7 div.sk-estimator:hover {background-color: #d4ebff;}#sk-container-id-7 div.sk-parallel-item::after {content: \"\";width: 100%;border-bottom: 1px solid gray;flex-grow: 1;}#sk-container-id-7 div.sk-label:hover label.sk-toggleable__label {background-color: #d4ebff;}#sk-container-id-7 div.sk-serial::before {content: \"\";position: absolute;border-left: 1px solid gray;box-sizing: border-box;top: 0;bottom: 0;left: 50%;z-index: 0;}#sk-container-id-7 div.sk-serial {display: flex;flex-direction: column;align-items: center;background-color: white;padding-right: 0.2em;padding-left: 0.2em;position: relative;}#sk-container-id-7 div.sk-item {position: relative;z-index: 1;}#sk-container-id-7 div.sk-parallel {display: flex;align-items: stretch;justify-content: center;background-color: white;position: relative;}#sk-container-id-7 div.sk-item::before, #sk-container-id-7 div.sk-parallel-item::before {content: \"\";position: absolute;border-left: 1px solid gray;box-sizing: border-box;top: 0;bottom: 0;left: 50%;z-index: -1;}#sk-container-id-7 div.sk-parallel-item {display: flex;flex-direction: column;z-index: 1;position: relative;background-color: white;}#sk-container-id-7 div.sk-parallel-item:first-child::after {align-self: flex-end;width: 50%;}#sk-container-id-7 div.sk-parallel-item:last-child::after {align-self: flex-start;width: 50%;}#sk-container-id-7 div.sk-parallel-item:only-child::after {width: 0;}#sk-container-id-7 div.sk-dashed-wrapped {border: 1px dashed gray;margin: 0 0.4em 0.5em 0.4em;box-sizing: border-box;padding-bottom: 0.4em;background-color: white;}#sk-container-id-7 div.sk-label label {font-family: monospace;font-weight: bold;display: inline-block;line-height: 1.2em;}#sk-container-id-7 div.sk-label-container {text-align: center;}#sk-container-id-7 div.sk-container {/* jupyter's `normalize.less` sets `[hidden] { display: none; }` but bootstrap.min.css set `[hidden] { display: none !important; }` so we also need the `!important` here to be able to override the default hidden behavior on the sphinx rendered scikit-learn.org. See: https://github.com/scikit-learn/scikit-learn/issues/21755 */display: inline-block !important;position: relative;}#sk-container-id-7 div.sk-text-repr-fallback {display: none;}</style><div id=\"sk-container-id-7\" class=\"sk-top-container\"><div class=\"sk-text-repr-fallback\"><pre>VotingClassifier(estimators=[(&#x27;XGBoost_Best&#x27;,\n",
       "                              XGBClassifier(base_score=0.2, booster=None,\n",
       "                                            callbacks=None,\n",
       "                                            colsample_bylevel=None,\n",
       "                                            colsample_bynode=None,\n",
       "                                            colsample_bytree=None,\n",
       "                                            early_stopping_rounds=None,\n",
       "                                            enable_categorical=False,\n",
       "                                            eval_metric=None, gamma=None,\n",
       "                                            gpu_id=None, grow_policy=None,\n",
       "                                            importance_type=None,\n",
       "                                            interaction_constraints=None,\n",
       "                                            learning_rate=0.1, max_...\n",
       "                                            reg_alpha=None, reg_lambda=None, ...)),\n",
       "                             (&#x27;CatBoost_Best&#x27;,\n",
       "                              &lt;catboost.core.CatBoostClassifier object at 0x0000023E03494340&gt;),\n",
       "                             (&#x27;LightGBM_Best&#x27;,\n",
       "                              LGBMClassifier(boosting_type=&#x27;dart&#x27;,\n",
       "                                             importance_type=&#x27;gain&#x27;,\n",
       "                                             learning_rate=0.18, max_bin=75,\n",
       "                                             max_depth=5, n_estimators=594,\n",
       "                                             num_leaves=300, objective=&#x27;binary&#x27;,\n",
       "                                             scale_pos_weight=2.3,\n",
       "                                             subsample_freq=2, verbosity=-1))],\n",
       "                 voting=&#x27;soft&#x27;, weights=[5, 5, 5.2])</pre><b>In a Jupyter environment, please rerun this cell to show the HTML representation or trust the notebook. <br />On GitHub, the HTML representation is unable to render, please try loading this page with nbviewer.org.</b></div><div class=\"sk-container\" hidden><div class=\"sk-item sk-dashed-wrapped\"><div class=\"sk-label-container\"><div class=\"sk-label sk-toggleable\"><input class=\"sk-toggleable__control sk-hidden--visually\" id=\"sk-estimator-id-9\" type=\"checkbox\" ><label for=\"sk-estimator-id-9\" class=\"sk-toggleable__label sk-toggleable__label-arrow\">VotingClassifier</label><div class=\"sk-toggleable__content\"><pre>VotingClassifier(estimators=[(&#x27;XGBoost_Best&#x27;,\n",
       "                              XGBClassifier(base_score=0.2, booster=None,\n",
       "                                            callbacks=None,\n",
       "                                            colsample_bylevel=None,\n",
       "                                            colsample_bynode=None,\n",
       "                                            colsample_bytree=None,\n",
       "                                            early_stopping_rounds=None,\n",
       "                                            enable_categorical=False,\n",
       "                                            eval_metric=None, gamma=None,\n",
       "                                            gpu_id=None, grow_policy=None,\n",
       "                                            importance_type=None,\n",
       "                                            interaction_constraints=None,\n",
       "                                            learning_rate=0.1, max_...\n",
       "                                            reg_alpha=None, reg_lambda=None, ...)),\n",
       "                             (&#x27;CatBoost_Best&#x27;,\n",
       "                              &lt;catboost.core.CatBoostClassifier object at 0x0000023E03494340&gt;),\n",
       "                             (&#x27;LightGBM_Best&#x27;,\n",
       "                              LGBMClassifier(boosting_type=&#x27;dart&#x27;,\n",
       "                                             importance_type=&#x27;gain&#x27;,\n",
       "                                             learning_rate=0.18, max_bin=75,\n",
       "                                             max_depth=5, n_estimators=594,\n",
       "                                             num_leaves=300, objective=&#x27;binary&#x27;,\n",
       "                                             scale_pos_weight=2.3,\n",
       "                                             subsample_freq=2, verbosity=-1))],\n",
       "                 voting=&#x27;soft&#x27;, weights=[5, 5, 5.2])</pre></div></div></div><div class=\"sk-parallel\"><div class=\"sk-parallel-item\"><div class=\"sk-item\"><div class=\"sk-label-container\"><div class=\"sk-label sk-toggleable\"><label>XGBoost_Best</label></div></div><div class=\"sk-serial\"><div class=\"sk-item\"><div class=\"sk-estimator sk-toggleable\"><input class=\"sk-toggleable__control sk-hidden--visually\" id=\"sk-estimator-id-10\" type=\"checkbox\" ><label for=\"sk-estimator-id-10\" class=\"sk-toggleable__label sk-toggleable__label-arrow\">XGBClassifier</label><div class=\"sk-toggleable__content\"><pre>XGBClassifier(base_score=0.2, booster=None, callbacks=None,\n",
       "              colsample_bylevel=None, colsample_bynode=None,\n",
       "              colsample_bytree=None, early_stopping_rounds=None,\n",
       "              enable_categorical=False, eval_metric=None, gamma=None,\n",
       "              gpu_id=None, grow_policy=None, importance_type=None,\n",
       "              interaction_constraints=None, learning_rate=0.1, max_bin=None,\n",
       "              max_cat_to_onehot=None, max_delta_step=None, max_depth=5,\n",
       "              max_leaves=None, min_child_weight=None, missing=nan,\n",
       "              monotone_constraints=None, n_estimators=494, n_jobs=None,\n",
       "              num_parallel_tree=None, predictor=None, random_state=None,\n",
       "              reg_alpha=None, reg_lambda=None, ...)</pre></div></div></div></div></div></div><div class=\"sk-parallel-item\"><div class=\"sk-item\"><div class=\"sk-label-container\"><div class=\"sk-label sk-toggleable\"><label>CatBoost_Best</label></div></div><div class=\"sk-serial\"><div class=\"sk-item\"><div class=\"sk-estimator sk-toggleable\"><input class=\"sk-toggleable__control sk-hidden--visually\" id=\"sk-estimator-id-11\" type=\"checkbox\" ><label for=\"sk-estimator-id-11\" class=\"sk-toggleable__label sk-toggleable__label-arrow\">CatBoostClassifier</label><div class=\"sk-toggleable__content\"><pre>&lt;catboost.core.CatBoostClassifier object at 0x0000023E03494340&gt;</pre></div></div></div></div></div></div><div class=\"sk-parallel-item\"><div class=\"sk-item\"><div class=\"sk-label-container\"><div class=\"sk-label sk-toggleable\"><label>LightGBM_Best</label></div></div><div class=\"sk-serial\"><div class=\"sk-item\"><div class=\"sk-estimator sk-toggleable\"><input class=\"sk-toggleable__control sk-hidden--visually\" id=\"sk-estimator-id-12\" type=\"checkbox\" ><label for=\"sk-estimator-id-12\" class=\"sk-toggleable__label sk-toggleable__label-arrow\">LGBMClassifier</label><div class=\"sk-toggleable__content\"><pre>LGBMClassifier(boosting_type=&#x27;dart&#x27;, importance_type=&#x27;gain&#x27;, learning_rate=0.18,\n",
       "               max_bin=75, max_depth=5, n_estimators=594, num_leaves=300,\n",
       "               objective=&#x27;binary&#x27;, scale_pos_weight=2.3, subsample_freq=2,\n",
       "               verbosity=-1)</pre></div></div></div></div></div></div></div></div></div></div>"
      ],
      "text/plain": [
       "VotingClassifier(estimators=[('XGBoost_Best',\n",
       "                              XGBClassifier(base_score=0.2, booster=None,\n",
       "                                            callbacks=None,\n",
       "                                            colsample_bylevel=None,\n",
       "                                            colsample_bynode=None,\n",
       "                                            colsample_bytree=None,\n",
       "                                            early_stopping_rounds=None,\n",
       "                                            enable_categorical=False,\n",
       "                                            eval_metric=None, gamma=None,\n",
       "                                            gpu_id=None, grow_policy=None,\n",
       "                                            importance_type=None,\n",
       "                                            interaction_constraints=None,\n",
       "                                            learning_rate=0.1, max_...\n",
       "                                            reg_alpha=None, reg_lambda=None, ...)),\n",
       "                             ('CatBoost_Best',\n",
       "                              <catboost.core.CatBoostClassifier object at 0x0000023E03494340>),\n",
       "                             ('LightGBM_Best',\n",
       "                              LGBMClassifier(boosting_type='dart',\n",
       "                                             importance_type='gain',\n",
       "                                             learning_rate=0.18, max_bin=75,\n",
       "                                             max_depth=5, n_estimators=594,\n",
       "                                             num_leaves=300, objective='binary',\n",
       "                                             scale_pos_weight=2.3,\n",
       "                                             subsample_freq=2, verbosity=-1))],\n",
       "                 voting='soft', weights=[5, 5, 5.2])"
      ]
     },
     "execution_count": 74,
     "metadata": {},
     "output_type": "execute_result"
    }
   ],
   "source": [
    "voting_model.fit(x_sc,y)"
   ]
  },
  {
   "cell_type": "code",
   "execution_count": 75,
   "id": "1bf9efab",
   "metadata": {},
   "outputs": [
    {
     "name": "stdout",
     "output_type": "stream",
     "text": [
      "0.6316507503410642\n",
      "0.6279300099042587\n"
     ]
    }
   ],
   "source": [
    "print(f1_score(y_test,voting_model.predict(x_test)))\n",
    "print(f1_score(y_train,voting_model.predict(x_train)))\n",
    "#0.5252854812398042,0.5281173594132029.,0.5281173594132029.,0.525974025974026"
   ]
  },
  {
   "cell_type": "code",
   "execution_count": 76,
   "id": "0f0f076e",
   "metadata": {},
   "outputs": [
    {
     "name": "stdout",
     "output_type": "stream",
     "text": [
      "[[39690   409]\n",
      " [ 1845  1902]] \n",
      "\n",
      "[[9959   82]\n",
      " [ 458  463]]\n"
     ]
    }
   ],
   "source": [
    "print(confusion_matrix(y_train,voting_model.predict(x_train)),\"\\n\")\n",
    "print(confusion_matrix(y_test,voting_model.predict(x_test)))"
   ]
  },
  {
   "cell_type": "code",
   "execution_count": 77,
   "id": "984f3238",
   "metadata": {},
   "outputs": [],
   "source": [
    "# append the output into test dataset\n",
    "sub=pd.DataFrame({\n",
    "        \"employee_id\": test_df[\"employee_id\"],\n",
    "        \"is_promoted\": voting_model.predict(test_scaler) })\n",
    "sub.to_csv(\"frame_2.csv\",index = False)"
   ]
  }
 ],
 "metadata": {
  "kernelspec": {
   "display_name": "Python 3 (ipykernel)",
   "language": "python",
   "name": "python3"
  },
  "language_info": {
   "codemirror_mode": {
    "name": "ipython",
    "version": 3
   },
   "file_extension": ".py",
   "mimetype": "text/x-python",
   "name": "python",
   "nbconvert_exporter": "python",
   "pygments_lexer": "ipython3",
   "version": "3.9.12"
  }
 },
 "nbformat": 4,
 "nbformat_minor": 5
}
